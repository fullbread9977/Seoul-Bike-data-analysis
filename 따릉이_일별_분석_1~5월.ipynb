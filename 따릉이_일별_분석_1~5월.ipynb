{
  "cells": [
    {
      "cell_type": "markdown",
      "metadata": {
        "id": "view-in-github",
        "colab_type": "text"
      },
      "source": [
        "<a href=\"https://colab.research.google.com/github/fullbread9977/Seoul-Bike-data-analysis/blob/main/%EB%94%B0%EB%A6%89%EC%9D%B4_%EC%9D%BC%EB%B3%84_%EB%B6%84%EC%84%9D_1~5%EC%9B%94.ipynb\" target=\"_parent\"><img src=\"https://colab.research.google.com/assets/colab-badge.svg\" alt=\"Open In Colab\"/></a>"
      ]
    },
    {
      "cell_type": "markdown",
      "metadata": {
        "id": "q3bwWEINdTyS"
      },
      "source": [
        "서울 열린데이터 광장 데이터사용 [다운로드](https://data.seoul.go.kr/dataList/OA-15246/F/1/datasetView.do#)"
      ]
    },
    {
      "cell_type": "code",
      "execution_count": null,
      "metadata": {
        "id": "jmJcoIYBjf8c",
        "colab": {
          "base_uri": "https://localhost:8080/"
        },
        "outputId": "8704363c-3314-4184-8f54-e5dd83fff316"
      },
      "outputs": [
        {
          "output_type": "stream",
          "name": "stdout",
          "text": [
            "Mounted at /content/drive\n"
          ]
        }
      ],
      "source": [
        "from google.colab import drive\n",
        "drive.mount('/content/drive')"
      ]
    },
    {
      "cell_type": "markdown",
      "metadata": {
        "id": "wjY0l9kDQz6m"
      },
      "source": [
        "구글 드라이브 런타임     \n",
        "- 연결하여 내 드라이브안에 저장되어있는 파일을 쓰기 위함"
      ]
    },
    {
      "cell_type": "code",
      "execution_count": null,
      "metadata": {
        "id": "ZY6hbKfqjYSv"
      },
      "outputs": [],
      "source": [
        "import pandas as pd\n",
        "import pandas_profiling\n",
        "import numpy as np\n",
        "import matplotlib.pyplot as plt\n",
        "import seaborn as sns\n",
        "from matplotlib import font_manager, rc\n",
        "plt.rcParams['font.family'] = 'NanumGothic'"
      ]
    },
    {
      "cell_type": "markdown",
      "metadata": {
        "id": "A6isQ7EbGWFj"
      },
      "source": [
        "**필요한 라이브러리 설치**   \n",
        "- pandas : 엑셀같은 표를 그리기위해 사용되는 패키지\n",
        "- pandas_profiling : 데이터의 상태를 보기위해 사용되는 패키지\n",
        "- numpy : 행렬 연산에 편의성을 제공하는 패키지 \n",
        "- matplotlib.pyplot : 데이터 시각화, 여러가지 표를 그리기 위해 사용하는 패키지\n",
        "- seaborn : 데이터분포 시각화를 위한 패키지\n",
        "- matplotlib: 그래프의 rc에 한글 사용을 위한 패키지\n",
        "- '남산고딕'이라는 한글 폰트를 사용\n"
      ]
    },
    {
      "cell_type": "code",
      "execution_count": null,
      "metadata": {
        "colab": {
          "base_uri": "https://localhost:8080/",
          "height": 423
        },
        "id": "8C9kMEUhjYSz",
        "outputId": "1c36d83e-af7f-417d-b6d5-cf42b1374112"
      },
      "outputs": [
        {
          "output_type": "execute_result",
          "data": {
            "text/html": [
              "<div>\n",
              "<style scoped>\n",
              "    .dataframe tbody tr th:only-of-type {\n",
              "        vertical-align: middle;\n",
              "    }\n",
              "\n",
              "    .dataframe tbody tr th {\n",
              "        vertical-align: top;\n",
              "    }\n",
              "\n",
              "    .dataframe thead th {\n",
              "        text-align: right;\n",
              "    }\n",
              "</style>\n",
              "<table border=\"1\" class=\"dataframe\">\n",
              "  <thead>\n",
              "    <tr style=\"text-align: right;\">\n",
              "      <th></th>\n",
              "      <th>대여일자</th>\n",
              "      <th>대여소번호</th>\n",
              "      <th>대여소</th>\n",
              "      <th>대여구분코드</th>\n",
              "      <th>성별</th>\n",
              "      <th>연령대코드</th>\n",
              "      <th>이용건수</th>\n",
              "      <th>운동량</th>\n",
              "      <th>탄소량</th>\n",
              "      <th>이동거리(M)</th>\n",
              "      <th>이용시간(분)</th>\n",
              "    </tr>\n",
              "  </thead>\n",
              "  <tbody>\n",
              "    <tr>\n",
              "      <th>0</th>\n",
              "      <td>2020-01-01</td>\n",
              "      <td>101</td>\n",
              "      <td>101. (구)합정동 주민센터</td>\n",
              "      <td>일일(회원)</td>\n",
              "      <td>\\N</td>\n",
              "      <td>AGE_002</td>\n",
              "      <td>1</td>\n",
              "      <td>0.00</td>\n",
              "      <td>0.00</td>\n",
              "      <td>0.0</td>\n",
              "      <td>29</td>\n",
              "    </tr>\n",
              "    <tr>\n",
              "      <th>1</th>\n",
              "      <td>2020-01-01</td>\n",
              "      <td>101</td>\n",
              "      <td>101. (구)합정동 주민센터</td>\n",
              "      <td>정기</td>\n",
              "      <td>\\N</td>\n",
              "      <td>AGE_002</td>\n",
              "      <td>2</td>\n",
              "      <td>80.54</td>\n",
              "      <td>0.75</td>\n",
              "      <td>3240.0</td>\n",
              "      <td>52</td>\n",
              "    </tr>\n",
              "    <tr>\n",
              "      <th>2</th>\n",
              "      <td>2020-01-01</td>\n",
              "      <td>101</td>\n",
              "      <td>101. (구)합정동 주민센터</td>\n",
              "      <td>정기</td>\n",
              "      <td>F</td>\n",
              "      <td>AGE_002</td>\n",
              "      <td>1</td>\n",
              "      <td>72.07</td>\n",
              "      <td>0.75</td>\n",
              "      <td>3250.0</td>\n",
              "      <td>21</td>\n",
              "    </tr>\n",
              "    <tr>\n",
              "      <th>3</th>\n",
              "      <td>2020-01-01</td>\n",
              "      <td>101</td>\n",
              "      <td>101. (구)합정동 주민센터</td>\n",
              "      <td>정기</td>\n",
              "      <td>F</td>\n",
              "      <td>AGE_004</td>\n",
              "      <td>1</td>\n",
              "      <td>157.56</td>\n",
              "      <td>1.59</td>\n",
              "      <td>6860.0</td>\n",
              "      <td>46</td>\n",
              "    </tr>\n",
              "    <tr>\n",
              "      <th>4</th>\n",
              "      <td>2020-01-01</td>\n",
              "      <td>101</td>\n",
              "      <td>101. (구)합정동 주민센터</td>\n",
              "      <td>정기</td>\n",
              "      <td>M</td>\n",
              "      <td>AGE_002</td>\n",
              "      <td>1</td>\n",
              "      <td>39.99</td>\n",
              "      <td>0.23</td>\n",
              "      <td>990.0</td>\n",
              "      <td>5</td>\n",
              "    </tr>\n",
              "    <tr>\n",
              "      <th>...</th>\n",
              "      <td>...</td>\n",
              "      <td>...</td>\n",
              "      <td>...</td>\n",
              "      <td>...</td>\n",
              "      <td>...</td>\n",
              "      <td>...</td>\n",
              "      <td>...</td>\n",
              "      <td>...</td>\n",
              "      <td>...</td>\n",
              "      <td>...</td>\n",
              "      <td>...</td>\n",
              "    </tr>\n",
              "    <tr>\n",
              "      <th>3052548</th>\n",
              "      <td>2020-05-31</td>\n",
              "      <td>3560</td>\n",
              "      <td>3560.성동구 견인차량 보관소 앞</td>\n",
              "      <td>정기</td>\n",
              "      <td>\\N</td>\n",
              "      <td>AGE_008</td>\n",
              "      <td>1</td>\n",
              "      <td>0.00</td>\n",
              "      <td>0.00</td>\n",
              "      <td>0.0</td>\n",
              "      <td>15</td>\n",
              "    </tr>\n",
              "    <tr>\n",
              "      <th>3052549</th>\n",
              "      <td>2020-05-31</td>\n",
              "      <td>3560</td>\n",
              "      <td>3560.성동구 견인차량 보관소 앞</td>\n",
              "      <td>정기</td>\n",
              "      <td>M</td>\n",
              "      <td>AGE_002</td>\n",
              "      <td>1</td>\n",
              "      <td>0.00</td>\n",
              "      <td>0.00</td>\n",
              "      <td>0.0</td>\n",
              "      <td>34</td>\n",
              "    </tr>\n",
              "    <tr>\n",
              "      <th>3052550</th>\n",
              "      <td>2020-05-31</td>\n",
              "      <td>3560</td>\n",
              "      <td>3560.성동구 견인차량 보관소 앞</td>\n",
              "      <td>정기</td>\n",
              "      <td>M</td>\n",
              "      <td>AGE_003</td>\n",
              "      <td>1</td>\n",
              "      <td>0.00</td>\n",
              "      <td>0.00</td>\n",
              "      <td>0.0</td>\n",
              "      <td>13</td>\n",
              "    </tr>\n",
              "    <tr>\n",
              "      <th>3052551</th>\n",
              "      <td>2020-05-31</td>\n",
              "      <td>3560</td>\n",
              "      <td>3560.성동구 견인차량 보관소 앞</td>\n",
              "      <td>정기</td>\n",
              "      <td>M</td>\n",
              "      <td>AGE_004</td>\n",
              "      <td>2</td>\n",
              "      <td>0.00</td>\n",
              "      <td>0.00</td>\n",
              "      <td>0.0</td>\n",
              "      <td>20</td>\n",
              "    </tr>\n",
              "    <tr>\n",
              "      <th>3052552</th>\n",
              "      <td>2020-05-31</td>\n",
              "      <td>3560</td>\n",
              "      <td>3560.성동구 견인차량 보관소 앞</td>\n",
              "      <td>정기</td>\n",
              "      <td>M</td>\n",
              "      <td>AGE_005</td>\n",
              "      <td>1</td>\n",
              "      <td>0.00</td>\n",
              "      <td>0.00</td>\n",
              "      <td>0.0</td>\n",
              "      <td>14</td>\n",
              "    </tr>\n",
              "  </tbody>\n",
              "</table>\n",
              "<p>3052553 rows × 11 columns</p>\n",
              "</div>"
            ],
            "text/plain": [
              "               대여일자  대여소번호                  대여소  ...   탄소량 이동거리(M) 이용시간(분)\n",
              "0        2020-01-01    101     101. (구)합정동 주민센터  ...  0.00     0.0      29\n",
              "1        2020-01-01    101     101. (구)합정동 주민센터  ...  0.75  3240.0      52\n",
              "2        2020-01-01    101     101. (구)합정동 주민센터  ...  0.75  3250.0      21\n",
              "3        2020-01-01    101     101. (구)합정동 주민센터  ...  1.59  6860.0      46\n",
              "4        2020-01-01    101     101. (구)합정동 주민센터  ...  0.23   990.0       5\n",
              "...             ...    ...                  ...  ...   ...     ...     ...\n",
              "3052548  2020-05-31   3560  3560.성동구 견인차량 보관소 앞  ...  0.00     0.0      15\n",
              "3052549  2020-05-31   3560  3560.성동구 견인차량 보관소 앞  ...  0.00     0.0      34\n",
              "3052550  2020-05-31   3560  3560.성동구 견인차량 보관소 앞  ...  0.00     0.0      13\n",
              "3052551  2020-05-31   3560  3560.성동구 견인차량 보관소 앞  ...  0.00     0.0      20\n",
              "3052552  2020-05-31   3560  3560.성동구 견인차량 보관소 앞  ...  0.00     0.0      14\n",
              "\n",
              "[3052553 rows x 11 columns]"
            ]
          },
          "metadata": {},
          "execution_count": 3
        }
      ],
      "source": [
        "df = pd.read_csv(\"/content/drive/MyDrive/seoulbiohub/공공자전거 이용정보(일별)_2020.01_05.csv\", \n",
        "                 encoding=\"cp949\")\n",
        "df"
      ]
    },
    {
      "cell_type": "markdown",
      "metadata": {
        "id": "flvj3Bh4NBfl"
      },
      "source": [
        "공공데이터 1~5월 사용, 데이터 3,052,553 건 , 11 개의 컬럼"
      ]
    },
    {
      "cell_type": "code",
      "execution_count": null,
      "metadata": {
        "colab": {
          "base_uri": "https://localhost:8080/"
        },
        "id": "8_rFnQ6gjYS2",
        "scrolled": false,
        "outputId": "6f5a9774-1f30-4565-80c6-3378401135de"
      },
      "outputs": [
        {
          "output_type": "stream",
          "name": "stdout",
          "text": [
            "<class 'pandas.core.frame.DataFrame'>\n",
            "RangeIndex: 3052553 entries, 0 to 3052552\n",
            "Data columns (total 11 columns):\n",
            " #   Column   Dtype  \n",
            "---  ------   -----  \n",
            " 0   대여일자     object \n",
            " 1   대여소번호    int64  \n",
            " 2   대여소      object \n",
            " 3   대여구분코드   object \n",
            " 4   성별       object \n",
            " 5   연령대코드    object \n",
            " 6   이용건수     int64  \n",
            " 7   운동량      object \n",
            " 8   탄소량      object \n",
            " 9   이동거리(M)  float64\n",
            " 10  이용시간(분)  int64  \n",
            "dtypes: float64(1), int64(3), object(7)\n",
            "memory usage: 256.2+ MB\n"
          ]
        }
      ],
      "source": [
        "df.info()"
      ]
    },
    {
      "cell_type": "markdown",
      "metadata": {
        "id": "OHyX64TRBomS"
      },
      "source": [
        "데이터의 상태를 보기 위해 df.info()를 입력, 운동량과 탄소량이 문자열로 되어있다."
      ]
    },
    {
      "cell_type": "code",
      "execution_count": null,
      "metadata": {
        "id": "FwcFbjskjYS3",
        "scrolled": true
      },
      "outputs": [],
      "source": [
        "def clean(x):\n",
        "    list(x)\n",
        "    return x.strip().replace(\"\\n\",\"\").replace('\\\\N',\"\")"
      ]
    },
    {
      "cell_type": "markdown",
      "metadata": {
        "id": "C0b1tfWfB7J5"
      },
      "source": [
        "문자열의 이상치를 제거하기 위해 /n을 전부 공백으로 바꿔주기 위해 작성한 함수 clean(x)"
      ]
    },
    {
      "cell_type": "code",
      "execution_count": null,
      "metadata": {
        "colab": {
          "base_uri": "https://localhost:8080/",
          "height": 423
        },
        "id": "Zx9RqZMtjYS3",
        "outputId": "f717a2b2-bdb9-4316-de10-1c700a629862"
      },
      "outputs": [
        {
          "output_type": "execute_result",
          "data": {
            "text/html": [
              "<div>\n",
              "<style scoped>\n",
              "    .dataframe tbody tr th:only-of-type {\n",
              "        vertical-align: middle;\n",
              "    }\n",
              "\n",
              "    .dataframe tbody tr th {\n",
              "        vertical-align: top;\n",
              "    }\n",
              "\n",
              "    .dataframe thead th {\n",
              "        text-align: right;\n",
              "    }\n",
              "</style>\n",
              "<table border=\"1\" class=\"dataframe\">\n",
              "  <thead>\n",
              "    <tr style=\"text-align: right;\">\n",
              "      <th></th>\n",
              "      <th>대여일자</th>\n",
              "      <th>대여소번호</th>\n",
              "      <th>대여소</th>\n",
              "      <th>대여구분코드</th>\n",
              "      <th>성별</th>\n",
              "      <th>연령대코드</th>\n",
              "      <th>이용건수</th>\n",
              "      <th>운동량</th>\n",
              "      <th>탄소량</th>\n",
              "      <th>이동거리(M)</th>\n",
              "      <th>이용시간(분)</th>\n",
              "    </tr>\n",
              "  </thead>\n",
              "  <tbody>\n",
              "    <tr>\n",
              "      <th>0</th>\n",
              "      <td>2020-01-01</td>\n",
              "      <td>101</td>\n",
              "      <td>101. (구)합정동 주민센터</td>\n",
              "      <td>일일(회원)</td>\n",
              "      <td>\\N</td>\n",
              "      <td>AGE_002</td>\n",
              "      <td>1</td>\n",
              "      <td>0.00</td>\n",
              "      <td>0.00</td>\n",
              "      <td>0.0</td>\n",
              "      <td>29</td>\n",
              "    </tr>\n",
              "    <tr>\n",
              "      <th>1</th>\n",
              "      <td>2020-01-01</td>\n",
              "      <td>101</td>\n",
              "      <td>101. (구)합정동 주민센터</td>\n",
              "      <td>정기</td>\n",
              "      <td>\\N</td>\n",
              "      <td>AGE_002</td>\n",
              "      <td>2</td>\n",
              "      <td>80.54</td>\n",
              "      <td>0.75</td>\n",
              "      <td>3240.0</td>\n",
              "      <td>52</td>\n",
              "    </tr>\n",
              "    <tr>\n",
              "      <th>2</th>\n",
              "      <td>2020-01-01</td>\n",
              "      <td>101</td>\n",
              "      <td>101. (구)합정동 주민센터</td>\n",
              "      <td>정기</td>\n",
              "      <td>F</td>\n",
              "      <td>AGE_002</td>\n",
              "      <td>1</td>\n",
              "      <td>72.07</td>\n",
              "      <td>0.75</td>\n",
              "      <td>3250.0</td>\n",
              "      <td>21</td>\n",
              "    </tr>\n",
              "    <tr>\n",
              "      <th>3</th>\n",
              "      <td>2020-01-01</td>\n",
              "      <td>101</td>\n",
              "      <td>101. (구)합정동 주민센터</td>\n",
              "      <td>정기</td>\n",
              "      <td>F</td>\n",
              "      <td>AGE_004</td>\n",
              "      <td>1</td>\n",
              "      <td>157.56</td>\n",
              "      <td>1.59</td>\n",
              "      <td>6860.0</td>\n",
              "      <td>46</td>\n",
              "    </tr>\n",
              "    <tr>\n",
              "      <th>4</th>\n",
              "      <td>2020-01-01</td>\n",
              "      <td>101</td>\n",
              "      <td>101. (구)합정동 주민센터</td>\n",
              "      <td>정기</td>\n",
              "      <td>M</td>\n",
              "      <td>AGE_002</td>\n",
              "      <td>1</td>\n",
              "      <td>39.99</td>\n",
              "      <td>0.23</td>\n",
              "      <td>990.0</td>\n",
              "      <td>5</td>\n",
              "    </tr>\n",
              "    <tr>\n",
              "      <th>...</th>\n",
              "      <td>...</td>\n",
              "      <td>...</td>\n",
              "      <td>...</td>\n",
              "      <td>...</td>\n",
              "      <td>...</td>\n",
              "      <td>...</td>\n",
              "      <td>...</td>\n",
              "      <td>...</td>\n",
              "      <td>...</td>\n",
              "      <td>...</td>\n",
              "      <td>...</td>\n",
              "    </tr>\n",
              "    <tr>\n",
              "      <th>3052548</th>\n",
              "      <td>2020-05-31</td>\n",
              "      <td>3560</td>\n",
              "      <td>3560.성동구 견인차량 보관소 앞</td>\n",
              "      <td>정기</td>\n",
              "      <td>\\N</td>\n",
              "      <td>AGE_008</td>\n",
              "      <td>1</td>\n",
              "      <td>0.00</td>\n",
              "      <td>0.00</td>\n",
              "      <td>0.0</td>\n",
              "      <td>15</td>\n",
              "    </tr>\n",
              "    <tr>\n",
              "      <th>3052549</th>\n",
              "      <td>2020-05-31</td>\n",
              "      <td>3560</td>\n",
              "      <td>3560.성동구 견인차량 보관소 앞</td>\n",
              "      <td>정기</td>\n",
              "      <td>M</td>\n",
              "      <td>AGE_002</td>\n",
              "      <td>1</td>\n",
              "      <td>0.00</td>\n",
              "      <td>0.00</td>\n",
              "      <td>0.0</td>\n",
              "      <td>34</td>\n",
              "    </tr>\n",
              "    <tr>\n",
              "      <th>3052550</th>\n",
              "      <td>2020-05-31</td>\n",
              "      <td>3560</td>\n",
              "      <td>3560.성동구 견인차량 보관소 앞</td>\n",
              "      <td>정기</td>\n",
              "      <td>M</td>\n",
              "      <td>AGE_003</td>\n",
              "      <td>1</td>\n",
              "      <td>0.00</td>\n",
              "      <td>0.00</td>\n",
              "      <td>0.0</td>\n",
              "      <td>13</td>\n",
              "    </tr>\n",
              "    <tr>\n",
              "      <th>3052551</th>\n",
              "      <td>2020-05-31</td>\n",
              "      <td>3560</td>\n",
              "      <td>3560.성동구 견인차량 보관소 앞</td>\n",
              "      <td>정기</td>\n",
              "      <td>M</td>\n",
              "      <td>AGE_004</td>\n",
              "      <td>2</td>\n",
              "      <td>0.00</td>\n",
              "      <td>0.00</td>\n",
              "      <td>0.0</td>\n",
              "      <td>20</td>\n",
              "    </tr>\n",
              "    <tr>\n",
              "      <th>3052552</th>\n",
              "      <td>2020-05-31</td>\n",
              "      <td>3560</td>\n",
              "      <td>3560.성동구 견인차량 보관소 앞</td>\n",
              "      <td>정기</td>\n",
              "      <td>M</td>\n",
              "      <td>AGE_005</td>\n",
              "      <td>1</td>\n",
              "      <td>0.00</td>\n",
              "      <td>0.00</td>\n",
              "      <td>0.0</td>\n",
              "      <td>14</td>\n",
              "    </tr>\n",
              "  </tbody>\n",
              "</table>\n",
              "<p>3052553 rows × 11 columns</p>\n",
              "</div>"
            ],
            "text/plain": [
              "               대여일자  대여소번호                  대여소  ...   탄소량 이동거리(M) 이용시간(분)\n",
              "0        2020-01-01    101     101. (구)합정동 주민센터  ...  0.00     0.0      29\n",
              "1        2020-01-01    101     101. (구)합정동 주민센터  ...  0.75  3240.0      52\n",
              "2        2020-01-01    101     101. (구)합정동 주민센터  ...  0.75  3250.0      21\n",
              "3        2020-01-01    101     101. (구)합정동 주민센터  ...  1.59  6860.0      46\n",
              "4        2020-01-01    101     101. (구)합정동 주민센터  ...  0.23   990.0       5\n",
              "...             ...    ...                  ...  ...   ...     ...     ...\n",
              "3052548  2020-05-31   3560  3560.성동구 견인차량 보관소 앞  ...  0.00     0.0      15\n",
              "3052549  2020-05-31   3560  3560.성동구 견인차량 보관소 앞  ...  0.00     0.0      34\n",
              "3052550  2020-05-31   3560  3560.성동구 견인차량 보관소 앞  ...  0.00     0.0      13\n",
              "3052551  2020-05-31   3560  3560.성동구 견인차량 보관소 앞  ...  0.00     0.0      20\n",
              "3052552  2020-05-31   3560  3560.성동구 견인차량 보관소 앞  ...  0.00     0.0      14\n",
              "\n",
              "[3052553 rows x 11 columns]"
            ]
          },
          "metadata": {},
          "execution_count": 6
        }
      ],
      "source": [
        "df"
      ]
    },
    {
      "cell_type": "markdown",
      "metadata": {
        "id": "ErqDj2kZCLDk"
      },
      "source": [
        "표를 읽어온다"
      ]
    },
    {
      "cell_type": "code",
      "execution_count": null,
      "metadata": {
        "colab": {
          "base_uri": "https://localhost:8080/"
        },
        "id": "OMcfFwIyjYS4",
        "outputId": "0f536232-3e0b-41cd-c9aa-2e43f7ed5978"
      },
      "outputs": [
        {
          "output_type": "execute_result",
          "data": {
            "text/plain": [
              "0            0.00\n",
              "1           80.54\n",
              "2           72.07\n",
              "3          157.56\n",
              "4           39.99\n",
              "            ...  \n",
              "3052548      0.00\n",
              "3052549      0.00\n",
              "3052550      0.00\n",
              "3052551      0.00\n",
              "3052552      0.00\n",
              "Name: 운동량, Length: 3052553, dtype: object"
            ]
          },
          "metadata": {},
          "execution_count": 7
        }
      ],
      "source": [
        "df['운동량']"
      ]
    },
    {
      "cell_type": "markdown",
      "metadata": {
        "id": "q-KRroVtCYf1"
      },
      "source": [
        "운동량의 데이터타입은 문자열로 되어있는 것을 볼 수 있다"
      ]
    },
    {
      "cell_type": "code",
      "execution_count": null,
      "metadata": {
        "id": "9xTa-iyujYS5"
      },
      "outputs": [],
      "source": [
        "df['운동량'] = df['운동량'].apply(lambda x : clean(x) )"
      ]
    },
    {
      "cell_type": "markdown",
      "metadata": {
        "id": "i_k5k7RICdyV"
      },
      "source": [
        "운동량의 이상치를 apply를 사용하여 /n을 공백으로 대체"
      ]
    },
    {
      "cell_type": "code",
      "execution_count": null,
      "metadata": {
        "id": "gSNWwuxwjYS6",
        "scrolled": true
      },
      "outputs": [],
      "source": [
        "df['운동량'] = pd.to_numeric(df['운동량']) "
      ]
    },
    {
      "cell_type": "markdown",
      "metadata": {
        "id": "FphUeC8ZCl-5"
      },
      "source": [
        "운동량을 숫자형으로 형 변환을 해준다"
      ]
    },
    {
      "cell_type": "code",
      "execution_count": null,
      "metadata": {
        "id": "rdnqIiQMjYS7",
        "colab": {
          "base_uri": "https://localhost:8080/"
        },
        "outputId": "1a9d2f2d-8c7b-4d1a-f2e2-4daaa6211b9f"
      },
      "outputs": [
        {
          "output_type": "stream",
          "name": "stdout",
          "text": [
            "<class 'pandas.core.frame.DataFrame'>\n",
            "RangeIndex: 3052553 entries, 0 to 3052552\n",
            "Data columns (total 11 columns):\n",
            " #   Column   Dtype  \n",
            "---  ------   -----  \n",
            " 0   대여일자     object \n",
            " 1   대여소번호    int64  \n",
            " 2   대여소      object \n",
            " 3   대여구분코드   object \n",
            " 4   성별       object \n",
            " 5   연령대코드    object \n",
            " 6   이용건수     int64  \n",
            " 7   운동량      float64\n",
            " 8   탄소량      object \n",
            " 9   이동거리(M)  float64\n",
            " 10  이용시간(분)  int64  \n",
            "dtypes: float64(2), int64(3), object(6)\n",
            "memory usage: 256.2+ MB\n"
          ]
        }
      ],
      "source": [
        "df.info()"
      ]
    },
    {
      "cell_type": "markdown",
      "metadata": {
        "id": "642m6qXpCsz0"
      },
      "source": [
        "운동량을 숫자형으로 형 변환확인"
      ]
    },
    {
      "cell_type": "code",
      "execution_count": null,
      "metadata": {
        "id": "49LYuv11jYS7"
      },
      "outputs": [],
      "source": [
        "df['탄소량'] = df['탄소량'].apply(lambda x : clean(x) )"
      ]
    },
    {
      "cell_type": "markdown",
      "metadata": {
        "id": "XjlDJ8gWCyFC"
      },
      "source": [
        "탄소량도 똑같이 이상치 값을 공백으로 변환해준다"
      ]
    },
    {
      "cell_type": "code",
      "execution_count": null,
      "metadata": {
        "id": "VTcIq3Z0jYS8"
      },
      "outputs": [],
      "source": [
        "df['탄소량'] = pd.to_numeric(df['탄소량']) "
      ]
    },
    {
      "cell_type": "markdown",
      "metadata": {
        "id": "5Ajf9rtSEERU"
      },
      "source": [
        "탄소량도 똑같이 숫자형 데이터로 변환한다"
      ]
    },
    {
      "cell_type": "code",
      "execution_count": null,
      "metadata": {
        "id": "I0_-SjbEjYS8",
        "scrolled": true,
        "colab": {
          "base_uri": "https://localhost:8080/"
        },
        "outputId": "2f023055-524e-45a6-a20a-552af40d5ade"
      },
      "outputs": [
        {
          "output_type": "stream",
          "name": "stdout",
          "text": [
            "<class 'pandas.core.frame.DataFrame'>\n",
            "RangeIndex: 3052553 entries, 0 to 3052552\n",
            "Data columns (total 11 columns):\n",
            " #   Column   Dtype  \n",
            "---  ------   -----  \n",
            " 0   대여일자     object \n",
            " 1   대여소번호    int64  \n",
            " 2   대여소      object \n",
            " 3   대여구분코드   object \n",
            " 4   성별       object \n",
            " 5   연령대코드    object \n",
            " 6   이용건수     int64  \n",
            " 7   운동량      float64\n",
            " 8   탄소량      float64\n",
            " 9   이동거리(M)  float64\n",
            " 10  이용시간(분)  int64  \n",
            "dtypes: float64(3), int64(3), object(5)\n",
            "memory usage: 256.2+ MB\n"
          ]
        }
      ],
      "source": [
        "df.info()"
      ]
    },
    {
      "cell_type": "markdown",
      "metadata": {
        "id": "8Ngks1vVEHWi"
      },
      "source": [
        "운동량,탄소량 전부 float 형태의 숫자형으로 변환된것을 확인"
      ]
    },
    {
      "cell_type": "code",
      "execution_count": null,
      "metadata": {
        "id": "WIgFr_fEjYS9",
        "scrolled": true,
        "colab": {
          "base_uri": "https://localhost:8080/"
        },
        "outputId": "ca1fe10f-16a0-4eb0-b0d6-ad82d12caa49"
      },
      "outputs": [
        {
          "output_type": "execute_result",
          "data": {
            "text/plain": [
              "대여일자            0\n",
              "대여소번호           0\n",
              "대여소             0\n",
              "대여구분코드          0\n",
              "성별         325967\n",
              "연령대코드           0\n",
              "이용건수            0\n",
              "운동량          9166\n",
              "탄소량          9166\n",
              "이동거리(M)         0\n",
              "이용시간(분)         0\n",
              "dtype: int64"
            ]
          },
          "metadata": {},
          "execution_count": 14
        }
      ],
      "source": [
        "df.isna().sum()"
      ]
    },
    {
      "cell_type": "markdown",
      "metadata": {
        "id": "vvb8Ony9EUc5"
      },
      "source": [
        "na(공백 값) 값이 몇개나 있는지 계산한다 성별에는 325967개 운동량은 9166, 탄소량도 9166개로 확인됬다 "
      ]
    },
    {
      "cell_type": "code",
      "execution_count": null,
      "metadata": {
        "id": "JVKxb0m6jYS9",
        "scrolled": true
      },
      "outputs": [],
      "source": [
        "df.dropna()\n",
        "df = df.dropna()"
      ]
    },
    {
      "cell_type": "markdown",
      "metadata": {
        "id": "neu8GfI0Ena5"
      },
      "source": [
        "데이터가 300만 건이므로 데이터에 비해 na 값이 미미한 수치로 판정,na값을 제거 하기로 한다. "
      ]
    },
    {
      "cell_type": "code",
      "execution_count": null,
      "metadata": {
        "id": "b0ysFzxZjYS-",
        "colab": {
          "base_uri": "https://localhost:8080/"
        },
        "outputId": "613ab563-a95a-403a-c40d-2d180070252d"
      },
      "outputs": [
        {
          "output_type": "execute_result",
          "data": {
            "text/plain": [
              "대여일자       0\n",
              "대여소번호      0\n",
              "대여소        0\n",
              "대여구분코드     0\n",
              "성별         0\n",
              "연령대코드      0\n",
              "이용건수       0\n",
              "운동량        0\n",
              "탄소량        0\n",
              "이동거리(M)    0\n",
              "이용시간(분)    0\n",
              "dtype: int64"
            ]
          },
          "metadata": {},
          "execution_count": 16
        }
      ],
      "source": [
        "df.isna().sum()"
      ]
    },
    {
      "cell_type": "markdown",
      "metadata": {
        "id": "Wb9gW8-rE1Do"
      },
      "source": [
        "제거가 잘됬는지 본다"
      ]
    },
    {
      "cell_type": "code",
      "execution_count": null,
      "metadata": {
        "id": "3Cq7WNeujYS-",
        "scrolled": true,
        "colab": {
          "base_uri": "https://localhost:8080/",
          "height": 990
        },
        "outputId": "43b55a67-57a5-4531-e9b8-7a998674eee5"
      },
      "outputs": [
        {
          "output_type": "execute_result",
          "data": {
            "text/html": [
              "<div>\n",
              "<style scoped>\n",
              "    .dataframe tbody tr th:only-of-type {\n",
              "        vertical-align: middle;\n",
              "    }\n",
              "\n",
              "    .dataframe tbody tr th {\n",
              "        vertical-align: top;\n",
              "    }\n",
              "\n",
              "    .dataframe thead th {\n",
              "        text-align: right;\n",
              "    }\n",
              "</style>\n",
              "<table border=\"1\" class=\"dataframe\">\n",
              "  <thead>\n",
              "    <tr style=\"text-align: right;\">\n",
              "      <th></th>\n",
              "      <th>대여일자</th>\n",
              "      <th>대여소번호</th>\n",
              "      <th>대여소</th>\n",
              "      <th>대여구분코드</th>\n",
              "      <th>성별</th>\n",
              "      <th>연령대코드</th>\n",
              "      <th>이용건수</th>\n",
              "      <th>운동량</th>\n",
              "      <th>탄소량</th>\n",
              "      <th>이동거리(M)</th>\n",
              "      <th>이용시간(분)</th>\n",
              "    </tr>\n",
              "  </thead>\n",
              "  <tbody>\n",
              "    <tr>\n",
              "      <th>0</th>\n",
              "      <td>2020-01-01</td>\n",
              "      <td>101</td>\n",
              "      <td>101. (구)합정동 주민센터</td>\n",
              "      <td>일일(회원)</td>\n",
              "      <td>\\N</td>\n",
              "      <td>AGE_002</td>\n",
              "      <td>1</td>\n",
              "      <td>0.00</td>\n",
              "      <td>0.00</td>\n",
              "      <td>0.0</td>\n",
              "      <td>29</td>\n",
              "    </tr>\n",
              "    <tr>\n",
              "      <th>1</th>\n",
              "      <td>2020-01-01</td>\n",
              "      <td>101</td>\n",
              "      <td>101. (구)합정동 주민센터</td>\n",
              "      <td>정기</td>\n",
              "      <td>\\N</td>\n",
              "      <td>AGE_002</td>\n",
              "      <td>2</td>\n",
              "      <td>80.54</td>\n",
              "      <td>0.75</td>\n",
              "      <td>3240.0</td>\n",
              "      <td>52</td>\n",
              "    </tr>\n",
              "    <tr>\n",
              "      <th>2</th>\n",
              "      <td>2020-01-01</td>\n",
              "      <td>101</td>\n",
              "      <td>101. (구)합정동 주민센터</td>\n",
              "      <td>정기</td>\n",
              "      <td>F</td>\n",
              "      <td>AGE_002</td>\n",
              "      <td>1</td>\n",
              "      <td>72.07</td>\n",
              "      <td>0.75</td>\n",
              "      <td>3250.0</td>\n",
              "      <td>21</td>\n",
              "    </tr>\n",
              "    <tr>\n",
              "      <th>3</th>\n",
              "      <td>2020-01-01</td>\n",
              "      <td>101</td>\n",
              "      <td>101. (구)합정동 주민센터</td>\n",
              "      <td>정기</td>\n",
              "      <td>F</td>\n",
              "      <td>AGE_004</td>\n",
              "      <td>1</td>\n",
              "      <td>157.56</td>\n",
              "      <td>1.59</td>\n",
              "      <td>6860.0</td>\n",
              "      <td>46</td>\n",
              "    </tr>\n",
              "    <tr>\n",
              "      <th>4</th>\n",
              "      <td>2020-01-01</td>\n",
              "      <td>101</td>\n",
              "      <td>101. (구)합정동 주민센터</td>\n",
              "      <td>정기</td>\n",
              "      <td>M</td>\n",
              "      <td>AGE_002</td>\n",
              "      <td>1</td>\n",
              "      <td>39.99</td>\n",
              "      <td>0.23</td>\n",
              "      <td>990.0</td>\n",
              "      <td>5</td>\n",
              "    </tr>\n",
              "    <tr>\n",
              "      <th>5</th>\n",
              "      <td>2020-01-01</td>\n",
              "      <td>101</td>\n",
              "      <td>101. (구)합정동 주민센터</td>\n",
              "      <td>정기</td>\n",
              "      <td>M</td>\n",
              "      <td>AGE_005</td>\n",
              "      <td>1</td>\n",
              "      <td>25.48</td>\n",
              "      <td>0.23</td>\n",
              "      <td>990.0</td>\n",
              "      <td>5</td>\n",
              "    </tr>\n",
              "    <tr>\n",
              "      <th>6</th>\n",
              "      <td>2020-01-01</td>\n",
              "      <td>101</td>\n",
              "      <td>101. (구)합정동 주민센터</td>\n",
              "      <td>정기</td>\n",
              "      <td>M</td>\n",
              "      <td>AGE_008</td>\n",
              "      <td>1</td>\n",
              "      <td>17.63</td>\n",
              "      <td>0.14</td>\n",
              "      <td>610.0</td>\n",
              "      <td>2</td>\n",
              "    </tr>\n",
              "    <tr>\n",
              "      <th>7</th>\n",
              "      <td>2020-01-01</td>\n",
              "      <td>102</td>\n",
              "      <td>102. 망원역 1번출구 앞</td>\n",
              "      <td>일일(회원)</td>\n",
              "      <td>\\N</td>\n",
              "      <td>AGE_002</td>\n",
              "      <td>2</td>\n",
              "      <td>49.96</td>\n",
              "      <td>0.35</td>\n",
              "      <td>1520.0</td>\n",
              "      <td>65</td>\n",
              "    </tr>\n",
              "    <tr>\n",
              "      <th>8</th>\n",
              "      <td>2020-01-01</td>\n",
              "      <td>102</td>\n",
              "      <td>102. 망원역 1번출구 앞</td>\n",
              "      <td>일일(회원)</td>\n",
              "      <td>M</td>\n",
              "      <td>AGE_003</td>\n",
              "      <td>2</td>\n",
              "      <td>215.70</td>\n",
              "      <td>1.91</td>\n",
              "      <td>8230.0</td>\n",
              "      <td>40</td>\n",
              "    </tr>\n",
              "    <tr>\n",
              "      <th>9</th>\n",
              "      <td>2020-01-01</td>\n",
              "      <td>102</td>\n",
              "      <td>102. 망원역 1번출구 앞</td>\n",
              "      <td>일일(회원)</td>\n",
              "      <td>M</td>\n",
              "      <td>AGE_004</td>\n",
              "      <td>1</td>\n",
              "      <td>157.60</td>\n",
              "      <td>1.38</td>\n",
              "      <td>5940.0</td>\n",
              "      <td>52</td>\n",
              "    </tr>\n",
              "    <tr>\n",
              "      <th>10</th>\n",
              "      <td>2020-01-01</td>\n",
              "      <td>102</td>\n",
              "      <td>102. 망원역 1번출구 앞</td>\n",
              "      <td>정기</td>\n",
              "      <td>\\N</td>\n",
              "      <td>AGE_002</td>\n",
              "      <td>6</td>\n",
              "      <td>248.47</td>\n",
              "      <td>2.22</td>\n",
              "      <td>9580.0</td>\n",
              "      <td>157</td>\n",
              "    </tr>\n",
              "    <tr>\n",
              "      <th>11</th>\n",
              "      <td>2020-01-01</td>\n",
              "      <td>102</td>\n",
              "      <td>102. 망원역 1번출구 앞</td>\n",
              "      <td>정기</td>\n",
              "      <td>\\N</td>\n",
              "      <td>AGE_003</td>\n",
              "      <td>5</td>\n",
              "      <td>116.17</td>\n",
              "      <td>0.95</td>\n",
              "      <td>4080.0</td>\n",
              "      <td>75</td>\n",
              "    </tr>\n",
              "    <tr>\n",
              "      <th>12</th>\n",
              "      <td>2020-01-01</td>\n",
              "      <td>102</td>\n",
              "      <td>102. 망원역 1번출구 앞</td>\n",
              "      <td>정기</td>\n",
              "      <td>\\N</td>\n",
              "      <td>AGE_004</td>\n",
              "      <td>1</td>\n",
              "      <td>0.00</td>\n",
              "      <td>0.00</td>\n",
              "      <td>0.0</td>\n",
              "      <td>10</td>\n",
              "    </tr>\n",
              "    <tr>\n",
              "      <th>13</th>\n",
              "      <td>2020-01-01</td>\n",
              "      <td>102</td>\n",
              "      <td>102. 망원역 1번출구 앞</td>\n",
              "      <td>정기</td>\n",
              "      <td>\\N</td>\n",
              "      <td>AGE_005</td>\n",
              "      <td>1</td>\n",
              "      <td>36.87</td>\n",
              "      <td>0.31</td>\n",
              "      <td>1330.0</td>\n",
              "      <td>7</td>\n",
              "    </tr>\n",
              "    <tr>\n",
              "      <th>15</th>\n",
              "      <td>2020-01-01</td>\n",
              "      <td>102</td>\n",
              "      <td>102. 망원역 1번출구 앞</td>\n",
              "      <td>정기</td>\n",
              "      <td>F</td>\n",
              "      <td>AGE_002</td>\n",
              "      <td>1</td>\n",
              "      <td>9.90</td>\n",
              "      <td>0.12</td>\n",
              "      <td>500.0</td>\n",
              "      <td>5</td>\n",
              "    </tr>\n",
              "    <tr>\n",
              "      <th>16</th>\n",
              "      <td>2020-01-01</td>\n",
              "      <td>102</td>\n",
              "      <td>102. 망원역 1번출구 앞</td>\n",
              "      <td>정기</td>\n",
              "      <td>F</td>\n",
              "      <td>AGE_003</td>\n",
              "      <td>2</td>\n",
              "      <td>103.91</td>\n",
              "      <td>1.18</td>\n",
              "      <td>5050.0</td>\n",
              "      <td>38</td>\n",
              "    </tr>\n",
              "    <tr>\n",
              "      <th>17</th>\n",
              "      <td>2020-01-01</td>\n",
              "      <td>102</td>\n",
              "      <td>102. 망원역 1번출구 앞</td>\n",
              "      <td>정기</td>\n",
              "      <td>F</td>\n",
              "      <td>AGE_006</td>\n",
              "      <td>1</td>\n",
              "      <td>79.50</td>\n",
              "      <td>0.64</td>\n",
              "      <td>2750.0</td>\n",
              "      <td>11</td>\n",
              "    </tr>\n",
              "    <tr>\n",
              "      <th>18</th>\n",
              "      <td>2020-01-01</td>\n",
              "      <td>102</td>\n",
              "      <td>102. 망원역 1번출구 앞</td>\n",
              "      <td>정기</td>\n",
              "      <td>M</td>\n",
              "      <td>AGE_002</td>\n",
              "      <td>3</td>\n",
              "      <td>82.87</td>\n",
              "      <td>0.63</td>\n",
              "      <td>2730.0</td>\n",
              "      <td>66</td>\n",
              "    </tr>\n",
              "    <tr>\n",
              "      <th>19</th>\n",
              "      <td>2020-01-01</td>\n",
              "      <td>102</td>\n",
              "      <td>102. 망원역 1번출구 앞</td>\n",
              "      <td>정기</td>\n",
              "      <td>M</td>\n",
              "      <td>AGE_003</td>\n",
              "      <td>3</td>\n",
              "      <td>1839.13</td>\n",
              "      <td>15.03</td>\n",
              "      <td>64810.0</td>\n",
              "      <td>66</td>\n",
              "    </tr>\n",
              "    <tr>\n",
              "      <th>20</th>\n",
              "      <td>2020-01-01</td>\n",
              "      <td>102</td>\n",
              "      <td>102. 망원역 1번출구 앞</td>\n",
              "      <td>정기</td>\n",
              "      <td>M</td>\n",
              "      <td>AGE_004</td>\n",
              "      <td>1</td>\n",
              "      <td>37.36</td>\n",
              "      <td>0.26</td>\n",
              "      <td>1110.0</td>\n",
              "      <td>9</td>\n",
              "    </tr>\n",
              "    <tr>\n",
              "      <th>21</th>\n",
              "      <td>2020-01-01</td>\n",
              "      <td>103</td>\n",
              "      <td>103. 망원역 2번출구 앞</td>\n",
              "      <td>일일(회원)</td>\n",
              "      <td>M</td>\n",
              "      <td>AGE_002</td>\n",
              "      <td>1</td>\n",
              "      <td>21.44</td>\n",
              "      <td>0.22</td>\n",
              "      <td>950.0</td>\n",
              "      <td>5</td>\n",
              "    </tr>\n",
              "    <tr>\n",
              "      <th>22</th>\n",
              "      <td>2020-01-01</td>\n",
              "      <td>103</td>\n",
              "      <td>103. 망원역 2번출구 앞</td>\n",
              "      <td>일일(회원)</td>\n",
              "      <td>M</td>\n",
              "      <td>AGE_003</td>\n",
              "      <td>1</td>\n",
              "      <td>73.18</td>\n",
              "      <td>0.54</td>\n",
              "      <td>2310.0</td>\n",
              "      <td>22</td>\n",
              "    </tr>\n",
              "    <tr>\n",
              "      <th>23</th>\n",
              "      <td>2020-01-01</td>\n",
              "      <td>103</td>\n",
              "      <td>103. 망원역 2번출구 앞</td>\n",
              "      <td>정기</td>\n",
              "      <td>\\N</td>\n",
              "      <td>AGE_001</td>\n",
              "      <td>1</td>\n",
              "      <td>17.92</td>\n",
              "      <td>0.20</td>\n",
              "      <td>870.0</td>\n",
              "      <td>6</td>\n",
              "    </tr>\n",
              "    <tr>\n",
              "      <th>24</th>\n",
              "      <td>2020-01-01</td>\n",
              "      <td>103</td>\n",
              "      <td>103. 망원역 2번출구 앞</td>\n",
              "      <td>정기</td>\n",
              "      <td>\\N</td>\n",
              "      <td>AGE_002</td>\n",
              "      <td>2</td>\n",
              "      <td>156.71</td>\n",
              "      <td>1.95</td>\n",
              "      <td>8420.0</td>\n",
              "      <td>48</td>\n",
              "    </tr>\n",
              "    <tr>\n",
              "      <th>25</th>\n",
              "      <td>2020-01-01</td>\n",
              "      <td>103</td>\n",
              "      <td>103. 망원역 2번출구 앞</td>\n",
              "      <td>정기</td>\n",
              "      <td>\\N</td>\n",
              "      <td>AGE_003</td>\n",
              "      <td>2</td>\n",
              "      <td>106.06</td>\n",
              "      <td>1.29</td>\n",
              "      <td>5580.0</td>\n",
              "      <td>67</td>\n",
              "    </tr>\n",
              "    <tr>\n",
              "      <th>26</th>\n",
              "      <td>2020-01-01</td>\n",
              "      <td>103</td>\n",
              "      <td>103. 망원역 2번출구 앞</td>\n",
              "      <td>정기</td>\n",
              "      <td>\\N</td>\n",
              "      <td>AGE_006</td>\n",
              "      <td>1</td>\n",
              "      <td>20.91</td>\n",
              "      <td>0.22</td>\n",
              "      <td>960.0</td>\n",
              "      <td>3</td>\n",
              "    </tr>\n",
              "    <tr>\n",
              "      <th>28</th>\n",
              "      <td>2020-01-01</td>\n",
              "      <td>103</td>\n",
              "      <td>103. 망원역 2번출구 앞</td>\n",
              "      <td>정기</td>\n",
              "      <td>F</td>\n",
              "      <td>AGE_001</td>\n",
              "      <td>1</td>\n",
              "      <td>246.71</td>\n",
              "      <td>2.06</td>\n",
              "      <td>8900.0</td>\n",
              "      <td>78</td>\n",
              "    </tr>\n",
              "    <tr>\n",
              "      <th>29</th>\n",
              "      <td>2020-01-01</td>\n",
              "      <td>103</td>\n",
              "      <td>103. 망원역 2번출구 앞</td>\n",
              "      <td>정기</td>\n",
              "      <td>F</td>\n",
              "      <td>AGE_002</td>\n",
              "      <td>4</td>\n",
              "      <td>103.10</td>\n",
              "      <td>1.17</td>\n",
              "      <td>5020.0</td>\n",
              "      <td>118</td>\n",
              "    </tr>\n",
              "    <tr>\n",
              "      <th>30</th>\n",
              "      <td>2020-01-01</td>\n",
              "      <td>103</td>\n",
              "      <td>103. 망원역 2번출구 앞</td>\n",
              "      <td>정기</td>\n",
              "      <td>F</td>\n",
              "      <td>AGE_003</td>\n",
              "      <td>2</td>\n",
              "      <td>75.16</td>\n",
              "      <td>0.67</td>\n",
              "      <td>2920.0</td>\n",
              "      <td>18</td>\n",
              "    </tr>\n",
              "    <tr>\n",
              "      <th>31</th>\n",
              "      <td>2020-01-01</td>\n",
              "      <td>103</td>\n",
              "      <td>103. 망원역 2번출구 앞</td>\n",
              "      <td>정기</td>\n",
              "      <td>M</td>\n",
              "      <td>AGE_002</td>\n",
              "      <td>1</td>\n",
              "      <td>47.36</td>\n",
              "      <td>0.43</td>\n",
              "      <td>1840.0</td>\n",
              "      <td>17</td>\n",
              "    </tr>\n",
              "  </tbody>\n",
              "</table>\n",
              "</div>"
            ],
            "text/plain": [
              "          대여일자  대여소번호               대여소  ...    탄소량  이동거리(M) 이용시간(분)\n",
              "0   2020-01-01    101  101. (구)합정동 주민센터  ...   0.00      0.0      29\n",
              "1   2020-01-01    101  101. (구)합정동 주민센터  ...   0.75   3240.0      52\n",
              "2   2020-01-01    101  101. (구)합정동 주민센터  ...   0.75   3250.0      21\n",
              "3   2020-01-01    101  101. (구)합정동 주민센터  ...   1.59   6860.0      46\n",
              "4   2020-01-01    101  101. (구)합정동 주민센터  ...   0.23    990.0       5\n",
              "5   2020-01-01    101  101. (구)합정동 주민센터  ...   0.23    990.0       5\n",
              "6   2020-01-01    101  101. (구)합정동 주민센터  ...   0.14    610.0       2\n",
              "7   2020-01-01    102   102. 망원역 1번출구 앞  ...   0.35   1520.0      65\n",
              "8   2020-01-01    102   102. 망원역 1번출구 앞  ...   1.91   8230.0      40\n",
              "9   2020-01-01    102   102. 망원역 1번출구 앞  ...   1.38   5940.0      52\n",
              "10  2020-01-01    102   102. 망원역 1번출구 앞  ...   2.22   9580.0     157\n",
              "11  2020-01-01    102   102. 망원역 1번출구 앞  ...   0.95   4080.0      75\n",
              "12  2020-01-01    102   102. 망원역 1번출구 앞  ...   0.00      0.0      10\n",
              "13  2020-01-01    102   102. 망원역 1번출구 앞  ...   0.31   1330.0       7\n",
              "15  2020-01-01    102   102. 망원역 1번출구 앞  ...   0.12    500.0       5\n",
              "16  2020-01-01    102   102. 망원역 1번출구 앞  ...   1.18   5050.0      38\n",
              "17  2020-01-01    102   102. 망원역 1번출구 앞  ...   0.64   2750.0      11\n",
              "18  2020-01-01    102   102. 망원역 1번출구 앞  ...   0.63   2730.0      66\n",
              "19  2020-01-01    102   102. 망원역 1번출구 앞  ...  15.03  64810.0      66\n",
              "20  2020-01-01    102   102. 망원역 1번출구 앞  ...   0.26   1110.0       9\n",
              "21  2020-01-01    103   103. 망원역 2번출구 앞  ...   0.22    950.0       5\n",
              "22  2020-01-01    103   103. 망원역 2번출구 앞  ...   0.54   2310.0      22\n",
              "23  2020-01-01    103   103. 망원역 2번출구 앞  ...   0.20    870.0       6\n",
              "24  2020-01-01    103   103. 망원역 2번출구 앞  ...   1.95   8420.0      48\n",
              "25  2020-01-01    103   103. 망원역 2번출구 앞  ...   1.29   5580.0      67\n",
              "26  2020-01-01    103   103. 망원역 2번출구 앞  ...   0.22    960.0       3\n",
              "28  2020-01-01    103   103. 망원역 2번출구 앞  ...   2.06   8900.0      78\n",
              "29  2020-01-01    103   103. 망원역 2번출구 앞  ...   1.17   5020.0     118\n",
              "30  2020-01-01    103   103. 망원역 2번출구 앞  ...   0.67   2920.0      18\n",
              "31  2020-01-01    103   103. 망원역 2번출구 앞  ...   0.43   1840.0      17\n",
              "\n",
              "[30 rows x 11 columns]"
            ]
          },
          "metadata": {},
          "execution_count": 17
        }
      ],
      "source": [
        "df.head(30)"
      ]
    },
    {
      "cell_type": "markdown",
      "metadata": {
        "id": "txl8G4Q2E5uq"
      },
      "source": [
        "제대로 됬는지 보기위해 데이터의 30개만 불러온다"
      ]
    },
    {
      "cell_type": "code",
      "execution_count": null,
      "metadata": {
        "id": "nN9p3K5TjYS-",
        "scrolled": false,
        "colab": {
          "base_uri": "https://localhost:8080/"
        },
        "outputId": "1c8c8e70-1ad6-4905-fc41-3038beb840ba"
      },
      "outputs": [
        {
          "output_type": "stream",
          "name": "stderr",
          "text": [
            "/usr/local/lib/python3.7/dist-packages/ipykernel_launcher.py:1: SettingWithCopyWarning: \n",
            "A value is trying to be set on a copy of a slice from a DataFrame.\n",
            "Try using .loc[row_indexer,col_indexer] = value instead\n",
            "\n",
            "See the caveats in the documentation: https://pandas.pydata.org/pandas-docs/stable/user_guide/indexing.html#returning-a-view-versus-a-copy\n",
            "  \"\"\"Entry point for launching an IPython kernel.\n"
          ]
        }
      ],
      "source": [
        "df['성별'] = df['성별'].apply(lambda x : clean(x) )"
      ]
    },
    {
      "cell_type": "markdown",
      "metadata": {
        "id": "85c4kmuaE_94"
      },
      "source": [
        "성별도 /n값을 공백으로 변환한다"
      ]
    },
    {
      "cell_type": "code",
      "execution_count": null,
      "metadata": {
        "id": "G7XDMzJXjYS_",
        "scrolled": true,
        "colab": {
          "base_uri": "https://localhost:8080/",
          "height": 423
        },
        "outputId": "0ee54968-e7a2-4e05-a8b2-5189b22859a7"
      },
      "outputs": [
        {
          "output_type": "execute_result",
          "data": {
            "text/html": [
              "<div>\n",
              "<style scoped>\n",
              "    .dataframe tbody tr th:only-of-type {\n",
              "        vertical-align: middle;\n",
              "    }\n",
              "\n",
              "    .dataframe tbody tr th {\n",
              "        vertical-align: top;\n",
              "    }\n",
              "\n",
              "    .dataframe thead th {\n",
              "        text-align: right;\n",
              "    }\n",
              "</style>\n",
              "<table border=\"1\" class=\"dataframe\">\n",
              "  <thead>\n",
              "    <tr style=\"text-align: right;\">\n",
              "      <th></th>\n",
              "      <th>대여일자</th>\n",
              "      <th>대여소번호</th>\n",
              "      <th>대여소</th>\n",
              "      <th>대여구분코드</th>\n",
              "      <th>성별</th>\n",
              "      <th>연령대코드</th>\n",
              "      <th>이용건수</th>\n",
              "      <th>운동량</th>\n",
              "      <th>탄소량</th>\n",
              "      <th>이동거리(M)</th>\n",
              "      <th>이용시간(분)</th>\n",
              "    </tr>\n",
              "  </thead>\n",
              "  <tbody>\n",
              "    <tr>\n",
              "      <th>2</th>\n",
              "      <td>2020-01-01</td>\n",
              "      <td>101</td>\n",
              "      <td>101. (구)합정동 주민센터</td>\n",
              "      <td>정기</td>\n",
              "      <td>F</td>\n",
              "      <td>AGE_002</td>\n",
              "      <td>1</td>\n",
              "      <td>72.07</td>\n",
              "      <td>0.75</td>\n",
              "      <td>3250.0</td>\n",
              "      <td>21</td>\n",
              "    </tr>\n",
              "    <tr>\n",
              "      <th>3</th>\n",
              "      <td>2020-01-01</td>\n",
              "      <td>101</td>\n",
              "      <td>101. (구)합정동 주민센터</td>\n",
              "      <td>정기</td>\n",
              "      <td>F</td>\n",
              "      <td>AGE_004</td>\n",
              "      <td>1</td>\n",
              "      <td>157.56</td>\n",
              "      <td>1.59</td>\n",
              "      <td>6860.0</td>\n",
              "      <td>46</td>\n",
              "    </tr>\n",
              "    <tr>\n",
              "      <th>4</th>\n",
              "      <td>2020-01-01</td>\n",
              "      <td>101</td>\n",
              "      <td>101. (구)합정동 주민센터</td>\n",
              "      <td>정기</td>\n",
              "      <td>M</td>\n",
              "      <td>AGE_002</td>\n",
              "      <td>1</td>\n",
              "      <td>39.99</td>\n",
              "      <td>0.23</td>\n",
              "      <td>990.0</td>\n",
              "      <td>5</td>\n",
              "    </tr>\n",
              "    <tr>\n",
              "      <th>5</th>\n",
              "      <td>2020-01-01</td>\n",
              "      <td>101</td>\n",
              "      <td>101. (구)합정동 주민센터</td>\n",
              "      <td>정기</td>\n",
              "      <td>M</td>\n",
              "      <td>AGE_005</td>\n",
              "      <td>1</td>\n",
              "      <td>25.48</td>\n",
              "      <td>0.23</td>\n",
              "      <td>990.0</td>\n",
              "      <td>5</td>\n",
              "    </tr>\n",
              "    <tr>\n",
              "      <th>6</th>\n",
              "      <td>2020-01-01</td>\n",
              "      <td>101</td>\n",
              "      <td>101. (구)합정동 주민센터</td>\n",
              "      <td>정기</td>\n",
              "      <td>M</td>\n",
              "      <td>AGE_008</td>\n",
              "      <td>1</td>\n",
              "      <td>17.63</td>\n",
              "      <td>0.14</td>\n",
              "      <td>610.0</td>\n",
              "      <td>2</td>\n",
              "    </tr>\n",
              "    <tr>\n",
              "      <th>...</th>\n",
              "      <td>...</td>\n",
              "      <td>...</td>\n",
              "      <td>...</td>\n",
              "      <td>...</td>\n",
              "      <td>...</td>\n",
              "      <td>...</td>\n",
              "      <td>...</td>\n",
              "      <td>...</td>\n",
              "      <td>...</td>\n",
              "      <td>...</td>\n",
              "      <td>...</td>\n",
              "    </tr>\n",
              "    <tr>\n",
              "      <th>3052543</th>\n",
              "      <td>2020-05-31</td>\n",
              "      <td>3560</td>\n",
              "      <td>3560.성동구 견인차량 보관소 앞</td>\n",
              "      <td>일일(회원)</td>\n",
              "      <td>M</td>\n",
              "      <td>AGE_003</td>\n",
              "      <td>1</td>\n",
              "      <td>0.00</td>\n",
              "      <td>0.00</td>\n",
              "      <td>0.0</td>\n",
              "      <td>113</td>\n",
              "    </tr>\n",
              "    <tr>\n",
              "      <th>3052549</th>\n",
              "      <td>2020-05-31</td>\n",
              "      <td>3560</td>\n",
              "      <td>3560.성동구 견인차량 보관소 앞</td>\n",
              "      <td>정기</td>\n",
              "      <td>M</td>\n",
              "      <td>AGE_002</td>\n",
              "      <td>1</td>\n",
              "      <td>0.00</td>\n",
              "      <td>0.00</td>\n",
              "      <td>0.0</td>\n",
              "      <td>34</td>\n",
              "    </tr>\n",
              "    <tr>\n",
              "      <th>3052550</th>\n",
              "      <td>2020-05-31</td>\n",
              "      <td>3560</td>\n",
              "      <td>3560.성동구 견인차량 보관소 앞</td>\n",
              "      <td>정기</td>\n",
              "      <td>M</td>\n",
              "      <td>AGE_003</td>\n",
              "      <td>1</td>\n",
              "      <td>0.00</td>\n",
              "      <td>0.00</td>\n",
              "      <td>0.0</td>\n",
              "      <td>13</td>\n",
              "    </tr>\n",
              "    <tr>\n",
              "      <th>3052551</th>\n",
              "      <td>2020-05-31</td>\n",
              "      <td>3560</td>\n",
              "      <td>3560.성동구 견인차량 보관소 앞</td>\n",
              "      <td>정기</td>\n",
              "      <td>M</td>\n",
              "      <td>AGE_004</td>\n",
              "      <td>2</td>\n",
              "      <td>0.00</td>\n",
              "      <td>0.00</td>\n",
              "      <td>0.0</td>\n",
              "      <td>20</td>\n",
              "    </tr>\n",
              "    <tr>\n",
              "      <th>3052552</th>\n",
              "      <td>2020-05-31</td>\n",
              "      <td>3560</td>\n",
              "      <td>3560.성동구 견인차량 보관소 앞</td>\n",
              "      <td>정기</td>\n",
              "      <td>M</td>\n",
              "      <td>AGE_005</td>\n",
              "      <td>1</td>\n",
              "      <td>0.00</td>\n",
              "      <td>0.00</td>\n",
              "      <td>0.0</td>\n",
              "      <td>14</td>\n",
              "    </tr>\n",
              "  </tbody>\n",
              "</table>\n",
              "<p>1455636 rows × 11 columns</p>\n",
              "</div>"
            ],
            "text/plain": [
              "               대여일자  대여소번호                  대여소  ...   탄소량 이동거리(M) 이용시간(분)\n",
              "2        2020-01-01    101     101. (구)합정동 주민센터  ...  0.75  3250.0      21\n",
              "3        2020-01-01    101     101. (구)합정동 주민센터  ...  1.59  6860.0      46\n",
              "4        2020-01-01    101     101. (구)합정동 주민센터  ...  0.23   990.0       5\n",
              "5        2020-01-01    101     101. (구)합정동 주민센터  ...  0.23   990.0       5\n",
              "6        2020-01-01    101     101. (구)합정동 주민센터  ...  0.14   610.0       2\n",
              "...             ...    ...                  ...  ...   ...     ...     ...\n",
              "3052543  2020-05-31   3560  3560.성동구 견인차량 보관소 앞  ...  0.00     0.0     113\n",
              "3052549  2020-05-31   3560  3560.성동구 견인차량 보관소 앞  ...  0.00     0.0      34\n",
              "3052550  2020-05-31   3560  3560.성동구 견인차량 보관소 앞  ...  0.00     0.0      13\n",
              "3052551  2020-05-31   3560  3560.성동구 견인차량 보관소 앞  ...  0.00     0.0      20\n",
              "3052552  2020-05-31   3560  3560.성동구 견인차량 보관소 앞  ...  0.00     0.0      14\n",
              "\n",
              "[1455636 rows x 11 columns]"
            ]
          },
          "metadata": {},
          "execution_count": 19
        }
      ],
      "source": [
        "# 성별이 M 혹은 F인 것에 해당하는 행만 추출\n",
        "df2 = df[(df['성별'] == 'M') | (df['성별'] == 'F')]   \n",
        "df2"
      ]
    },
    {
      "cell_type": "markdown",
      "metadata": {
        "id": "FqAslHOmFErw"
      },
      "source": [
        "성별이 남자 또는 여자로 확실히 표기된 것들을 가져와 df2 이라는 데이터프레임에 새로 담는다"
      ]
    },
    {
      "cell_type": "code",
      "execution_count": null,
      "metadata": {
        "id": "eu6pPuSPjYS_",
        "colab": {
          "base_uri": "https://localhost:8080/",
          "height": 423
        },
        "outputId": "f096df38-6c1e-47f0-9adc-623bbec5cf20"
      },
      "outputs": [
        {
          "output_type": "execute_result",
          "data": {
            "text/html": [
              "<div>\n",
              "<style scoped>\n",
              "    .dataframe tbody tr th:only-of-type {\n",
              "        vertical-align: middle;\n",
              "    }\n",
              "\n",
              "    .dataframe tbody tr th {\n",
              "        vertical-align: top;\n",
              "    }\n",
              "\n",
              "    .dataframe thead th {\n",
              "        text-align: right;\n",
              "    }\n",
              "</style>\n",
              "<table border=\"1\" class=\"dataframe\">\n",
              "  <thead>\n",
              "    <tr style=\"text-align: right;\">\n",
              "      <th></th>\n",
              "      <th>대여일자</th>\n",
              "      <th>대여소번호</th>\n",
              "      <th>대여소</th>\n",
              "      <th>대여구분코드</th>\n",
              "      <th>성별</th>\n",
              "      <th>연령대코드</th>\n",
              "      <th>이용건수</th>\n",
              "      <th>운동량</th>\n",
              "      <th>탄소량</th>\n",
              "      <th>이동거리(M)</th>\n",
              "      <th>이용시간(분)</th>\n",
              "    </tr>\n",
              "  </thead>\n",
              "  <tbody>\n",
              "    <tr>\n",
              "      <th>2</th>\n",
              "      <td>2020-01-01</td>\n",
              "      <td>101</td>\n",
              "      <td>101. (구)합정동 주민센터</td>\n",
              "      <td>정기</td>\n",
              "      <td>F</td>\n",
              "      <td>AGE_002</td>\n",
              "      <td>1</td>\n",
              "      <td>72.07</td>\n",
              "      <td>0.75</td>\n",
              "      <td>3250.0</td>\n",
              "      <td>21</td>\n",
              "    </tr>\n",
              "    <tr>\n",
              "      <th>3</th>\n",
              "      <td>2020-01-01</td>\n",
              "      <td>101</td>\n",
              "      <td>101. (구)합정동 주민센터</td>\n",
              "      <td>정기</td>\n",
              "      <td>F</td>\n",
              "      <td>AGE_004</td>\n",
              "      <td>1</td>\n",
              "      <td>157.56</td>\n",
              "      <td>1.59</td>\n",
              "      <td>6860.0</td>\n",
              "      <td>46</td>\n",
              "    </tr>\n",
              "    <tr>\n",
              "      <th>4</th>\n",
              "      <td>2020-01-01</td>\n",
              "      <td>101</td>\n",
              "      <td>101. (구)합정동 주민센터</td>\n",
              "      <td>정기</td>\n",
              "      <td>M</td>\n",
              "      <td>AGE_002</td>\n",
              "      <td>1</td>\n",
              "      <td>39.99</td>\n",
              "      <td>0.23</td>\n",
              "      <td>990.0</td>\n",
              "      <td>5</td>\n",
              "    </tr>\n",
              "    <tr>\n",
              "      <th>5</th>\n",
              "      <td>2020-01-01</td>\n",
              "      <td>101</td>\n",
              "      <td>101. (구)합정동 주민센터</td>\n",
              "      <td>정기</td>\n",
              "      <td>M</td>\n",
              "      <td>AGE_005</td>\n",
              "      <td>1</td>\n",
              "      <td>25.48</td>\n",
              "      <td>0.23</td>\n",
              "      <td>990.0</td>\n",
              "      <td>5</td>\n",
              "    </tr>\n",
              "    <tr>\n",
              "      <th>6</th>\n",
              "      <td>2020-01-01</td>\n",
              "      <td>101</td>\n",
              "      <td>101. (구)합정동 주민센터</td>\n",
              "      <td>정기</td>\n",
              "      <td>M</td>\n",
              "      <td>AGE_008</td>\n",
              "      <td>1</td>\n",
              "      <td>17.63</td>\n",
              "      <td>0.14</td>\n",
              "      <td>610.0</td>\n",
              "      <td>2</td>\n",
              "    </tr>\n",
              "    <tr>\n",
              "      <th>...</th>\n",
              "      <td>...</td>\n",
              "      <td>...</td>\n",
              "      <td>...</td>\n",
              "      <td>...</td>\n",
              "      <td>...</td>\n",
              "      <td>...</td>\n",
              "      <td>...</td>\n",
              "      <td>...</td>\n",
              "      <td>...</td>\n",
              "      <td>...</td>\n",
              "      <td>...</td>\n",
              "    </tr>\n",
              "    <tr>\n",
              "      <th>3052543</th>\n",
              "      <td>2020-05-31</td>\n",
              "      <td>3560</td>\n",
              "      <td>3560.성동구 견인차량 보관소 앞</td>\n",
              "      <td>일일(회원)</td>\n",
              "      <td>M</td>\n",
              "      <td>AGE_003</td>\n",
              "      <td>1</td>\n",
              "      <td>0.00</td>\n",
              "      <td>0.00</td>\n",
              "      <td>0.0</td>\n",
              "      <td>113</td>\n",
              "    </tr>\n",
              "    <tr>\n",
              "      <th>3052549</th>\n",
              "      <td>2020-05-31</td>\n",
              "      <td>3560</td>\n",
              "      <td>3560.성동구 견인차량 보관소 앞</td>\n",
              "      <td>정기</td>\n",
              "      <td>M</td>\n",
              "      <td>AGE_002</td>\n",
              "      <td>1</td>\n",
              "      <td>0.00</td>\n",
              "      <td>0.00</td>\n",
              "      <td>0.0</td>\n",
              "      <td>34</td>\n",
              "    </tr>\n",
              "    <tr>\n",
              "      <th>3052550</th>\n",
              "      <td>2020-05-31</td>\n",
              "      <td>3560</td>\n",
              "      <td>3560.성동구 견인차량 보관소 앞</td>\n",
              "      <td>정기</td>\n",
              "      <td>M</td>\n",
              "      <td>AGE_003</td>\n",
              "      <td>1</td>\n",
              "      <td>0.00</td>\n",
              "      <td>0.00</td>\n",
              "      <td>0.0</td>\n",
              "      <td>13</td>\n",
              "    </tr>\n",
              "    <tr>\n",
              "      <th>3052551</th>\n",
              "      <td>2020-05-31</td>\n",
              "      <td>3560</td>\n",
              "      <td>3560.성동구 견인차량 보관소 앞</td>\n",
              "      <td>정기</td>\n",
              "      <td>M</td>\n",
              "      <td>AGE_004</td>\n",
              "      <td>2</td>\n",
              "      <td>0.00</td>\n",
              "      <td>0.00</td>\n",
              "      <td>0.0</td>\n",
              "      <td>20</td>\n",
              "    </tr>\n",
              "    <tr>\n",
              "      <th>3052552</th>\n",
              "      <td>2020-05-31</td>\n",
              "      <td>3560</td>\n",
              "      <td>3560.성동구 견인차량 보관소 앞</td>\n",
              "      <td>정기</td>\n",
              "      <td>M</td>\n",
              "      <td>AGE_005</td>\n",
              "      <td>1</td>\n",
              "      <td>0.00</td>\n",
              "      <td>0.00</td>\n",
              "      <td>0.0</td>\n",
              "      <td>14</td>\n",
              "    </tr>\n",
              "  </tbody>\n",
              "</table>\n",
              "<p>1455636 rows × 11 columns</p>\n",
              "</div>"
            ],
            "text/plain": [
              "               대여일자  대여소번호                  대여소  ...   탄소량 이동거리(M) 이용시간(분)\n",
              "2        2020-01-01    101     101. (구)합정동 주민센터  ...  0.75  3250.0      21\n",
              "3        2020-01-01    101     101. (구)합정동 주민센터  ...  1.59  6860.0      46\n",
              "4        2020-01-01    101     101. (구)합정동 주민센터  ...  0.23   990.0       5\n",
              "5        2020-01-01    101     101. (구)합정동 주민센터  ...  0.23   990.0       5\n",
              "6        2020-01-01    101     101. (구)합정동 주민센터  ...  0.14   610.0       2\n",
              "...             ...    ...                  ...  ...   ...     ...     ...\n",
              "3052543  2020-05-31   3560  3560.성동구 견인차량 보관소 앞  ...  0.00     0.0     113\n",
              "3052549  2020-05-31   3560  3560.성동구 견인차량 보관소 앞  ...  0.00     0.0      34\n",
              "3052550  2020-05-31   3560  3560.성동구 견인차량 보관소 앞  ...  0.00     0.0      13\n",
              "3052551  2020-05-31   3560  3560.성동구 견인차량 보관소 앞  ...  0.00     0.0      20\n",
              "3052552  2020-05-31   3560  3560.성동구 견인차량 보관소 앞  ...  0.00     0.0      14\n",
              "\n",
              "[1455636 rows x 11 columns]"
            ]
          },
          "metadata": {},
          "execution_count": 20
        }
      ],
      "source": [
        "df2"
      ]
    },
    {
      "cell_type": "markdown",
      "metadata": {
        "id": "E8EPJ-NZFVip"
      },
      "source": [
        "데이터 전처리가 끝난 데이터 프레임, 총 145만 건이 남았다"
      ]
    },
    {
      "cell_type": "code",
      "execution_count": null,
      "metadata": {
        "id": "rgntdpftjYTA",
        "scrolled": true
      },
      "outputs": [],
      "source": [
        "df2 = pd.get_dummies(df2, columns= ['연령대코드', '성별'])"
      ]
    },
    {
      "cell_type": "markdown",
      "metadata": {
        "id": "mJMJMxfjFkGQ"
      },
      "source": [
        "연령대코드와 성별의 경우 서열이 있다고 판단 되지않아 명목코드로 값이 존재하는 곳에 1, 존재하지않는 곳에 0 표시로 one-hot 인코딩으로 컬럼을 늘려 데이터를 변환시킨다."
      ]
    },
    {
      "cell_type": "code",
      "execution_count": null,
      "metadata": {
        "id": "VOwXToRhjYTA",
        "colab": {
          "base_uri": "https://localhost:8080/",
          "height": 1000
        },
        "outputId": "731ece10-eb4c-47df-89db-d04d16b31093"
      },
      "outputs": [
        {
          "output_type": "execute_result",
          "data": {
            "text/html": [
              "<div>\n",
              "<style scoped>\n",
              "    .dataframe tbody tr th:only-of-type {\n",
              "        vertical-align: middle;\n",
              "    }\n",
              "\n",
              "    .dataframe tbody tr th {\n",
              "        vertical-align: top;\n",
              "    }\n",
              "\n",
              "    .dataframe thead th {\n",
              "        text-align: right;\n",
              "    }\n",
              "</style>\n",
              "<table border=\"1\" class=\"dataframe\">\n",
              "  <thead>\n",
              "    <tr style=\"text-align: right;\">\n",
              "      <th></th>\n",
              "      <th>대여일자</th>\n",
              "      <th>대여소번호</th>\n",
              "      <th>대여소</th>\n",
              "      <th>대여구분코드</th>\n",
              "      <th>이용건수</th>\n",
              "      <th>운동량</th>\n",
              "      <th>탄소량</th>\n",
              "      <th>이동거리(M)</th>\n",
              "      <th>이용시간(분)</th>\n",
              "      <th>연령대코드_AGE_001</th>\n",
              "      <th>연령대코드_AGE_002</th>\n",
              "      <th>연령대코드_AGE_003</th>\n",
              "      <th>연령대코드_AGE_004</th>\n",
              "      <th>연령대코드_AGE_005</th>\n",
              "      <th>연령대코드_AGE_006</th>\n",
              "      <th>연령대코드_AGE_007</th>\n",
              "      <th>연령대코드_AGE_008</th>\n",
              "      <th>성별_F</th>\n",
              "      <th>성별_M</th>\n",
              "    </tr>\n",
              "  </thead>\n",
              "  <tbody>\n",
              "    <tr>\n",
              "      <th>2</th>\n",
              "      <td>2020-01-01</td>\n",
              "      <td>101</td>\n",
              "      <td>101. (구)합정동 주민센터</td>\n",
              "      <td>정기</td>\n",
              "      <td>1</td>\n",
              "      <td>72.07</td>\n",
              "      <td>0.75</td>\n",
              "      <td>3250.0</td>\n",
              "      <td>21</td>\n",
              "      <td>0</td>\n",
              "      <td>1</td>\n",
              "      <td>0</td>\n",
              "      <td>0</td>\n",
              "      <td>0</td>\n",
              "      <td>0</td>\n",
              "      <td>0</td>\n",
              "      <td>0</td>\n",
              "      <td>1</td>\n",
              "      <td>0</td>\n",
              "    </tr>\n",
              "    <tr>\n",
              "      <th>3</th>\n",
              "      <td>2020-01-01</td>\n",
              "      <td>101</td>\n",
              "      <td>101. (구)합정동 주민센터</td>\n",
              "      <td>정기</td>\n",
              "      <td>1</td>\n",
              "      <td>157.56</td>\n",
              "      <td>1.59</td>\n",
              "      <td>6860.0</td>\n",
              "      <td>46</td>\n",
              "      <td>0</td>\n",
              "      <td>0</td>\n",
              "      <td>0</td>\n",
              "      <td>1</td>\n",
              "      <td>0</td>\n",
              "      <td>0</td>\n",
              "      <td>0</td>\n",
              "      <td>0</td>\n",
              "      <td>1</td>\n",
              "      <td>0</td>\n",
              "    </tr>\n",
              "    <tr>\n",
              "      <th>4</th>\n",
              "      <td>2020-01-01</td>\n",
              "      <td>101</td>\n",
              "      <td>101. (구)합정동 주민센터</td>\n",
              "      <td>정기</td>\n",
              "      <td>1</td>\n",
              "      <td>39.99</td>\n",
              "      <td>0.23</td>\n",
              "      <td>990.0</td>\n",
              "      <td>5</td>\n",
              "      <td>0</td>\n",
              "      <td>1</td>\n",
              "      <td>0</td>\n",
              "      <td>0</td>\n",
              "      <td>0</td>\n",
              "      <td>0</td>\n",
              "      <td>0</td>\n",
              "      <td>0</td>\n",
              "      <td>0</td>\n",
              "      <td>1</td>\n",
              "    </tr>\n",
              "    <tr>\n",
              "      <th>5</th>\n",
              "      <td>2020-01-01</td>\n",
              "      <td>101</td>\n",
              "      <td>101. (구)합정동 주민센터</td>\n",
              "      <td>정기</td>\n",
              "      <td>1</td>\n",
              "      <td>25.48</td>\n",
              "      <td>0.23</td>\n",
              "      <td>990.0</td>\n",
              "      <td>5</td>\n",
              "      <td>0</td>\n",
              "      <td>0</td>\n",
              "      <td>0</td>\n",
              "      <td>0</td>\n",
              "      <td>1</td>\n",
              "      <td>0</td>\n",
              "      <td>0</td>\n",
              "      <td>0</td>\n",
              "      <td>0</td>\n",
              "      <td>1</td>\n",
              "    </tr>\n",
              "    <tr>\n",
              "      <th>6</th>\n",
              "      <td>2020-01-01</td>\n",
              "      <td>101</td>\n",
              "      <td>101. (구)합정동 주민센터</td>\n",
              "      <td>정기</td>\n",
              "      <td>1</td>\n",
              "      <td>17.63</td>\n",
              "      <td>0.14</td>\n",
              "      <td>610.0</td>\n",
              "      <td>2</td>\n",
              "      <td>0</td>\n",
              "      <td>0</td>\n",
              "      <td>0</td>\n",
              "      <td>0</td>\n",
              "      <td>0</td>\n",
              "      <td>0</td>\n",
              "      <td>0</td>\n",
              "      <td>1</td>\n",
              "      <td>0</td>\n",
              "      <td>1</td>\n",
              "    </tr>\n",
              "    <tr>\n",
              "      <th>...</th>\n",
              "      <td>...</td>\n",
              "      <td>...</td>\n",
              "      <td>...</td>\n",
              "      <td>...</td>\n",
              "      <td>...</td>\n",
              "      <td>...</td>\n",
              "      <td>...</td>\n",
              "      <td>...</td>\n",
              "      <td>...</td>\n",
              "      <td>...</td>\n",
              "      <td>...</td>\n",
              "      <td>...</td>\n",
              "      <td>...</td>\n",
              "      <td>...</td>\n",
              "      <td>...</td>\n",
              "      <td>...</td>\n",
              "      <td>...</td>\n",
              "      <td>...</td>\n",
              "      <td>...</td>\n",
              "    </tr>\n",
              "    <tr>\n",
              "      <th>3052543</th>\n",
              "      <td>2020-05-31</td>\n",
              "      <td>3560</td>\n",
              "      <td>3560.성동구 견인차량 보관소 앞</td>\n",
              "      <td>일일(회원)</td>\n",
              "      <td>1</td>\n",
              "      <td>0.00</td>\n",
              "      <td>0.00</td>\n",
              "      <td>0.0</td>\n",
              "      <td>113</td>\n",
              "      <td>0</td>\n",
              "      <td>0</td>\n",
              "      <td>1</td>\n",
              "      <td>0</td>\n",
              "      <td>0</td>\n",
              "      <td>0</td>\n",
              "      <td>0</td>\n",
              "      <td>0</td>\n",
              "      <td>0</td>\n",
              "      <td>1</td>\n",
              "    </tr>\n",
              "    <tr>\n",
              "      <th>3052549</th>\n",
              "      <td>2020-05-31</td>\n",
              "      <td>3560</td>\n",
              "      <td>3560.성동구 견인차량 보관소 앞</td>\n",
              "      <td>정기</td>\n",
              "      <td>1</td>\n",
              "      <td>0.00</td>\n",
              "      <td>0.00</td>\n",
              "      <td>0.0</td>\n",
              "      <td>34</td>\n",
              "      <td>0</td>\n",
              "      <td>1</td>\n",
              "      <td>0</td>\n",
              "      <td>0</td>\n",
              "      <td>0</td>\n",
              "      <td>0</td>\n",
              "      <td>0</td>\n",
              "      <td>0</td>\n",
              "      <td>0</td>\n",
              "      <td>1</td>\n",
              "    </tr>\n",
              "    <tr>\n",
              "      <th>3052550</th>\n",
              "      <td>2020-05-31</td>\n",
              "      <td>3560</td>\n",
              "      <td>3560.성동구 견인차량 보관소 앞</td>\n",
              "      <td>정기</td>\n",
              "      <td>1</td>\n",
              "      <td>0.00</td>\n",
              "      <td>0.00</td>\n",
              "      <td>0.0</td>\n",
              "      <td>13</td>\n",
              "      <td>0</td>\n",
              "      <td>0</td>\n",
              "      <td>1</td>\n",
              "      <td>0</td>\n",
              "      <td>0</td>\n",
              "      <td>0</td>\n",
              "      <td>0</td>\n",
              "      <td>0</td>\n",
              "      <td>0</td>\n",
              "      <td>1</td>\n",
              "    </tr>\n",
              "    <tr>\n",
              "      <th>3052551</th>\n",
              "      <td>2020-05-31</td>\n",
              "      <td>3560</td>\n",
              "      <td>3560.성동구 견인차량 보관소 앞</td>\n",
              "      <td>정기</td>\n",
              "      <td>2</td>\n",
              "      <td>0.00</td>\n",
              "      <td>0.00</td>\n",
              "      <td>0.0</td>\n",
              "      <td>20</td>\n",
              "      <td>0</td>\n",
              "      <td>0</td>\n",
              "      <td>0</td>\n",
              "      <td>1</td>\n",
              "      <td>0</td>\n",
              "      <td>0</td>\n",
              "      <td>0</td>\n",
              "      <td>0</td>\n",
              "      <td>0</td>\n",
              "      <td>1</td>\n",
              "    </tr>\n",
              "    <tr>\n",
              "      <th>3052552</th>\n",
              "      <td>2020-05-31</td>\n",
              "      <td>3560</td>\n",
              "      <td>3560.성동구 견인차량 보관소 앞</td>\n",
              "      <td>정기</td>\n",
              "      <td>1</td>\n",
              "      <td>0.00</td>\n",
              "      <td>0.00</td>\n",
              "      <td>0.0</td>\n",
              "      <td>14</td>\n",
              "      <td>0</td>\n",
              "      <td>0</td>\n",
              "      <td>0</td>\n",
              "      <td>0</td>\n",
              "      <td>1</td>\n",
              "      <td>0</td>\n",
              "      <td>0</td>\n",
              "      <td>0</td>\n",
              "      <td>0</td>\n",
              "      <td>1</td>\n",
              "    </tr>\n",
              "  </tbody>\n",
              "</table>\n",
              "<p>1455636 rows × 19 columns</p>\n",
              "</div>"
            ],
            "text/plain": [
              "               대여일자  대여소번호                  대여소  ... 연령대코드_AGE_008  성별_F  성별_M\n",
              "2        2020-01-01    101     101. (구)합정동 주민센터  ...             0     1     0\n",
              "3        2020-01-01    101     101. (구)합정동 주민센터  ...             0     1     0\n",
              "4        2020-01-01    101     101. (구)합정동 주민센터  ...             0     0     1\n",
              "5        2020-01-01    101     101. (구)합정동 주민센터  ...             0     0     1\n",
              "6        2020-01-01    101     101. (구)합정동 주민센터  ...             1     0     1\n",
              "...             ...    ...                  ...  ...           ...   ...   ...\n",
              "3052543  2020-05-31   3560  3560.성동구 견인차량 보관소 앞  ...             0     0     1\n",
              "3052549  2020-05-31   3560  3560.성동구 견인차량 보관소 앞  ...             0     0     1\n",
              "3052550  2020-05-31   3560  3560.성동구 견인차량 보관소 앞  ...             0     0     1\n",
              "3052551  2020-05-31   3560  3560.성동구 견인차량 보관소 앞  ...             0     0     1\n",
              "3052552  2020-05-31   3560  3560.성동구 견인차량 보관소 앞  ...             0     0     1\n",
              "\n",
              "[1455636 rows x 19 columns]"
            ]
          },
          "metadata": {},
          "execution_count": 22
        }
      ],
      "source": [
        "df2"
      ]
    },
    {
      "cell_type": "markdown",
      "metadata": {
        "id": "tlrwbEstG3O5"
      },
      "source": [
        "바뀐 데이터 프레임 확인"
      ]
    },
    {
      "cell_type": "code",
      "execution_count": null,
      "metadata": {
        "id": "Ro0VDEqrjYTB",
        "scrolled": true,
        "colab": {
          "base_uri": "https://localhost:8080/"
        },
        "outputId": "34d78654-182b-4786-874f-5f2ecb147f0b"
      },
      "outputs": [
        {
          "output_type": "execute_result",
          "data": {
            "text/plain": [
              "['정기', '일일(회원)', '단체', '일일(비회원)', 'BIL_021']"
            ]
          },
          "metadata": {},
          "execution_count": 23
        }
      ],
      "source": [
        "val_name = list(df2['대여구분코드'].unique())\n",
        "val_name"
      ]
    },
    {
      "cell_type": "markdown",
      "metadata": {
        "id": "KbX5rN-aG79o"
      },
      "source": [
        "대여구분코드 컬럼에 무슨 값이 존재하는지 가져온다"
      ]
    },
    {
      "cell_type": "code",
      "execution_count": null,
      "metadata": {
        "id": "tOp58f4D4dI2"
      },
      "outputs": [],
      "source": [
        "df2 = df2.replace(val_name,[1,0,0,0,0])"
      ]
    },
    {
      "cell_type": "markdown",
      "metadata": {
        "id": "b0k-37nMHGBG"
      },
      "source": [
        "정기권과 나머지 다른 권을 구분하고 싶으므로 정기권은 1, 다른 값들은 0으로 값을 변환한다."
      ]
    },
    {
      "cell_type": "code",
      "execution_count": null,
      "metadata": {
        "id": "edifnKGQ6iis",
        "colab": {
          "base_uri": "https://localhost:8080/",
          "height": 1000
        },
        "outputId": "baa1c904-a600-4f51-bc82-5ff0f9b228ee"
      },
      "outputs": [
        {
          "output_type": "execute_result",
          "data": {
            "text/html": [
              "<div>\n",
              "<style scoped>\n",
              "    .dataframe tbody tr th:only-of-type {\n",
              "        vertical-align: middle;\n",
              "    }\n",
              "\n",
              "    .dataframe tbody tr th {\n",
              "        vertical-align: top;\n",
              "    }\n",
              "\n",
              "    .dataframe thead th {\n",
              "        text-align: right;\n",
              "    }\n",
              "</style>\n",
              "<table border=\"1\" class=\"dataframe\">\n",
              "  <thead>\n",
              "    <tr style=\"text-align: right;\">\n",
              "      <th></th>\n",
              "      <th>대여일자</th>\n",
              "      <th>대여소번호</th>\n",
              "      <th>대여소</th>\n",
              "      <th>대여구분코드</th>\n",
              "      <th>이용건수</th>\n",
              "      <th>운동량</th>\n",
              "      <th>탄소량</th>\n",
              "      <th>이동거리(M)</th>\n",
              "      <th>이용시간(분)</th>\n",
              "      <th>연령대코드_AGE_001</th>\n",
              "      <th>연령대코드_AGE_002</th>\n",
              "      <th>연령대코드_AGE_003</th>\n",
              "      <th>연령대코드_AGE_004</th>\n",
              "      <th>연령대코드_AGE_005</th>\n",
              "      <th>연령대코드_AGE_006</th>\n",
              "      <th>연령대코드_AGE_007</th>\n",
              "      <th>연령대코드_AGE_008</th>\n",
              "      <th>성별_F</th>\n",
              "      <th>성별_M</th>\n",
              "    </tr>\n",
              "  </thead>\n",
              "  <tbody>\n",
              "    <tr>\n",
              "      <th>2</th>\n",
              "      <td>2020-01-01</td>\n",
              "      <td>101</td>\n",
              "      <td>101. (구)합정동 주민센터</td>\n",
              "      <td>1</td>\n",
              "      <td>1</td>\n",
              "      <td>72.07</td>\n",
              "      <td>0.75</td>\n",
              "      <td>3250.0</td>\n",
              "      <td>21</td>\n",
              "      <td>0</td>\n",
              "      <td>1</td>\n",
              "      <td>0</td>\n",
              "      <td>0</td>\n",
              "      <td>0</td>\n",
              "      <td>0</td>\n",
              "      <td>0</td>\n",
              "      <td>0</td>\n",
              "      <td>1</td>\n",
              "      <td>0</td>\n",
              "    </tr>\n",
              "    <tr>\n",
              "      <th>3</th>\n",
              "      <td>2020-01-01</td>\n",
              "      <td>101</td>\n",
              "      <td>101. (구)합정동 주민센터</td>\n",
              "      <td>1</td>\n",
              "      <td>1</td>\n",
              "      <td>157.56</td>\n",
              "      <td>1.59</td>\n",
              "      <td>6860.0</td>\n",
              "      <td>46</td>\n",
              "      <td>0</td>\n",
              "      <td>0</td>\n",
              "      <td>0</td>\n",
              "      <td>1</td>\n",
              "      <td>0</td>\n",
              "      <td>0</td>\n",
              "      <td>0</td>\n",
              "      <td>0</td>\n",
              "      <td>1</td>\n",
              "      <td>0</td>\n",
              "    </tr>\n",
              "    <tr>\n",
              "      <th>4</th>\n",
              "      <td>2020-01-01</td>\n",
              "      <td>101</td>\n",
              "      <td>101. (구)합정동 주민센터</td>\n",
              "      <td>1</td>\n",
              "      <td>1</td>\n",
              "      <td>39.99</td>\n",
              "      <td>0.23</td>\n",
              "      <td>990.0</td>\n",
              "      <td>5</td>\n",
              "      <td>0</td>\n",
              "      <td>1</td>\n",
              "      <td>0</td>\n",
              "      <td>0</td>\n",
              "      <td>0</td>\n",
              "      <td>0</td>\n",
              "      <td>0</td>\n",
              "      <td>0</td>\n",
              "      <td>0</td>\n",
              "      <td>1</td>\n",
              "    </tr>\n",
              "    <tr>\n",
              "      <th>5</th>\n",
              "      <td>2020-01-01</td>\n",
              "      <td>101</td>\n",
              "      <td>101. (구)합정동 주민센터</td>\n",
              "      <td>1</td>\n",
              "      <td>1</td>\n",
              "      <td>25.48</td>\n",
              "      <td>0.23</td>\n",
              "      <td>990.0</td>\n",
              "      <td>5</td>\n",
              "      <td>0</td>\n",
              "      <td>0</td>\n",
              "      <td>0</td>\n",
              "      <td>0</td>\n",
              "      <td>1</td>\n",
              "      <td>0</td>\n",
              "      <td>0</td>\n",
              "      <td>0</td>\n",
              "      <td>0</td>\n",
              "      <td>1</td>\n",
              "    </tr>\n",
              "    <tr>\n",
              "      <th>6</th>\n",
              "      <td>2020-01-01</td>\n",
              "      <td>101</td>\n",
              "      <td>101. (구)합정동 주민센터</td>\n",
              "      <td>1</td>\n",
              "      <td>1</td>\n",
              "      <td>17.63</td>\n",
              "      <td>0.14</td>\n",
              "      <td>610.0</td>\n",
              "      <td>2</td>\n",
              "      <td>0</td>\n",
              "      <td>0</td>\n",
              "      <td>0</td>\n",
              "      <td>0</td>\n",
              "      <td>0</td>\n",
              "      <td>0</td>\n",
              "      <td>0</td>\n",
              "      <td>1</td>\n",
              "      <td>0</td>\n",
              "      <td>1</td>\n",
              "    </tr>\n",
              "    <tr>\n",
              "      <th>8</th>\n",
              "      <td>2020-01-01</td>\n",
              "      <td>102</td>\n",
              "      <td>102. 망원역 1번출구 앞</td>\n",
              "      <td>0</td>\n",
              "      <td>2</td>\n",
              "      <td>215.70</td>\n",
              "      <td>1.91</td>\n",
              "      <td>8230.0</td>\n",
              "      <td>40</td>\n",
              "      <td>0</td>\n",
              "      <td>0</td>\n",
              "      <td>1</td>\n",
              "      <td>0</td>\n",
              "      <td>0</td>\n",
              "      <td>0</td>\n",
              "      <td>0</td>\n",
              "      <td>0</td>\n",
              "      <td>0</td>\n",
              "      <td>1</td>\n",
              "    </tr>\n",
              "    <tr>\n",
              "      <th>9</th>\n",
              "      <td>2020-01-01</td>\n",
              "      <td>102</td>\n",
              "      <td>102. 망원역 1번출구 앞</td>\n",
              "      <td>0</td>\n",
              "      <td>1</td>\n",
              "      <td>157.60</td>\n",
              "      <td>1.38</td>\n",
              "      <td>5940.0</td>\n",
              "      <td>52</td>\n",
              "      <td>0</td>\n",
              "      <td>0</td>\n",
              "      <td>0</td>\n",
              "      <td>1</td>\n",
              "      <td>0</td>\n",
              "      <td>0</td>\n",
              "      <td>0</td>\n",
              "      <td>0</td>\n",
              "      <td>0</td>\n",
              "      <td>1</td>\n",
              "    </tr>\n",
              "    <tr>\n",
              "      <th>15</th>\n",
              "      <td>2020-01-01</td>\n",
              "      <td>102</td>\n",
              "      <td>102. 망원역 1번출구 앞</td>\n",
              "      <td>1</td>\n",
              "      <td>1</td>\n",
              "      <td>9.90</td>\n",
              "      <td>0.12</td>\n",
              "      <td>500.0</td>\n",
              "      <td>5</td>\n",
              "      <td>0</td>\n",
              "      <td>1</td>\n",
              "      <td>0</td>\n",
              "      <td>0</td>\n",
              "      <td>0</td>\n",
              "      <td>0</td>\n",
              "      <td>0</td>\n",
              "      <td>0</td>\n",
              "      <td>1</td>\n",
              "      <td>0</td>\n",
              "    </tr>\n",
              "    <tr>\n",
              "      <th>16</th>\n",
              "      <td>2020-01-01</td>\n",
              "      <td>102</td>\n",
              "      <td>102. 망원역 1번출구 앞</td>\n",
              "      <td>1</td>\n",
              "      <td>2</td>\n",
              "      <td>103.91</td>\n",
              "      <td>1.18</td>\n",
              "      <td>5050.0</td>\n",
              "      <td>38</td>\n",
              "      <td>0</td>\n",
              "      <td>0</td>\n",
              "      <td>1</td>\n",
              "      <td>0</td>\n",
              "      <td>0</td>\n",
              "      <td>0</td>\n",
              "      <td>0</td>\n",
              "      <td>0</td>\n",
              "      <td>1</td>\n",
              "      <td>0</td>\n",
              "    </tr>\n",
              "    <tr>\n",
              "      <th>17</th>\n",
              "      <td>2020-01-01</td>\n",
              "      <td>102</td>\n",
              "      <td>102. 망원역 1번출구 앞</td>\n",
              "      <td>1</td>\n",
              "      <td>1</td>\n",
              "      <td>79.50</td>\n",
              "      <td>0.64</td>\n",
              "      <td>2750.0</td>\n",
              "      <td>11</td>\n",
              "      <td>0</td>\n",
              "      <td>0</td>\n",
              "      <td>0</td>\n",
              "      <td>0</td>\n",
              "      <td>0</td>\n",
              "      <td>1</td>\n",
              "      <td>0</td>\n",
              "      <td>0</td>\n",
              "      <td>1</td>\n",
              "      <td>0</td>\n",
              "    </tr>\n",
              "    <tr>\n",
              "      <th>18</th>\n",
              "      <td>2020-01-01</td>\n",
              "      <td>102</td>\n",
              "      <td>102. 망원역 1번출구 앞</td>\n",
              "      <td>1</td>\n",
              "      <td>3</td>\n",
              "      <td>82.87</td>\n",
              "      <td>0.63</td>\n",
              "      <td>2730.0</td>\n",
              "      <td>66</td>\n",
              "      <td>0</td>\n",
              "      <td>1</td>\n",
              "      <td>0</td>\n",
              "      <td>0</td>\n",
              "      <td>0</td>\n",
              "      <td>0</td>\n",
              "      <td>0</td>\n",
              "      <td>0</td>\n",
              "      <td>0</td>\n",
              "      <td>1</td>\n",
              "    </tr>\n",
              "    <tr>\n",
              "      <th>19</th>\n",
              "      <td>2020-01-01</td>\n",
              "      <td>102</td>\n",
              "      <td>102. 망원역 1번출구 앞</td>\n",
              "      <td>1</td>\n",
              "      <td>3</td>\n",
              "      <td>1839.13</td>\n",
              "      <td>15.03</td>\n",
              "      <td>64810.0</td>\n",
              "      <td>66</td>\n",
              "      <td>0</td>\n",
              "      <td>0</td>\n",
              "      <td>1</td>\n",
              "      <td>0</td>\n",
              "      <td>0</td>\n",
              "      <td>0</td>\n",
              "      <td>0</td>\n",
              "      <td>0</td>\n",
              "      <td>0</td>\n",
              "      <td>1</td>\n",
              "    </tr>\n",
              "    <tr>\n",
              "      <th>20</th>\n",
              "      <td>2020-01-01</td>\n",
              "      <td>102</td>\n",
              "      <td>102. 망원역 1번출구 앞</td>\n",
              "      <td>1</td>\n",
              "      <td>1</td>\n",
              "      <td>37.36</td>\n",
              "      <td>0.26</td>\n",
              "      <td>1110.0</td>\n",
              "      <td>9</td>\n",
              "      <td>0</td>\n",
              "      <td>0</td>\n",
              "      <td>0</td>\n",
              "      <td>1</td>\n",
              "      <td>0</td>\n",
              "      <td>0</td>\n",
              "      <td>0</td>\n",
              "      <td>0</td>\n",
              "      <td>0</td>\n",
              "      <td>1</td>\n",
              "    </tr>\n",
              "    <tr>\n",
              "      <th>21</th>\n",
              "      <td>2020-01-01</td>\n",
              "      <td>103</td>\n",
              "      <td>103. 망원역 2번출구 앞</td>\n",
              "      <td>0</td>\n",
              "      <td>1</td>\n",
              "      <td>21.44</td>\n",
              "      <td>0.22</td>\n",
              "      <td>950.0</td>\n",
              "      <td>5</td>\n",
              "      <td>0</td>\n",
              "      <td>1</td>\n",
              "      <td>0</td>\n",
              "      <td>0</td>\n",
              "      <td>0</td>\n",
              "      <td>0</td>\n",
              "      <td>0</td>\n",
              "      <td>0</td>\n",
              "      <td>0</td>\n",
              "      <td>1</td>\n",
              "    </tr>\n",
              "    <tr>\n",
              "      <th>22</th>\n",
              "      <td>2020-01-01</td>\n",
              "      <td>103</td>\n",
              "      <td>103. 망원역 2번출구 앞</td>\n",
              "      <td>0</td>\n",
              "      <td>1</td>\n",
              "      <td>73.18</td>\n",
              "      <td>0.54</td>\n",
              "      <td>2310.0</td>\n",
              "      <td>22</td>\n",
              "      <td>0</td>\n",
              "      <td>0</td>\n",
              "      <td>1</td>\n",
              "      <td>0</td>\n",
              "      <td>0</td>\n",
              "      <td>0</td>\n",
              "      <td>0</td>\n",
              "      <td>0</td>\n",
              "      <td>0</td>\n",
              "      <td>1</td>\n",
              "    </tr>\n",
              "    <tr>\n",
              "      <th>28</th>\n",
              "      <td>2020-01-01</td>\n",
              "      <td>103</td>\n",
              "      <td>103. 망원역 2번출구 앞</td>\n",
              "      <td>1</td>\n",
              "      <td>1</td>\n",
              "      <td>246.71</td>\n",
              "      <td>2.06</td>\n",
              "      <td>8900.0</td>\n",
              "      <td>78</td>\n",
              "      <td>1</td>\n",
              "      <td>0</td>\n",
              "      <td>0</td>\n",
              "      <td>0</td>\n",
              "      <td>0</td>\n",
              "      <td>0</td>\n",
              "      <td>0</td>\n",
              "      <td>0</td>\n",
              "      <td>1</td>\n",
              "      <td>0</td>\n",
              "    </tr>\n",
              "    <tr>\n",
              "      <th>29</th>\n",
              "      <td>2020-01-01</td>\n",
              "      <td>103</td>\n",
              "      <td>103. 망원역 2번출구 앞</td>\n",
              "      <td>1</td>\n",
              "      <td>4</td>\n",
              "      <td>103.10</td>\n",
              "      <td>1.17</td>\n",
              "      <td>5020.0</td>\n",
              "      <td>118</td>\n",
              "      <td>0</td>\n",
              "      <td>1</td>\n",
              "      <td>0</td>\n",
              "      <td>0</td>\n",
              "      <td>0</td>\n",
              "      <td>0</td>\n",
              "      <td>0</td>\n",
              "      <td>0</td>\n",
              "      <td>1</td>\n",
              "      <td>0</td>\n",
              "    </tr>\n",
              "    <tr>\n",
              "      <th>30</th>\n",
              "      <td>2020-01-01</td>\n",
              "      <td>103</td>\n",
              "      <td>103. 망원역 2번출구 앞</td>\n",
              "      <td>1</td>\n",
              "      <td>2</td>\n",
              "      <td>75.16</td>\n",
              "      <td>0.67</td>\n",
              "      <td>2920.0</td>\n",
              "      <td>18</td>\n",
              "      <td>0</td>\n",
              "      <td>0</td>\n",
              "      <td>1</td>\n",
              "      <td>0</td>\n",
              "      <td>0</td>\n",
              "      <td>0</td>\n",
              "      <td>0</td>\n",
              "      <td>0</td>\n",
              "      <td>1</td>\n",
              "      <td>0</td>\n",
              "    </tr>\n",
              "    <tr>\n",
              "      <th>31</th>\n",
              "      <td>2020-01-01</td>\n",
              "      <td>103</td>\n",
              "      <td>103. 망원역 2번출구 앞</td>\n",
              "      <td>1</td>\n",
              "      <td>1</td>\n",
              "      <td>47.36</td>\n",
              "      <td>0.43</td>\n",
              "      <td>1840.0</td>\n",
              "      <td>17</td>\n",
              "      <td>0</td>\n",
              "      <td>1</td>\n",
              "      <td>0</td>\n",
              "      <td>0</td>\n",
              "      <td>0</td>\n",
              "      <td>0</td>\n",
              "      <td>0</td>\n",
              "      <td>0</td>\n",
              "      <td>0</td>\n",
              "      <td>1</td>\n",
              "    </tr>\n",
              "    <tr>\n",
              "      <th>32</th>\n",
              "      <td>2020-01-01</td>\n",
              "      <td>103</td>\n",
              "      <td>103. 망원역 2번출구 앞</td>\n",
              "      <td>1</td>\n",
              "      <td>7</td>\n",
              "      <td>3025.71</td>\n",
              "      <td>25.66</td>\n",
              "      <td>110590.0</td>\n",
              "      <td>76</td>\n",
              "      <td>0</td>\n",
              "      <td>0</td>\n",
              "      <td>1</td>\n",
              "      <td>0</td>\n",
              "      <td>0</td>\n",
              "      <td>0</td>\n",
              "      <td>0</td>\n",
              "      <td>0</td>\n",
              "      <td>0</td>\n",
              "      <td>1</td>\n",
              "    </tr>\n",
              "    <tr>\n",
              "      <th>33</th>\n",
              "      <td>2020-01-01</td>\n",
              "      <td>103</td>\n",
              "      <td>103. 망원역 2번출구 앞</td>\n",
              "      <td>1</td>\n",
              "      <td>1</td>\n",
              "      <td>30.65</td>\n",
              "      <td>0.20</td>\n",
              "      <td>860.0</td>\n",
              "      <td>3</td>\n",
              "      <td>0</td>\n",
              "      <td>0</td>\n",
              "      <td>0</td>\n",
              "      <td>1</td>\n",
              "      <td>0</td>\n",
              "      <td>0</td>\n",
              "      <td>0</td>\n",
              "      <td>0</td>\n",
              "      <td>0</td>\n",
              "      <td>1</td>\n",
              "    </tr>\n",
              "    <tr>\n",
              "      <th>38</th>\n",
              "      <td>2020-01-01</td>\n",
              "      <td>104</td>\n",
              "      <td>104. 합정역 1번출구 앞</td>\n",
              "      <td>0</td>\n",
              "      <td>1</td>\n",
              "      <td>52.75</td>\n",
              "      <td>0.52</td>\n",
              "      <td>2220.0</td>\n",
              "      <td>13</td>\n",
              "      <td>0</td>\n",
              "      <td>1</td>\n",
              "      <td>0</td>\n",
              "      <td>0</td>\n",
              "      <td>0</td>\n",
              "      <td>0</td>\n",
              "      <td>0</td>\n",
              "      <td>0</td>\n",
              "      <td>1</td>\n",
              "      <td>0</td>\n",
              "    </tr>\n",
              "    <tr>\n",
              "      <th>39</th>\n",
              "      <td>2020-01-01</td>\n",
              "      <td>104</td>\n",
              "      <td>104. 합정역 1번출구 앞</td>\n",
              "      <td>0</td>\n",
              "      <td>1</td>\n",
              "      <td>145.05</td>\n",
              "      <td>1.55</td>\n",
              "      <td>6660.0</td>\n",
              "      <td>57</td>\n",
              "      <td>0</td>\n",
              "      <td>1</td>\n",
              "      <td>0</td>\n",
              "      <td>0</td>\n",
              "      <td>0</td>\n",
              "      <td>0</td>\n",
              "      <td>0</td>\n",
              "      <td>0</td>\n",
              "      <td>0</td>\n",
              "      <td>1</td>\n",
              "    </tr>\n",
              "    <tr>\n",
              "      <th>45</th>\n",
              "      <td>2020-01-01</td>\n",
              "      <td>104</td>\n",
              "      <td>104. 합정역 1번출구 앞</td>\n",
              "      <td>1</td>\n",
              "      <td>2</td>\n",
              "      <td>87.67</td>\n",
              "      <td>0.97</td>\n",
              "      <td>4200.0</td>\n",
              "      <td>33</td>\n",
              "      <td>0</td>\n",
              "      <td>1</td>\n",
              "      <td>0</td>\n",
              "      <td>0</td>\n",
              "      <td>0</td>\n",
              "      <td>0</td>\n",
              "      <td>0</td>\n",
              "      <td>0</td>\n",
              "      <td>1</td>\n",
              "      <td>0</td>\n",
              "    </tr>\n",
              "    <tr>\n",
              "      <th>46</th>\n",
              "      <td>2020-01-01</td>\n",
              "      <td>104</td>\n",
              "      <td>104. 합정역 1번출구 앞</td>\n",
              "      <td>1</td>\n",
              "      <td>3</td>\n",
              "      <td>402.31</td>\n",
              "      <td>2.50</td>\n",
              "      <td>10770.0</td>\n",
              "      <td>57</td>\n",
              "      <td>0</td>\n",
              "      <td>1</td>\n",
              "      <td>0</td>\n",
              "      <td>0</td>\n",
              "      <td>0</td>\n",
              "      <td>0</td>\n",
              "      <td>0</td>\n",
              "      <td>0</td>\n",
              "      <td>0</td>\n",
              "      <td>1</td>\n",
              "    </tr>\n",
              "    <tr>\n",
              "      <th>47</th>\n",
              "      <td>2020-01-01</td>\n",
              "      <td>104</td>\n",
              "      <td>104. 합정역 1번출구 앞</td>\n",
              "      <td>1</td>\n",
              "      <td>4</td>\n",
              "      <td>221.54</td>\n",
              "      <td>1.73</td>\n",
              "      <td>7420.0</td>\n",
              "      <td>44</td>\n",
              "      <td>0</td>\n",
              "      <td>0</td>\n",
              "      <td>1</td>\n",
              "      <td>0</td>\n",
              "      <td>0</td>\n",
              "      <td>0</td>\n",
              "      <td>0</td>\n",
              "      <td>0</td>\n",
              "      <td>0</td>\n",
              "      <td>1</td>\n",
              "    </tr>\n",
              "    <tr>\n",
              "      <th>48</th>\n",
              "      <td>2020-01-01</td>\n",
              "      <td>104</td>\n",
              "      <td>104. 합정역 1번출구 앞</td>\n",
              "      <td>1</td>\n",
              "      <td>1</td>\n",
              "      <td>279.73</td>\n",
              "      <td>2.05</td>\n",
              "      <td>8830.0</td>\n",
              "      <td>40</td>\n",
              "      <td>0</td>\n",
              "      <td>0</td>\n",
              "      <td>0</td>\n",
              "      <td>1</td>\n",
              "      <td>0</td>\n",
              "      <td>0</td>\n",
              "      <td>0</td>\n",
              "      <td>0</td>\n",
              "      <td>0</td>\n",
              "      <td>1</td>\n",
              "    </tr>\n",
              "    <tr>\n",
              "      <th>49</th>\n",
              "      <td>2020-01-01</td>\n",
              "      <td>104</td>\n",
              "      <td>104. 합정역 1번출구 앞</td>\n",
              "      <td>1</td>\n",
              "      <td>1</td>\n",
              "      <td>45.86</td>\n",
              "      <td>0.45</td>\n",
              "      <td>1930.0</td>\n",
              "      <td>14</td>\n",
              "      <td>0</td>\n",
              "      <td>0</td>\n",
              "      <td>0</td>\n",
              "      <td>0</td>\n",
              "      <td>1</td>\n",
              "      <td>0</td>\n",
              "      <td>0</td>\n",
              "      <td>0</td>\n",
              "      <td>0</td>\n",
              "      <td>1</td>\n",
              "    </tr>\n",
              "    <tr>\n",
              "      <th>51</th>\n",
              "      <td>2020-01-01</td>\n",
              "      <td>105</td>\n",
              "      <td>105. 합정역 5번출구 앞</td>\n",
              "      <td>0</td>\n",
              "      <td>1</td>\n",
              "      <td>63.84</td>\n",
              "      <td>0.58</td>\n",
              "      <td>2480.0</td>\n",
              "      <td>15</td>\n",
              "      <td>0</td>\n",
              "      <td>1</td>\n",
              "      <td>0</td>\n",
              "      <td>0</td>\n",
              "      <td>0</td>\n",
              "      <td>0</td>\n",
              "      <td>0</td>\n",
              "      <td>0</td>\n",
              "      <td>1</td>\n",
              "      <td>0</td>\n",
              "    </tr>\n",
              "    <tr>\n",
              "      <th>52</th>\n",
              "      <td>2020-01-01</td>\n",
              "      <td>105</td>\n",
              "      <td>105. 합정역 5번출구 앞</td>\n",
              "      <td>0</td>\n",
              "      <td>1</td>\n",
              "      <td>77.53</td>\n",
              "      <td>0.58</td>\n",
              "      <td>2510.0</td>\n",
              "      <td>20</td>\n",
              "      <td>0</td>\n",
              "      <td>0</td>\n",
              "      <td>1</td>\n",
              "      <td>0</td>\n",
              "      <td>0</td>\n",
              "      <td>0</td>\n",
              "      <td>0</td>\n",
              "      <td>0</td>\n",
              "      <td>0</td>\n",
              "      <td>1</td>\n",
              "    </tr>\n",
              "  </tbody>\n",
              "</table>\n",
              "</div>"
            ],
            "text/plain": [
              "          대여일자  대여소번호               대여소  ...  연령대코드_AGE_008  성별_F  성별_M\n",
              "2   2020-01-01    101  101. (구)합정동 주민센터  ...              0     1     0\n",
              "3   2020-01-01    101  101. (구)합정동 주민센터  ...              0     1     0\n",
              "4   2020-01-01    101  101. (구)합정동 주민센터  ...              0     0     1\n",
              "5   2020-01-01    101  101. (구)합정동 주민센터  ...              0     0     1\n",
              "6   2020-01-01    101  101. (구)합정동 주민센터  ...              1     0     1\n",
              "8   2020-01-01    102   102. 망원역 1번출구 앞  ...              0     0     1\n",
              "9   2020-01-01    102   102. 망원역 1번출구 앞  ...              0     0     1\n",
              "15  2020-01-01    102   102. 망원역 1번출구 앞  ...              0     1     0\n",
              "16  2020-01-01    102   102. 망원역 1번출구 앞  ...              0     1     0\n",
              "17  2020-01-01    102   102. 망원역 1번출구 앞  ...              0     1     0\n",
              "18  2020-01-01    102   102. 망원역 1번출구 앞  ...              0     0     1\n",
              "19  2020-01-01    102   102. 망원역 1번출구 앞  ...              0     0     1\n",
              "20  2020-01-01    102   102. 망원역 1번출구 앞  ...              0     0     1\n",
              "21  2020-01-01    103   103. 망원역 2번출구 앞  ...              0     0     1\n",
              "22  2020-01-01    103   103. 망원역 2번출구 앞  ...              0     0     1\n",
              "28  2020-01-01    103   103. 망원역 2번출구 앞  ...              0     1     0\n",
              "29  2020-01-01    103   103. 망원역 2번출구 앞  ...              0     1     0\n",
              "30  2020-01-01    103   103. 망원역 2번출구 앞  ...              0     1     0\n",
              "31  2020-01-01    103   103. 망원역 2번출구 앞  ...              0     0     1\n",
              "32  2020-01-01    103   103. 망원역 2번출구 앞  ...              0     0     1\n",
              "33  2020-01-01    103   103. 망원역 2번출구 앞  ...              0     0     1\n",
              "38  2020-01-01    104   104. 합정역 1번출구 앞  ...              0     1     0\n",
              "39  2020-01-01    104   104. 합정역 1번출구 앞  ...              0     0     1\n",
              "45  2020-01-01    104   104. 합정역 1번출구 앞  ...              0     1     0\n",
              "46  2020-01-01    104   104. 합정역 1번출구 앞  ...              0     0     1\n",
              "47  2020-01-01    104   104. 합정역 1번출구 앞  ...              0     0     1\n",
              "48  2020-01-01    104   104. 합정역 1번출구 앞  ...              0     0     1\n",
              "49  2020-01-01    104   104. 합정역 1번출구 앞  ...              0     0     1\n",
              "51  2020-01-01    105   105. 합정역 5번출구 앞  ...              0     1     0\n",
              "52  2020-01-01    105   105. 합정역 5번출구 앞  ...              0     0     1\n",
              "\n",
              "[30 rows x 19 columns]"
            ]
          },
          "metadata": {},
          "execution_count": 25
        }
      ],
      "source": [
        "df2.head(30)"
      ]
    },
    {
      "cell_type": "markdown",
      "metadata": {
        "id": "HM9C1GMOHYGD"
      },
      "source": [
        "제대로 확인했는 지 위해 데이터프레임 30개만 확인"
      ]
    },
    {
      "cell_type": "code",
      "execution_count": null,
      "metadata": {
        "id": "ILg9xqZ160il",
        "colab": {
          "base_uri": "https://localhost:8080/"
        },
        "outputId": "4467c0e9-f79d-40cc-aef9-50af2af28074"
      },
      "outputs": [
        {
          "output_type": "stream",
          "name": "stdout",
          "text": [
            "<class 'pandas.core.frame.DataFrame'>\n",
            "Int64Index: 1455636 entries, 2 to 3052552\n",
            "Data columns (total 19 columns):\n",
            " #   Column         Non-Null Count    Dtype  \n",
            "---  ------         --------------    -----  \n",
            " 0   대여일자           1455636 non-null  object \n",
            " 1   대여소번호          1455636 non-null  int64  \n",
            " 2   대여소            1455636 non-null  object \n",
            " 3   대여구분코드         1455636 non-null  int64  \n",
            " 4   이용건수           1455636 non-null  int64  \n",
            " 5   운동량            1455636 non-null  float64\n",
            " 6   탄소량            1455636 non-null  float64\n",
            " 7   이동거리(M)        1455636 non-null  float64\n",
            " 8   이용시간(분)        1455636 non-null  int64  \n",
            " 9   연령대코드_AGE_001  1455636 non-null  uint8  \n",
            " 10  연령대코드_AGE_002  1455636 non-null  uint8  \n",
            " 11  연령대코드_AGE_003  1455636 non-null  uint8  \n",
            " 12  연령대코드_AGE_004  1455636 non-null  uint8  \n",
            " 13  연령대코드_AGE_005  1455636 non-null  uint8  \n",
            " 14  연령대코드_AGE_006  1455636 non-null  uint8  \n",
            " 15  연령대코드_AGE_007  1455636 non-null  uint8  \n",
            " 16  연령대코드_AGE_008  1455636 non-null  uint8  \n",
            " 17  성별_F           1455636 non-null  uint8  \n",
            " 18  성별_M           1455636 non-null  uint8  \n",
            "dtypes: float64(3), int64(4), object(2), uint8(10)\n",
            "memory usage: 124.9+ MB\n"
          ]
        }
      ],
      "source": [
        "df2.info()"
      ]
    },
    {
      "cell_type": "markdown",
      "metadata": {
        "id": "X5WjqwxAHgqH"
      },
      "source": [
        "df2의 데이터 형태가 어떻게 존재하는 지 확인하기 위해 작성"
      ]
    },
    {
      "cell_type": "code",
      "execution_count": null,
      "metadata": {
        "id": "pKtRL_uXjYTB",
        "scrolled": true,
        "colab": {
          "base_uri": "https://localhost:8080/"
        },
        "outputId": "c453cd8c-9774-4c43-ee45-94290a9c13af"
      },
      "outputs": [
        {
          "output_type": "execute_result",
          "data": {
            "text/plain": [
              "['대여일자',\n",
              " '대여소번호',\n",
              " '대여소',\n",
              " '대여구분코드',\n",
              " '이용건수',\n",
              " '운동량',\n",
              " '탄소량',\n",
              " '이동거리(M)',\n",
              " '이용시간(분)',\n",
              " '연령대코드_AGE_001',\n",
              " '연령대코드_AGE_002',\n",
              " '연령대코드_AGE_003',\n",
              " '연령대코드_AGE_004',\n",
              " '연령대코드_AGE_005',\n",
              " '연령대코드_AGE_006',\n",
              " '연령대코드_AGE_007',\n",
              " '연령대코드_AGE_008',\n",
              " '성별_F',\n",
              " '성별_M']"
            ]
          },
          "metadata": {},
          "execution_count": 27
        }
      ],
      "source": [
        "colname = list(df2.columns)\n",
        "colname"
      ]
    },
    {
      "cell_type": "markdown",
      "metadata": {
        "id": "UwEJXpheIh5S"
      },
      "source": [
        "df2의 컬럼을 제대로 보기위해 컬럼을 불러오는 코드 작성"
      ]
    },
    {
      "cell_type": "code",
      "execution_count": null,
      "metadata": {
        "id": "sDWh8PemjYTB",
        "scrolled": true
      },
      "outputs": [],
      "source": [
        "df3 = df2[['대여구분코드',\n",
        " '이용건수',\n",
        " '운동량',\n",
        " '탄소량',\n",
        " '이동거리(M)',\n",
        " '이용시간(분)',\n",
        " '연령대코드_AGE_001',\n",
        " '연령대코드_AGE_002',\n",
        " '연령대코드_AGE_003',\n",
        " '연령대코드_AGE_004',\n",
        " '연령대코드_AGE_005',\n",
        " '연령대코드_AGE_006',\n",
        " '연령대코드_AGE_007',\n",
        " '연령대코드_AGE_008',\n",
        " '성별_F',\n",
        " '성별_M']]"
      ]
    },
    {
      "cell_type": "markdown",
      "metadata": {
        "id": "bfHAB7QWIszN"
      },
      "source": [
        "df3에 새로 컬럼을 담는다"
      ]
    },
    {
      "cell_type": "code",
      "execution_count": null,
      "metadata": {
        "id": "3tFqS4_RjYTC",
        "scrolled": true,
        "colab": {
          "base_uri": "https://localhost:8080/",
          "height": 293
        },
        "outputId": "e4626858-d2c6-4420-c3c6-b0ea124dc96f"
      },
      "outputs": [
        {
          "output_type": "execute_result",
          "data": {
            "text/html": [
              "<div>\n",
              "<style scoped>\n",
              "    .dataframe tbody tr th:only-of-type {\n",
              "        vertical-align: middle;\n",
              "    }\n",
              "\n",
              "    .dataframe tbody tr th {\n",
              "        vertical-align: top;\n",
              "    }\n",
              "\n",
              "    .dataframe thead th {\n",
              "        text-align: right;\n",
              "    }\n",
              "</style>\n",
              "<table border=\"1\" class=\"dataframe\">\n",
              "  <thead>\n",
              "    <tr style=\"text-align: right;\">\n",
              "      <th></th>\n",
              "      <th>대여구분코드</th>\n",
              "      <th>이용건수</th>\n",
              "      <th>운동량</th>\n",
              "      <th>탄소량</th>\n",
              "      <th>이동거리(M)</th>\n",
              "      <th>이용시간(분)</th>\n",
              "      <th>연령대코드_AGE_001</th>\n",
              "      <th>연령대코드_AGE_002</th>\n",
              "      <th>연령대코드_AGE_003</th>\n",
              "      <th>연령대코드_AGE_004</th>\n",
              "      <th>연령대코드_AGE_005</th>\n",
              "      <th>연령대코드_AGE_006</th>\n",
              "      <th>연령대코드_AGE_007</th>\n",
              "      <th>연령대코드_AGE_008</th>\n",
              "      <th>성별_F</th>\n",
              "      <th>성별_M</th>\n",
              "    </tr>\n",
              "  </thead>\n",
              "  <tbody>\n",
              "    <tr>\n",
              "      <th>2</th>\n",
              "      <td>1</td>\n",
              "      <td>1</td>\n",
              "      <td>72.07</td>\n",
              "      <td>0.75</td>\n",
              "      <td>3250.0</td>\n",
              "      <td>21</td>\n",
              "      <td>0</td>\n",
              "      <td>1</td>\n",
              "      <td>0</td>\n",
              "      <td>0</td>\n",
              "      <td>0</td>\n",
              "      <td>0</td>\n",
              "      <td>0</td>\n",
              "      <td>0</td>\n",
              "      <td>1</td>\n",
              "      <td>0</td>\n",
              "    </tr>\n",
              "    <tr>\n",
              "      <th>3</th>\n",
              "      <td>1</td>\n",
              "      <td>1</td>\n",
              "      <td>157.56</td>\n",
              "      <td>1.59</td>\n",
              "      <td>6860.0</td>\n",
              "      <td>46</td>\n",
              "      <td>0</td>\n",
              "      <td>0</td>\n",
              "      <td>0</td>\n",
              "      <td>1</td>\n",
              "      <td>0</td>\n",
              "      <td>0</td>\n",
              "      <td>0</td>\n",
              "      <td>0</td>\n",
              "      <td>1</td>\n",
              "      <td>0</td>\n",
              "    </tr>\n",
              "    <tr>\n",
              "      <th>4</th>\n",
              "      <td>1</td>\n",
              "      <td>1</td>\n",
              "      <td>39.99</td>\n",
              "      <td>0.23</td>\n",
              "      <td>990.0</td>\n",
              "      <td>5</td>\n",
              "      <td>0</td>\n",
              "      <td>1</td>\n",
              "      <td>0</td>\n",
              "      <td>0</td>\n",
              "      <td>0</td>\n",
              "      <td>0</td>\n",
              "      <td>0</td>\n",
              "      <td>0</td>\n",
              "      <td>0</td>\n",
              "      <td>1</td>\n",
              "    </tr>\n",
              "    <tr>\n",
              "      <th>5</th>\n",
              "      <td>1</td>\n",
              "      <td>1</td>\n",
              "      <td>25.48</td>\n",
              "      <td>0.23</td>\n",
              "      <td>990.0</td>\n",
              "      <td>5</td>\n",
              "      <td>0</td>\n",
              "      <td>0</td>\n",
              "      <td>0</td>\n",
              "      <td>0</td>\n",
              "      <td>1</td>\n",
              "      <td>0</td>\n",
              "      <td>0</td>\n",
              "      <td>0</td>\n",
              "      <td>0</td>\n",
              "      <td>1</td>\n",
              "    </tr>\n",
              "    <tr>\n",
              "      <th>6</th>\n",
              "      <td>1</td>\n",
              "      <td>1</td>\n",
              "      <td>17.63</td>\n",
              "      <td>0.14</td>\n",
              "      <td>610.0</td>\n",
              "      <td>2</td>\n",
              "      <td>0</td>\n",
              "      <td>0</td>\n",
              "      <td>0</td>\n",
              "      <td>0</td>\n",
              "      <td>0</td>\n",
              "      <td>0</td>\n",
              "      <td>0</td>\n",
              "      <td>1</td>\n",
              "      <td>0</td>\n",
              "      <td>1</td>\n",
              "    </tr>\n",
              "  </tbody>\n",
              "</table>\n",
              "</div>"
            ],
            "text/plain": [
              "   대여구분코드  이용건수     운동량   탄소량  ...  연령대코드_AGE_007  연령대코드_AGE_008  성별_F  성별_M\n",
              "2       1     1   72.07  0.75  ...              0              0     1     0\n",
              "3       1     1  157.56  1.59  ...              0              0     1     0\n",
              "4       1     1   39.99  0.23  ...              0              0     0     1\n",
              "5       1     1   25.48  0.23  ...              0              0     0     1\n",
              "6       1     1   17.63  0.14  ...              0              1     0     1\n",
              "\n",
              "[5 rows x 16 columns]"
            ]
          },
          "metadata": {},
          "execution_count": 29
        }
      ],
      "source": [
        "df3.head()"
      ]
    },
    {
      "cell_type": "markdown",
      "metadata": {
        "id": "dBP-TMy6Iwb-"
      },
      "source": [
        "제대로 담겨졌는지 df3의 상위 5개 데이터값만 가져온다\n",
        "\n"
      ]
    },
    {
      "cell_type": "code",
      "execution_count": null,
      "metadata": {
        "id": "uMGhSxW6jYTC"
      },
      "outputs": [],
      "source": [
        "df3.to_csv(\"bycycle_daily.csv\", encoding=\"utf-8\")"
      ]
    },
    {
      "cell_type": "markdown",
      "metadata": {
        "id": "yppIpXcNI-Tr"
      },
      "source": [
        "df3을 csv 파일 utf-8 형식으로 저장한다\n",
        "- 파일 경로를 지정하지 않을 시 drive의 상위폴더인 content에 파일이 저장된다.\n"
      ]
    },
    {
      "cell_type": "code",
      "execution_count": null,
      "metadata": {
        "id": "89jvtZUEjYTC"
      },
      "outputs": [],
      "source": [
        "from sklearn.model_selection import train_test_split"
      ]
    },
    {
      "cell_type": "markdown",
      "metadata": {
        "id": "VW0ZEiLgKG_Z"
      },
      "source": [
        "데이터들을 학습과 시험으로 구분하는 라이브러리"
      ]
    },
    {
      "cell_type": "code",
      "execution_count": null,
      "metadata": {
        "id": "MqUtQbzbjYTC"
      },
      "outputs": [],
      "source": [
        "X = df3.drop('대여구분코드', axis=1)\n",
        "y = df3['대여구분코드']\n",
        "X_train, X_test, y_train, y_test = train_test_split(X, y, test_size=0.2, random_state=100)"
      ]
    },
    {
      "cell_type": "markdown",
      "metadata": {
        "id": "XtdwHUHWKSft"
      },
      "source": [
        "X는 대여구분코드를 제외한 모든 코드를 담고   \n",
        "y는 대여구분코드만 담는다.   \n",
        "데이터를 학습 데이터를 8, 시험데이터를 2로 나누어 담는다 랜덤방법을 100으로 섞어준다"
      ]
    },
    {
      "cell_type": "markdown",
      "metadata": {
        "id": "dlgdQdRmjYTD"
      },
      "source": [
        "# 로지스틱 회귀분석을 통한 정기권 구매 예측"
      ]
    },
    {
      "cell_type": "code",
      "execution_count": null,
      "metadata": {
        "id": "SPlW88iOjYTE"
      },
      "outputs": [],
      "source": [
        "from sklearn.linear_model import LogisticRegression\n",
        "from sklearn.metrics import accuracy_score, confusion_matrix"
      ]
    },
    {
      "cell_type": "markdown",
      "metadata": {
        "id": "Xu_F9hn6K9QT"
      },
      "source": [
        "로지스틱회귀분석 라이브러리를 불러온다    \n",
        "매트릭스 라이브러리 정확도와 오차행렬을 불러온다"
      ]
    },
    {
      "cell_type": "code",
      "execution_count": null,
      "metadata": {
        "id": "THmSgFwdjYTE"
      },
      "outputs": [],
      "source": [
        "model = LogisticRegression()"
      ]
    },
    {
      "cell_type": "markdown",
      "metadata": {
        "id": "jII8WKenLVUL"
      },
      "source": [
        "로지스틱회귀모델을 불러온다"
      ]
    },
    {
      "cell_type": "code",
      "execution_count": null,
      "metadata": {
        "id": "jNx3DUMmVj3R",
        "colab": {
          "base_uri": "https://localhost:8080/"
        },
        "outputId": "5f35e2ad-6438-4f25-9c98-380a05f2ad2c"
      },
      "outputs": [
        {
          "output_type": "stream",
          "name": "stdout",
          "text": [
            "Collecting h5py==2.10.0\n",
            "  Downloading h5py-2.10.0-cp37-cp37m-manylinux1_x86_64.whl (2.9 MB)\n",
            "\u001b[K     |████████████████████████████████| 2.9 MB 4.2 MB/s \n",
            "\u001b[?25hRequirement already satisfied: six in /usr/local/lib/python3.7/dist-packages (from h5py==2.10.0) (1.15.0)\n",
            "Requirement already satisfied: numpy>=1.7 in /usr/local/lib/python3.7/dist-packages (from h5py==2.10.0) (1.19.5)\n",
            "Installing collected packages: h5py\n",
            "  Attempting uninstall: h5py\n",
            "    Found existing installation: h5py 3.1.0\n",
            "    Uninstalling h5py-3.1.0:\n",
            "      Successfully uninstalled h5py-3.1.0\n",
            "Successfully installed h5py-2.10.0\n"
          ]
        }
      ],
      "source": [
        "pip install h5py==2.10.0 "
      ]
    },
    {
      "cell_type": "markdown",
      "metadata": {
        "id": "bR6OOG6vLXdJ"
      },
      "source": [
        "라이브 러리 중 h5py을 2.10.0으로 재설치하여 다운그레이드한다"
      ]
    },
    {
      "cell_type": "markdown",
      "metadata": {
        "id": "l1dfBkEUWC82"
      },
      "source": [
        "**에러 메세지**    \n",
        "오류: pip의 종속성 해석기는 현재 설치된 모든 패키지를 고려하지 않습니다. 이 동작은 다음 종속성 충돌의 원인입니다.\n",
        "tensorflow 2.6.0에는 h5py~=3.1.0이 필요하지만 호환되지 않는 h5py 2.10.0이 있습니다."
      ]
    },
    {
      "cell_type": "code",
      "execution_count": null,
      "metadata": {
        "id": "dNVA_SM2jYTE",
        "colab": {
          "base_uri": "https://localhost:8080/"
        },
        "outputId": "de5d9b23-d10d-495b-ead2-f63f7db2e240"
      },
      "outputs": [
        {
          "output_type": "execute_result",
          "data": {
            "text/plain": [
              "LogisticRegression()"
            ]
          },
          "metadata": {},
          "execution_count": 36
        }
      ],
      "source": [
        "model.fit(X_train, y_train)"
      ]
    },
    {
      "cell_type": "markdown",
      "metadata": {
        "id": "6dPoGy-nVL_W"
      },
      "source": [
        "AttributeError: 'str' object has no attribute 'decode 의 경우   \n",
        "h5py가 3 버전일 때 발생하는 에러이므로   \n",
        "바로 위에 model = LogisticRegression() 을 누르고 +코드를 눌러 코드 칸을 추가한다.   \n",
        "pip install h5py==2.10.0 입력하여 다운그레이드 해준다."
      ]
    },
    {
      "cell_type": "code",
      "execution_count": null,
      "metadata": {
        "id": "IPI0ZwJcjYTE"
      },
      "outputs": [],
      "source": [
        "pred = model.predict(X_test)"
      ]
    },
    {
      "cell_type": "markdown",
      "metadata": {
        "id": "3KW3kpH-Lngq"
      },
      "source": [
        "학습이 잘됬는지 검증할 데이터 X_test를 불러온다"
      ]
    },
    {
      "cell_type": "code",
      "execution_count": null,
      "metadata": {
        "id": "DZ-eakvHjYTF",
        "colab": {
          "base_uri": "https://localhost:8080/"
        },
        "outputId": "7d8c59fe-4a3c-4c81-e2ca-038ee67b696c"
      },
      "outputs": [
        {
          "output_type": "execute_result",
          "data": {
            "text/plain": [
              "0.7545478277596109"
            ]
          },
          "metadata": {},
          "execution_count": 38
        }
      ],
      "source": [
        "accuracy_score(y_test, pred)"
      ]
    },
    {
      "cell_type": "markdown",
      "metadata": {
        "id": "BMhy9AiBLyOT"
      },
      "source": [
        "실제 시험해야되는 데이터 y_test를 불러 예측한다    \n",
        "정확도는 75.45%"
      ]
    },
    {
      "cell_type": "code",
      "execution_count": null,
      "metadata": {
        "id": "DpW1OudOjYTF",
        "scrolled": true,
        "colab": {
          "base_uri": "https://localhost:8080/"
        },
        "outputId": "72b6c624-b854-41cd-aff5-078750de3350"
      },
      "outputs": [
        {
          "output_type": "execute_result",
          "data": {
            "text/plain": [
              "array([[ 10177,  64119],\n",
              "       [  7339, 209493]])"
            ]
          },
          "metadata": {},
          "execution_count": 39
        }
      ],
      "source": [
        "confusion_matrix(y_test, pred)"
      ]
    },
    {
      "cell_type": "markdown",
      "metadata": {
        "id": "jkL8VGT2L4g1"
      },
      "source": [
        "로지스틱의 회귀율은    \n",
        "예측O 실제O 10177,    \n",
        "예측X 실제O 64119,    \n",
        "예측O 실제X 7339,    \n",
        "예측X 실제X 209493 으로 나왔다"
      ]
    },
    {
      "cell_type": "code",
      "execution_count": null,
      "metadata": {
        "id": "MLd2M2OTDEgm"
      },
      "outputs": [],
      "source": [
        "from sklearn.metrics import classification_report"
      ]
    },
    {
      "cell_type": "code",
      "execution_count": null,
      "metadata": {
        "id": "bgyuF6nfM9rS",
        "colab": {
          "base_uri": "https://localhost:8080/"
        },
        "outputId": "e5d631e0-678d-47dd-9c31-7a4bd575264e"
      },
      "outputs": [
        {
          "output_type": "stream",
          "name": "stdout",
          "text": [
            "              precision    recall  f1-score   support\n",
            "\n",
            "           0    0.58101   0.13698   0.22169     74296\n",
            "           1    0.76566   0.96615   0.85430    216832\n",
            "\n",
            "    accuracy                        0.75455    291128\n",
            "   macro avg    0.67333   0.55157   0.53800    291128\n",
            "weighted avg    0.71854   0.75455   0.69286    291128\n",
            "\n"
          ]
        }
      ],
      "source": [
        "print(classification_report(y_test, pred, digits=5))"
      ]
    },
    {
      "cell_type": "markdown",
      "metadata": {
        "id": "qqr5XC-ff1Qm"
      },
      "source": [
        "- 정밀도 76.56%\n",
        "- 재현율 96.61%\n",
        "\n",
        "\n",
        "\n"
      ]
    },
    {
      "cell_type": "markdown",
      "metadata": {
        "id": "NP8k_HNgjYTF"
      },
      "source": [
        "# 디시즌 트리를 통한 이용권 구매 예측"
      ]
    },
    {
      "cell_type": "code",
      "execution_count": null,
      "metadata": {
        "id": "N73OYbpmjYTF"
      },
      "outputs": [],
      "source": [
        "from sklearn.tree import DecisionTreeClassifier"
      ]
    },
    {
      "cell_type": "markdown",
      "metadata": {
        "id": "z6aPdmuKND-b"
      },
      "source": [
        "디시즌 트리를 통한 이용권 구매예측 라이브러리를 불러온다"
      ]
    },
    {
      "cell_type": "code",
      "execution_count": null,
      "metadata": {
        "id": "rZlXHxvDjYTG"
      },
      "outputs": [],
      "source": [
        "model =  DecisionTreeClassifier(max_depth =10)"
      ]
    },
    {
      "cell_type": "markdown",
      "metadata": {
        "id": "PtH92VqmNHoe"
      },
      "source": [
        "디시즌모델을 불러온다"
      ]
    },
    {
      "cell_type": "code",
      "execution_count": null,
      "metadata": {
        "id": "L7GaSH3vjYTG",
        "colab": {
          "base_uri": "https://localhost:8080/"
        },
        "outputId": "46ebd6d5-89ff-4817-f517-90ff091499fa"
      },
      "outputs": [
        {
          "output_type": "execute_result",
          "data": {
            "text/plain": [
              "DecisionTreeClassifier(max_depth=10)"
            ]
          },
          "metadata": {},
          "execution_count": 44
        }
      ],
      "source": [
        "model.fit(X_train, y_train)"
      ]
    },
    {
      "cell_type": "markdown",
      "metadata": {
        "id": "rKWx6yJINQh4"
      },
      "source": [
        "아까 위에서 나눈 학습데이터와 시험데이터를 불러와 적용시킨다"
      ]
    },
    {
      "cell_type": "code",
      "execution_count": null,
      "metadata": {
        "id": "GNuXMNpgjYTG"
      },
      "outputs": [],
      "source": [
        "pred = model.predict(X_test)"
      ]
    },
    {
      "cell_type": "markdown",
      "metadata": {
        "id": "P780yF8eNYwM"
      },
      "source": [
        "제대로 훈련을 됬는 지 보기 위해 훈련을 시험해야할 X_test를 넣는다\n"
      ]
    },
    {
      "cell_type": "code",
      "execution_count": null,
      "metadata": {
        "id": "ZqSRWpA1jYTG",
        "colab": {
          "base_uri": "https://localhost:8080/"
        },
        "outputId": "81c083ac-8287-4126-feca-665aef3d7e6f"
      },
      "outputs": [
        {
          "output_type": "execute_result",
          "data": {
            "text/plain": [
              "1018537    1\n",
              "2473591    1\n",
              "2187189    0\n",
              "1351449    0\n",
              "1584534    1\n",
              "          ..\n",
              "2084582    0\n",
              "2460769    0\n",
              "520236     1\n",
              "349052     1\n",
              "2613147    1\n",
              "Name: 대여구분코드, Length: 291128, dtype: int64"
            ]
          },
          "metadata": {},
          "execution_count": 46
        }
      ],
      "source": [
        "y_test"
      ]
    },
    {
      "cell_type": "markdown",
      "metadata": {
        "id": "SIb8Dv0oNfTF"
      },
      "source": [
        "데이터 예측 결과"
      ]
    },
    {
      "cell_type": "code",
      "execution_count": null,
      "metadata": {
        "id": "WDRCIN11jYTG",
        "colab": {
          "base_uri": "https://localhost:8080/"
        },
        "outputId": "7910a1f2-0ef9-432b-801a-007022e6a931"
      },
      "outputs": [
        {
          "output_type": "stream",
          "name": "stdout",
          "text": [
            "1018537    1\n",
            "2473591    1\n",
            "2187189    0\n",
            "1351449    0\n",
            "1584534    1\n",
            "          ..\n",
            "2084582    0\n",
            "2460769    0\n",
            "520236     1\n",
            "349052     1\n",
            "2613147    1\n",
            "Name: 대여구분코드, Length: 291128, dtype: int64 [1 1 0 ... 1 1 1]\n"
          ]
        }
      ],
      "source": [
        "print(y_test, pred)"
      ]
    },
    {
      "cell_type": "markdown",
      "metadata": {
        "id": "dVXfYisBP12k"
      },
      "source": [
        "시험결과와 답을 비교한다.."
      ]
    },
    {
      "cell_type": "code",
      "execution_count": null,
      "metadata": {
        "id": "0xfeIxDpjYTG",
        "colab": {
          "base_uri": "https://localhost:8080/"
        },
        "outputId": "dea2bbb5-8ff9-45a8-c026-2371408cffda"
      },
      "outputs": [
        {
          "output_type": "execute_result",
          "data": {
            "text/plain": [
              "0.7883954823994944"
            ]
          },
          "metadata": {},
          "execution_count": 48
        }
      ],
      "source": [
        "accuracy_score(y_test, pred)"
      ]
    },
    {
      "cell_type": "markdown",
      "metadata": {
        "id": "C9h0PDyQPDUZ"
      },
      "source": [
        "디시즌 트리의 정확도는 정확도 78.83%으로 측정되었다"
      ]
    },
    {
      "cell_type": "markdown",
      "metadata": {
        "id": "jyLgPYxjjYTH"
      },
      "source": [
        "# 트리의 깊이를 조절하며 최적값 탐색 depth = 12일 때 값이 가장 높음"
      ]
    },
    {
      "cell_type": "code",
      "execution_count": null,
      "metadata": {
        "id": "3SNZgygUjYTH",
        "scrolled": true,
        "colab": {
          "base_uri": "https://localhost:8080/"
        },
        "outputId": "8d2c2c06-c7c8-4822-b566-a62ed6ea0d77"
      },
      "outputs": [
        {
          "output_type": "stream",
          "name": "stdout",
          "text": [
            "2 0.7448\n",
            "3 0.7658\n",
            "4 0.7672\n",
            "5 0.775\n",
            "6 0.7798\n",
            "7 0.7836\n",
            "8 0.7858\n",
            "9 0.788\n",
            "10 0.7884\n",
            "11 0.7892\n",
            "12 0.7892\n",
            "13 0.7884\n",
            "14 0.7865\n",
            "15 0.7845\n",
            "16 0.7818\n",
            "17 0.7798\n",
            "18 0.7761\n",
            "19 0.7726\n"
          ]
        }
      ],
      "source": [
        "for i in range(2, 20):\n",
        "    model = DecisionTreeClassifier(max_depth = i)\n",
        "    model.fit(X_train, y_train)\n",
        "    pred = model.predict(X_test)\n",
        "    print(i, round(accuracy_score(y_test, pred), 4))"
      ]
    },
    {
      "cell_type": "markdown",
      "metadata": {
        "id": "E_i3HUBwQNUw"
      },
      "source": [
        "가지를 늘리며 최적화 된 값이 12번째 라는 걸 알게됬다"
      ]
    },
    {
      "cell_type": "code",
      "execution_count": null,
      "metadata": {
        "id": "65nWSJ7bjYTH"
      },
      "outputs": [],
      "source": [
        "model =  DecisionTreeClassifier(max_depth =12)  # depth= 12로 다시 분석"
      ]
    },
    {
      "cell_type": "markdown",
      "metadata": {
        "id": "qlhj5yL8RAZE"
      },
      "source": [
        "모델을 12로 조정하여 다시 분석한다"
      ]
    },
    {
      "cell_type": "code",
      "execution_count": null,
      "metadata": {
        "id": "ZvJKRBccjYTH",
        "colab": {
          "base_uri": "https://localhost:8080/"
        },
        "outputId": "621a2f04-c38f-44c7-b3a6-1e51db61b67e"
      },
      "outputs": [
        {
          "output_type": "execute_result",
          "data": {
            "text/plain": [
              "DecisionTreeClassifier(max_depth=12)"
            ]
          },
          "metadata": {},
          "execution_count": 51
        }
      ],
      "source": [
        "model.fit(X_train, y_train)"
      ]
    },
    {
      "cell_type": "markdown",
      "metadata": {
        "id": "GcFBUq6qRHL9"
      },
      "source": [
        "모델에 테스트 데이터를 불러와 학습시킨다"
      ]
    },
    {
      "cell_type": "code",
      "execution_count": null,
      "metadata": {
        "id": "ZHifKHCjjYTH"
      },
      "outputs": [],
      "source": [
        "pred = model.predict(X_test)"
      ]
    },
    {
      "cell_type": "markdown",
      "metadata": {
        "id": "PvYGdxcseKIp"
      },
      "source": [
        "제대로 훈련을 됬는 지 보기 위해 훈련을 시험해야할 X_test를 넣는다\n"
      ]
    },
    {
      "cell_type": "code",
      "execution_count": null,
      "metadata": {
        "id": "GWL3fjAFjYTH",
        "colab": {
          "base_uri": "https://localhost:8080/"
        },
        "outputId": "64bdbf9e-41b4-4bb9-904d-3c5308dd9bca"
      },
      "outputs": [
        {
          "output_type": "execute_result",
          "data": {
            "text/plain": [
              "0.7891752081558627"
            ]
          },
          "metadata": {},
          "execution_count": 53
        }
      ],
      "source": [
        "accuracy_score(y_test, pred)"
      ]
    },
    {
      "cell_type": "markdown",
      "metadata": {
        "id": "TyOK53iBuSVl"
      },
      "source": [
        "정확도 78.91"
      ]
    },
    {
      "cell_type": "code",
      "execution_count": null,
      "metadata": {
        "id": "Mes2ZrmvjYTI",
        "scrolled": true,
        "colab": {
          "base_uri": "https://localhost:8080/"
        },
        "outputId": "648615d9-02a6-4bca-a9df-28b07e641dda"
      },
      "outputs": [
        {
          "output_type": "execute_result",
          "data": {
            "text/plain": [
              "array([[ 30704,  43592],\n",
              "       [ 17785, 199047]])"
            ]
          },
          "metadata": {},
          "execution_count": 54
        }
      ],
      "source": [
        "confusion_matrix(y_test, pred)"
      ]
    },
    {
      "cell_type": "markdown",
      "metadata": {
        "id": "Ptuhm9_ZjY6C"
      },
      "source": [
        "디시즌 트리는        \n",
        "예측O 실제O 30693,    \n",
        "예측X 실제O 43603,    \n",
        "예측O 실제X 17773,    \n",
        "예측X 실제X 199059 으로 나왔다"
      ]
    },
    {
      "cell_type": "code",
      "execution_count": null,
      "metadata": {
        "id": "kH2f8v_nM16v",
        "colab": {
          "base_uri": "https://localhost:8080/"
        },
        "outputId": "08d47fdb-25f1-4fb2-c29d-923e0b85e366"
      },
      "outputs": [
        {
          "output_type": "stream",
          "name": "stdout",
          "text": [
            "              precision    recall  f1-score   support\n",
            "\n",
            "           0    0.63322   0.41327   0.50013     74296\n",
            "           1    0.82034   0.91798   0.86642    216832\n",
            "\n",
            "    accuracy                        0.78918    291128\n",
            "   macro avg    0.72678   0.66562   0.68327    291128\n",
            "weighted avg    0.77259   0.78918   0.77294    291128\n",
            "\n"
          ]
        }
      ],
      "source": [
        "print(classification_report(y_test, pred, digits=5))"
      ]
    },
    {
      "cell_type": "markdown",
      "metadata": {
        "id": "Wa4GzspOgVge"
      },
      "source": [
        "- 정밀도:82.03%\n",
        "- 재현율:91.80%"
      ]
    },
    {
      "cell_type": "markdown",
      "metadata": {
        "id": "SgZZ_8mMjYTJ"
      },
      "source": [
        "# 랜덤포레스트"
      ]
    },
    {
      "cell_type": "code",
      "execution_count": null,
      "metadata": {
        "id": "3ObrxxcKjYTJ"
      },
      "outputs": [],
      "source": [
        "from sklearn.ensemble import RandomForestClassifier"
      ]
    },
    {
      "cell_type": "markdown",
      "metadata": {
        "id": "NvKwNh36j7Ln"
      },
      "source": [
        "랜덤 포레스트 라이브러리를 불러온다"
      ]
    },
    {
      "cell_type": "code",
      "execution_count": null,
      "metadata": {
        "id": "4q6ZpdngjYTJ"
      },
      "outputs": [],
      "source": [
        "model = RandomForestClassifier(max_depth = 10, random_state = 100)"
      ]
    },
    {
      "cell_type": "markdown",
      "metadata": {
        "id": "5306bqEmj_SL"
      },
      "source": [
        "모델을 불러온다. 모델의 깊이는 10, 데이터를 분류하는 방식은 100번 방법으로 사용한다"
      ]
    },
    {
      "cell_type": "code",
      "execution_count": null,
      "metadata": {
        "id": "gOTBTyn-jYTJ",
        "colab": {
          "base_uri": "https://localhost:8080/"
        },
        "outputId": "13c0f88c-c80e-41f7-c0a6-e7225499d109"
      },
      "outputs": [
        {
          "output_type": "execute_result",
          "data": {
            "text/plain": [
              "RandomForestClassifier(max_depth=10, random_state=100)"
            ]
          },
          "metadata": {},
          "execution_count": 58
        }
      ],
      "source": [
        "model.fit(X_train, y_train)"
      ]
    },
    {
      "cell_type": "markdown",
      "metadata": {
        "id": "pJL-E383kc9j"
      },
      "source": [
        "데이터를 가져와 학습한다"
      ]
    },
    {
      "cell_type": "code",
      "execution_count": null,
      "metadata": {
        "id": "-ibh-956jYTJ"
      },
      "outputs": [],
      "source": [
        "pred = model.predict(X_test)"
      ]
    },
    {
      "cell_type": "markdown",
      "metadata": {
        "id": "ncvU-6vZk8aD"
      },
      "source": [
        "제대로 훈련을 됬는 지 보기 위해 훈련을 시험해야할 X_test를 넣는다\n"
      ]
    },
    {
      "cell_type": "code",
      "execution_count": null,
      "metadata": {
        "id": "exh7djOnjYTK",
        "colab": {
          "base_uri": "https://localhost:8080/"
        },
        "outputId": "63e71c18-8dd7-45d4-9223-7770bfbb7fd8"
      },
      "outputs": [
        {
          "output_type": "execute_result",
          "data": {
            "text/plain": [
              "1018537    1\n",
              "2473591    1\n",
              "2187189    0\n",
              "1351449    0\n",
              "1584534    1\n",
              "          ..\n",
              "2084582    0\n",
              "2460769    0\n",
              "520236     1\n",
              "349052     1\n",
              "2613147    1\n",
              "Name: 대여구분코드, Length: 291128, dtype: int64"
            ]
          },
          "metadata": {},
          "execution_count": 60
        }
      ],
      "source": [
        "y_test"
      ]
    },
    {
      "cell_type": "markdown",
      "metadata": {
        "id": "AcqBCrg9lqHA"
      },
      "source": [
        "정답을 비교할 y_test를 불러온다"
      ]
    },
    {
      "cell_type": "code",
      "execution_count": null,
      "metadata": {
        "id": "aKijfjHHjYTK",
        "colab": {
          "base_uri": "https://localhost:8080/"
        },
        "outputId": "0e8de73a-15e0-4c4b-be58-57b09e9e918f"
      },
      "outputs": [
        {
          "output_type": "execute_result",
          "data": {
            "text/plain": [
              "0.7815703058448518"
            ]
          },
          "metadata": {},
          "execution_count": 61
        }
      ],
      "source": [
        "accuracy_score(y_test, pred)"
      ]
    },
    {
      "cell_type": "markdown",
      "metadata": {
        "id": "IEpyA3okl9oD"
      },
      "source": [
        "정확도는 78.15%"
      ]
    },
    {
      "cell_type": "code",
      "execution_count": null,
      "metadata": {
        "id": "wwGXvHnajYTK",
        "colab": {
          "base_uri": "https://localhost:8080/"
        },
        "outputId": "9287ede9-485d-458a-aa7b-0f4a6a3486a1"
      },
      "outputs": [
        {
          "output_type": "execute_result",
          "data": {
            "text/plain": [
              "array([[ 20344,  53952],\n",
              "       [  9639, 207193]])"
            ]
          },
          "metadata": {},
          "execution_count": 62
        }
      ],
      "source": [
        "confusion_matrix(y_test, pred)"
      ]
    },
    {
      "cell_type": "markdown",
      "metadata": {
        "id": "tkZ8o4E0mJ16"
      },
      "source": [
        "디시즌 트리는        \n",
        "예측O 실제O 20344,    \n",
        "예측X 실제O 53952,    \n",
        "예측O 실제X 9639,    \n",
        "예측X 실제X 207193 으로 나왔다"
      ]
    },
    {
      "cell_type": "code",
      "execution_count": null,
      "metadata": {
        "id": "8wkjY-w-M6rV",
        "colab": {
          "base_uri": "https://localhost:8080/"
        },
        "outputId": "90e45947-3a5c-41f2-cbd2-85db92974354"
      },
      "outputs": [
        {
          "output_type": "stream",
          "name": "stdout",
          "text": [
            "              precision    recall  f1-score   support\n",
            "\n",
            "           0    0.67852   0.27382   0.39018     74296\n",
            "           1    0.79340   0.95555   0.86696    216832\n",
            "\n",
            "    accuracy                        0.78157    291128\n",
            "   macro avg    0.73596   0.61468   0.62857    291128\n",
            "weighted avg    0.76408   0.78157   0.74529    291128\n",
            "\n"
          ]
        }
      ],
      "source": [
        "print(classification_report(y_test, pred, digits=5))"
      ]
    },
    {
      "cell_type": "markdown",
      "metadata": {
        "id": "p5vlBSfbmREJ"
      },
      "source": [
        "- 정밀도는 79.34%\n",
        "- 재현율은 95.55%"
      ]
    },
    {
      "cell_type": "markdown",
      "metadata": {
        "id": "CbpBfT19jYTK"
      },
      "source": [
        "# 최적 max_depth 찾기"
      ]
    },
    {
      "cell_type": "markdown",
      "metadata": {
        "id": "4eVYIppgmaIb"
      },
      "source": [
        "랜덤포레스트의 최적값을 찾기 위해 반복문으로 max_depth의 값을 늘려가며 모델을 학습을 시킨다. 학습용 데이터를 불러와서 모델을 학습시키고, 제대로 됬는지 시험용 데이터와 정답을 불러와 정확도를 본다.   \n",
        "i는 횟수, 횟수의 정확도"
      ]
    },
    {
      "cell_type": "code",
      "execution_count": null,
      "metadata": {
        "id": "392Qx3xWjYTK",
        "scrolled": true,
        "colab": {
          "base_uri": "https://localhost:8080/"
        },
        "outputId": "03c2f132-bffa-465e-e4bd-8fd360ba9419"
      },
      "outputs": [
        {
          "output_type": "stream",
          "name": "stdout",
          "text": [
            "2 0.7447995383473935\n",
            "3 0.7447995383473935\n",
            "4 0.7451292902091177\n",
            "5 0.7496977274600863\n",
            "6 0.7583537138303427\n",
            "7 0.7678134703635514\n",
            "8 0.7706094913577533\n",
            "9 0.7758580418235278\n",
            "10 0.7815703058448518\n",
            "11 0.78488843395345\n",
            "12 0.7877016295237833\n",
            "13 0.7894328267978347\n",
            "14 0.7902778159435025\n",
            "15 0.7909819735648924\n",
            "16 0.7912979857657113\n",
            "17 0.791411337968179\n",
            "18 0.7910747162760023\n",
            "19 0.790988843395345\n"
          ]
        }
      ],
      "source": [
        "for i in range(2,20):\n",
        "    model = RandomForestClassifier(max_depth=i, random_state=100)\n",
        "    model.fit(X_train, y_train)\n",
        "    pred = model.predict(X_test)\n",
        "    print(i, accuracy_score(y_test, pred))"
      ]
    },
    {
      "cell_type": "markdown",
      "metadata": {
        "id": "QPJT3091sXKd"
      },
      "source": [
        "17에서 79.14%의 정확도로 가장높게 나온다"
      ]
    },
    {
      "cell_type": "code",
      "execution_count": null,
      "metadata": {
        "id": "z3xc2QXljYTK",
        "colab": {
          "base_uri": "https://localhost:8080/"
        },
        "outputId": "21e2bb67-6215-4d54-bf29-7e0982f51ada"
      },
      "outputs": [
        {
          "output_type": "stream",
          "name": "stdout",
          "text": [
            "0.791411337968179\n"
          ]
        }
      ],
      "source": [
        "model = RandomForestClassifier(max_depth=17, random_state=100)\n",
        "model.fit(X_train, y_train)\n",
        "pred = model.predict(X_test)\n",
        "print( accuracy_score(y_test, pred))"
      ]
    },
    {
      "cell_type": "markdown",
      "metadata": {
        "id": "o233yfqqsjK-"
      },
      "source": [
        "17번째로 값을 수정하고 코드실행"
      ]
    },
    {
      "cell_type": "code",
      "execution_count": null,
      "metadata": {
        "id": "EYJqnwZqjYTL"
      },
      "outputs": [],
      "source": [
        "from sklearn.metrics import log_loss"
      ]
    },
    {
      "cell_type": "markdown",
      "source": [
        "교차 엔트로피 손실 라이브러리를 불러온다"
      ],
      "metadata": {
        "id": "5rChgccvCBf8"
      }
    },
    {
      "cell_type": "code",
      "execution_count": null,
      "metadata": {
        "id": "7IXC-L_0jYTL"
      },
      "outputs": [],
      "source": [
        "logloss = log_loss(y_test, pred)"
      ]
    },
    {
      "cell_type": "markdown",
      "source": [
        "y_test 오차율의 정확도를 구한다"
      ],
      "metadata": {
        "id": "GNnE0jCpCNBb"
      }
    },
    {
      "cell_type": "code",
      "execution_count": null,
      "metadata": {
        "id": "J_j9E7cJjYTL",
        "scrolled": true,
        "colab": {
          "base_uri": "https://localhost:8080/"
        },
        "outputId": "5031d734-5328-4810-f716-bb1a6615f5e8"
      },
      "outputs": [
        {
          "output_type": "execute_result",
          "data": {
            "text/plain": [
              "array([[ 29927,  44369],\n",
              "       [ 16357, 200475]])"
            ]
          },
          "metadata": {},
          "execution_count": 68
        }
      ],
      "source": [
        "confusion_matrix(y_test, pred)"
      ]
    },
    {
      "cell_type": "markdown",
      "metadata": {
        "id": "9QgpXcalnQRg"
      },
      "source": [
        "랜덤포레스트는        \n",
        "예측O 실제O 29927,    \n",
        "예측X 실제O 44369,    \n",
        "예측O 실제X 16357,    \n",
        "예측X 실제X 200475 으로 나왔다\n"
      ]
    },
    {
      "cell_type": "code",
      "execution_count": null,
      "metadata": {
        "id": "rYnFjBhkjYTL",
        "colab": {
          "base_uri": "https://localhost:8080/"
        },
        "outputId": "6d547276-875d-4fff-ca22-c3ff96d6c5ef"
      },
      "outputs": [
        {
          "output_type": "execute_result",
          "data": {
            "text/plain": [
              "0.791411337968179"
            ]
          },
          "metadata": {},
          "execution_count": 69
        }
      ],
      "source": [
        "accuracy_score(y_test, pred)"
      ]
    },
    {
      "cell_type": "markdown",
      "metadata": {
        "id": "fgJNVo-KtAyr"
      },
      "source": [
        "\n",
        "정확도 79.14%"
      ]
    },
    {
      "cell_type": "code",
      "execution_count": null,
      "metadata": {
        "id": "PZqOY55VjYTL"
      },
      "outputs": [],
      "source": [
        "from sklearn.metrics import classification_report"
      ]
    },
    {
      "cell_type": "markdown",
      "source": [
        "분류 성능 평가 라이브러리를 불러온다"
      ],
      "metadata": {
        "id": "Jo9XKOwIDyJf"
      }
    },
    {
      "cell_type": "code",
      "execution_count": null,
      "metadata": {
        "id": "EFsgpErAjYTL",
        "colab": {
          "base_uri": "https://localhost:8080/"
        },
        "outputId": "5fe35a7d-3572-444a-8a1b-87df31e87d06"
      },
      "outputs": [
        {
          "output_type": "stream",
          "name": "stdout",
          "text": [
            "              precision    recall  f1-score   support\n",
            "\n",
            "           0       0.65      0.40      0.50     74296\n",
            "           1       0.82      0.92      0.87    216832\n",
            "\n",
            "    accuracy                           0.79    291128\n",
            "   macro avg       0.73      0.66      0.68    291128\n",
            "weighted avg       0.77      0.79      0.77    291128\n",
            "\n"
          ]
        }
      ],
      "source": [
        "print(classification_report(y_test, pred))"
      ]
    },
    {
      "cell_type": "markdown",
      "source": [
        "최적화 값의 정확도를 본다.     \n",
        "정확도가 반올림되어 나오기때문에 좀 더 정확히 보기에 숫자가 5자리까지 나오도록 수정한다."
      ],
      "metadata": {
        "id": "Z3PdvuTdEFkn"
      }
    },
    {
      "cell_type": "code",
      "execution_count": null,
      "metadata": {
        "id": "Y-8nDjAkjYTM",
        "colab": {
          "base_uri": "https://localhost:8080/"
        },
        "outputId": "3c53a5f1-7bc4-4aee-9e2a-1a7c7f631928"
      },
      "outputs": [
        {
          "output_type": "stream",
          "name": "stdout",
          "text": [
            "              precision    recall  f1-score   support\n",
            "\n",
            "           0    0.64659   0.40281   0.49638     74296\n",
            "           1    0.81879   0.92456   0.86847    216832\n",
            "\n",
            "    accuracy                        0.79141    291128\n",
            "   macro avg    0.73269   0.66369   0.68243    291128\n",
            "weighted avg    0.77484   0.79141   0.77351    291128\n",
            "\n"
          ]
        }
      ],
      "source": [
        "print(classification_report(y_test, pred, digits=5))"
      ]
    },
    {
      "cell_type": "markdown",
      "metadata": {
        "id": "uWqd-RxMgkXp"
      },
      "source": [
        "- 정밀도: 81.87%\n",
        "- 재현율: 92.45%"
      ]
    },
    {
      "cell_type": "code",
      "execution_count": null,
      "metadata": {
        "id": "XdUjnr__DJmC"
      },
      "outputs": [],
      "source": [
        ""
      ]
    }
  ],
  "metadata": {
    "colab": {
      "collapsed_sections": [],
      "name": "따릉이 일별 분석-1~5월.ipynb",
      "provenance": [],
      "include_colab_link": true
    },
    "kernelspec": {
      "display_name": "Python 3",
      "name": "python3"
    },
    "language_info": {
      "name": "python"
    }
  },
  "nbformat": 4,
  "nbformat_minor": 0
}