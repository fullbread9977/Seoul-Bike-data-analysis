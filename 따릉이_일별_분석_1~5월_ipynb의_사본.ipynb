{
  "nbformat": 4,
  "nbformat_minor": 0,
  "metadata": {
    "colab": {
      "name": "따릉이 일별 분석-1~5월.ipynb의 사본",
      "provenance": [],
      "collapsed_sections": [],
      "include_colab_link": true
    },
    "kernelspec": {
      "display_name": "Python 3",
      "name": "python3"
    },
    "language_info": {
      "name": "python"
    }
  },
  "cells": [
    {
      "cell_type": "markdown",
      "metadata": {
        "id": "view-in-github",
        "colab_type": "text"
      },
      "source": [
        "<a href=\"https://colab.research.google.com/github/fullbread9977/Seoul-Bike-data-analysis/blob/main/%EB%94%B0%EB%A6%89%EC%9D%B4_%EC%9D%BC%EB%B3%84_%EB%B6%84%EC%84%9D_1~5%EC%9B%94_ipynb%EC%9D%98_%EC%82%AC%EB%B3%B8.ipynb\" target=\"_parent\"><img src=\"https://colab.research.google.com/assets/colab-badge.svg\" alt=\"Open In Colab\"/></a>"
      ]
    },
    {
      "cell_type": "code",
      "metadata": {
        "colab": {
          "base_uri": "https://localhost:8080/"
        },
        "id": "jmJcoIYBjf8c",
        "outputId": "6a16786d-2007-461a-e7e2-f4d8fdb1fee0"
      },
      "source": [
        "from google.colab import drive\n",
        "drive.mount('/content/drive')"
      ],
      "execution_count": null,
      "outputs": [
        {
          "output_type": "stream",
          "name": "stdout",
          "text": [
            "Drive already mounted at /content/drive; to attempt to forcibly remount, call drive.mount(\"/content/drive\", force_remount=True).\n"
          ]
        }
      ]
    },
    {
      "cell_type": "markdown",
      "metadata": {
        "id": "wjY0l9kDQz6m"
      },
      "source": [
        "구글 드라이브 런타임"
      ]
    },
    {
      "cell_type": "markdown",
      "metadata": {
        "id": "iXRPcFEl-41E"
      },
      "source": [
        "폰트사용을 위해 설치하는 코드 \n"
      ]
    },
    {
      "cell_type": "code",
      "metadata": {
        "id": "ZY6hbKfqjYSv"
      },
      "source": [
        "import pandas as pd\n",
        "import pandas_profiling\n",
        "import numpy as np\n",
        "import matplotlib.pyplot as plt\n",
        "import seaborn as sns\n",
        "from matplotlib import font_manager, rc\n",
        "plt.rcParams['font.family'] = 'NanumGothic'"
      ],
      "execution_count": null,
      "outputs": []
    },
    {
      "cell_type": "markdown",
      "metadata": {
        "id": "A6isQ7EbGWFj"
      },
      "source": [
        "**필요한 라이브러리 설치**   \n",
        "- pandas : 엑셀같은 표를 그리기위해 사용되는 패키지\n",
        "- pandas_profiling : 데이터의 상태를 보기위해 사용되는 패키지\n",
        "- numpy : 행렬 연산에 편의성을 제공하는 패키지 \n",
        "- matplotlib.pyplot : 데이터 시각화, 여러가지 표를 그리기 위해 사용하는 패키지\n",
        "- seaborn : 데이터분포 시각화를 위한 패키지\n",
        "- matplotlib: 그래프의 rc에 한글 사용을 위한 패키지\n",
        "- '남산고딕'이라는 한글 폰트를 사용\n"
      ]
    },
    {
      "cell_type": "code",
      "metadata": {
        "colab": {
          "base_uri": "https://localhost:8080/",
          "height": 417
        },
        "id": "8C9kMEUhjYSz",
        "outputId": "55390396-c81c-4d91-edb6-2c68b22e84bd"
      },
      "source": [
        "df = pd.read_csv(\"/content/drive/MyDrive/seoulbiohub/공공자전거 이용정보(일별)_2020.01_05.csv\", encoding=\"cp949\")\n",
        "df"
      ],
      "execution_count": null,
      "outputs": [
        {
          "output_type": "execute_result",
          "data": {
            "text/html": [
              "<div>\n",
              "<style scoped>\n",
              "    .dataframe tbody tr th:only-of-type {\n",
              "        vertical-align: middle;\n",
              "    }\n",
              "\n",
              "    .dataframe tbody tr th {\n",
              "        vertical-align: top;\n",
              "    }\n",
              "\n",
              "    .dataframe thead th {\n",
              "        text-align: right;\n",
              "    }\n",
              "</style>\n",
              "<table border=\"1\" class=\"dataframe\">\n",
              "  <thead>\n",
              "    <tr style=\"text-align: right;\">\n",
              "      <th></th>\n",
              "      <th>대여일자</th>\n",
              "      <th>대여소번호</th>\n",
              "      <th>대여소</th>\n",
              "      <th>대여구분코드</th>\n",
              "      <th>성별</th>\n",
              "      <th>연령대코드</th>\n",
              "      <th>이용건수</th>\n",
              "      <th>운동량</th>\n",
              "      <th>탄소량</th>\n",
              "      <th>이동거리(M)</th>\n",
              "      <th>이용시간(분)</th>\n",
              "    </tr>\n",
              "  </thead>\n",
              "  <tbody>\n",
              "    <tr>\n",
              "      <th>0</th>\n",
              "      <td>2020-01-01</td>\n",
              "      <td>101</td>\n",
              "      <td>101. (구)합정동 주민센터</td>\n",
              "      <td>일일(회원)</td>\n",
              "      <td>\\N</td>\n",
              "      <td>AGE_002</td>\n",
              "      <td>1</td>\n",
              "      <td>0.00</td>\n",
              "      <td>0.00</td>\n",
              "      <td>0.0</td>\n",
              "      <td>29</td>\n",
              "    </tr>\n",
              "    <tr>\n",
              "      <th>1</th>\n",
              "      <td>2020-01-01</td>\n",
              "      <td>101</td>\n",
              "      <td>101. (구)합정동 주민센터</td>\n",
              "      <td>정기</td>\n",
              "      <td>\\N</td>\n",
              "      <td>AGE_002</td>\n",
              "      <td>2</td>\n",
              "      <td>80.54</td>\n",
              "      <td>0.75</td>\n",
              "      <td>3240.0</td>\n",
              "      <td>52</td>\n",
              "    </tr>\n",
              "    <tr>\n",
              "      <th>2</th>\n",
              "      <td>2020-01-01</td>\n",
              "      <td>101</td>\n",
              "      <td>101. (구)합정동 주민센터</td>\n",
              "      <td>정기</td>\n",
              "      <td>F</td>\n",
              "      <td>AGE_002</td>\n",
              "      <td>1</td>\n",
              "      <td>72.07</td>\n",
              "      <td>0.75</td>\n",
              "      <td>3250.0</td>\n",
              "      <td>21</td>\n",
              "    </tr>\n",
              "    <tr>\n",
              "      <th>3</th>\n",
              "      <td>2020-01-01</td>\n",
              "      <td>101</td>\n",
              "      <td>101. (구)합정동 주민센터</td>\n",
              "      <td>정기</td>\n",
              "      <td>F</td>\n",
              "      <td>AGE_004</td>\n",
              "      <td>1</td>\n",
              "      <td>157.56</td>\n",
              "      <td>1.59</td>\n",
              "      <td>6860.0</td>\n",
              "      <td>46</td>\n",
              "    </tr>\n",
              "    <tr>\n",
              "      <th>4</th>\n",
              "      <td>2020-01-01</td>\n",
              "      <td>101</td>\n",
              "      <td>101. (구)합정동 주민센터</td>\n",
              "      <td>정기</td>\n",
              "      <td>M</td>\n",
              "      <td>AGE_002</td>\n",
              "      <td>1</td>\n",
              "      <td>39.99</td>\n",
              "      <td>0.23</td>\n",
              "      <td>990.0</td>\n",
              "      <td>5</td>\n",
              "    </tr>\n",
              "    <tr>\n",
              "      <th>...</th>\n",
              "      <td>...</td>\n",
              "      <td>...</td>\n",
              "      <td>...</td>\n",
              "      <td>...</td>\n",
              "      <td>...</td>\n",
              "      <td>...</td>\n",
              "      <td>...</td>\n",
              "      <td>...</td>\n",
              "      <td>...</td>\n",
              "      <td>...</td>\n",
              "      <td>...</td>\n",
              "    </tr>\n",
              "    <tr>\n",
              "      <th>3052548</th>\n",
              "      <td>2020-05-31</td>\n",
              "      <td>3560</td>\n",
              "      <td>3560.성동구 견인차량 보관소 앞</td>\n",
              "      <td>정기</td>\n",
              "      <td>\\N</td>\n",
              "      <td>AGE_008</td>\n",
              "      <td>1</td>\n",
              "      <td>0.00</td>\n",
              "      <td>0.00</td>\n",
              "      <td>0.0</td>\n",
              "      <td>15</td>\n",
              "    </tr>\n",
              "    <tr>\n",
              "      <th>3052549</th>\n",
              "      <td>2020-05-31</td>\n",
              "      <td>3560</td>\n",
              "      <td>3560.성동구 견인차량 보관소 앞</td>\n",
              "      <td>정기</td>\n",
              "      <td>M</td>\n",
              "      <td>AGE_002</td>\n",
              "      <td>1</td>\n",
              "      <td>0.00</td>\n",
              "      <td>0.00</td>\n",
              "      <td>0.0</td>\n",
              "      <td>34</td>\n",
              "    </tr>\n",
              "    <tr>\n",
              "      <th>3052550</th>\n",
              "      <td>2020-05-31</td>\n",
              "      <td>3560</td>\n",
              "      <td>3560.성동구 견인차량 보관소 앞</td>\n",
              "      <td>정기</td>\n",
              "      <td>M</td>\n",
              "      <td>AGE_003</td>\n",
              "      <td>1</td>\n",
              "      <td>0.00</td>\n",
              "      <td>0.00</td>\n",
              "      <td>0.0</td>\n",
              "      <td>13</td>\n",
              "    </tr>\n",
              "    <tr>\n",
              "      <th>3052551</th>\n",
              "      <td>2020-05-31</td>\n",
              "      <td>3560</td>\n",
              "      <td>3560.성동구 견인차량 보관소 앞</td>\n",
              "      <td>정기</td>\n",
              "      <td>M</td>\n",
              "      <td>AGE_004</td>\n",
              "      <td>2</td>\n",
              "      <td>0.00</td>\n",
              "      <td>0.00</td>\n",
              "      <td>0.0</td>\n",
              "      <td>20</td>\n",
              "    </tr>\n",
              "    <tr>\n",
              "      <th>3052552</th>\n",
              "      <td>2020-05-31</td>\n",
              "      <td>3560</td>\n",
              "      <td>3560.성동구 견인차량 보관소 앞</td>\n",
              "      <td>정기</td>\n",
              "      <td>M</td>\n",
              "      <td>AGE_005</td>\n",
              "      <td>1</td>\n",
              "      <td>0.00</td>\n",
              "      <td>0.00</td>\n",
              "      <td>0.0</td>\n",
              "      <td>14</td>\n",
              "    </tr>\n",
              "  </tbody>\n",
              "</table>\n",
              "<p>3052553 rows × 11 columns</p>\n",
              "</div>"
            ],
            "text/plain": [
              "               대여일자  대여소번호                  대여소  ...   탄소량 이동거리(M) 이용시간(분)\n",
              "0        2020-01-01    101     101. (구)합정동 주민센터  ...  0.00     0.0      29\n",
              "1        2020-01-01    101     101. (구)합정동 주민센터  ...  0.75  3240.0      52\n",
              "2        2020-01-01    101     101. (구)합정동 주민센터  ...  0.75  3250.0      21\n",
              "3        2020-01-01    101     101. (구)합정동 주민센터  ...  1.59  6860.0      46\n",
              "4        2020-01-01    101     101. (구)합정동 주민센터  ...  0.23   990.0       5\n",
              "...             ...    ...                  ...  ...   ...     ...     ...\n",
              "3052548  2020-05-31   3560  3560.성동구 견인차량 보관소 앞  ...  0.00     0.0      15\n",
              "3052549  2020-05-31   3560  3560.성동구 견인차량 보관소 앞  ...  0.00     0.0      34\n",
              "3052550  2020-05-31   3560  3560.성동구 견인차량 보관소 앞  ...  0.00     0.0      13\n",
              "3052551  2020-05-31   3560  3560.성동구 견인차량 보관소 앞  ...  0.00     0.0      20\n",
              "3052552  2020-05-31   3560  3560.성동구 견인차량 보관소 앞  ...  0.00     0.0      14\n",
              "\n",
              "[3052553 rows x 11 columns]"
            ]
          },
          "metadata": {},
          "execution_count": 3
        }
      ]
    },
    {
      "cell_type": "markdown",
      "metadata": {
        "id": "flvj3Bh4NBfl"
      },
      "source": [
        "공공데이터 5월 사용, 데이터 3,052,553 건 , 11 개의 컬럼"
      ]
    },
    {
      "cell_type": "markdown",
      "metadata": {
        "id": "XIRugyzpjYS0"
      },
      "source": [
        "pr = df.profile_report()"
      ]
    },
    {
      "cell_type": "markdown",
      "metadata": {
        "id": "Nk_eSlSsjYS1"
      },
      "source": [
        "pr"
      ]
    },
    {
      "cell_type": "code",
      "metadata": {
        "id": "OCTpV26xZ9cE"
      },
      "source": [
        "import matplotlib.pyplot as plt\n",
        "import seaborn as sns"
      ],
      "execution_count": null,
      "outputs": []
    },
    {
      "cell_type": "markdown",
      "metadata": {
        "id": "foZdczsAaXnk"
      },
      "source": [
        "데이터들의 상관관계를 보기위해 heatmap 라이브러리 로드"
      ]
    },
    {
      "cell_type": "code",
      "metadata": {
        "colab": {
          "base_uri": "https://localhost:8080/"
        },
        "id": "8_rFnQ6gjYS2",
        "scrolled": false,
        "outputId": "5cb363ef-d5e2-45c2-ef1b-6b0804d43f63"
      },
      "source": [
        "df.info()"
      ],
      "execution_count": null,
      "outputs": [
        {
          "output_type": "stream",
          "name": "stdout",
          "text": [
            "<class 'pandas.core.frame.DataFrame'>\n",
            "RangeIndex: 3052553 entries, 0 to 3052552\n",
            "Data columns (total 11 columns):\n",
            " #   Column   Dtype  \n",
            "---  ------   -----  \n",
            " 0   대여일자     object \n",
            " 1   대여소번호    int64  \n",
            " 2   대여소      object \n",
            " 3   대여구분코드   object \n",
            " 4   성별       object \n",
            " 5   연령대코드    object \n",
            " 6   이용건수     int64  \n",
            " 7   운동량      object \n",
            " 8   탄소량      object \n",
            " 9   이동거리(M)  float64\n",
            " 10  이용시간(분)  int64  \n",
            "dtypes: float64(1), int64(3), object(7)\n",
            "memory usage: 256.2+ MB\n"
          ]
        }
      ]
    },
    {
      "cell_type": "code",
      "metadata": {
        "id": "FwcFbjskjYS3",
        "scrolled": true
      },
      "source": [
        "def clean(x):\n",
        "    list(x)\n",
        "    return x.strip().replace(\"\\n\",\"\").replace('\\\\N',\"\")"
      ],
      "execution_count": null,
      "outputs": []
    },
    {
      "cell_type": "code",
      "metadata": {
        "colab": {
          "base_uri": "https://localhost:8080/",
          "height": 417
        },
        "id": "Zx9RqZMtjYS3",
        "outputId": "327ba5da-e718-4bc7-e78a-b4f10cb25913"
      },
      "source": [
        "df"
      ],
      "execution_count": null,
      "outputs": [
        {
          "output_type": "execute_result",
          "data": {
            "text/html": [
              "<div>\n",
              "<style scoped>\n",
              "    .dataframe tbody tr th:only-of-type {\n",
              "        vertical-align: middle;\n",
              "    }\n",
              "\n",
              "    .dataframe tbody tr th {\n",
              "        vertical-align: top;\n",
              "    }\n",
              "\n",
              "    .dataframe thead th {\n",
              "        text-align: right;\n",
              "    }\n",
              "</style>\n",
              "<table border=\"1\" class=\"dataframe\">\n",
              "  <thead>\n",
              "    <tr style=\"text-align: right;\">\n",
              "      <th></th>\n",
              "      <th>대여일자</th>\n",
              "      <th>대여소번호</th>\n",
              "      <th>대여소</th>\n",
              "      <th>대여구분코드</th>\n",
              "      <th>성별</th>\n",
              "      <th>연령대코드</th>\n",
              "      <th>이용건수</th>\n",
              "      <th>운동량</th>\n",
              "      <th>탄소량</th>\n",
              "      <th>이동거리(M)</th>\n",
              "      <th>이용시간(분)</th>\n",
              "    </tr>\n",
              "  </thead>\n",
              "  <tbody>\n",
              "    <tr>\n",
              "      <th>0</th>\n",
              "      <td>2020-01-01</td>\n",
              "      <td>101</td>\n",
              "      <td>101. (구)합정동 주민센터</td>\n",
              "      <td>일일(회원)</td>\n",
              "      <td>\\N</td>\n",
              "      <td>AGE_002</td>\n",
              "      <td>1</td>\n",
              "      <td>0.00</td>\n",
              "      <td>0.00</td>\n",
              "      <td>0.0</td>\n",
              "      <td>29</td>\n",
              "    </tr>\n",
              "    <tr>\n",
              "      <th>1</th>\n",
              "      <td>2020-01-01</td>\n",
              "      <td>101</td>\n",
              "      <td>101. (구)합정동 주민센터</td>\n",
              "      <td>정기</td>\n",
              "      <td>\\N</td>\n",
              "      <td>AGE_002</td>\n",
              "      <td>2</td>\n",
              "      <td>80.54</td>\n",
              "      <td>0.75</td>\n",
              "      <td>3240.0</td>\n",
              "      <td>52</td>\n",
              "    </tr>\n",
              "    <tr>\n",
              "      <th>2</th>\n",
              "      <td>2020-01-01</td>\n",
              "      <td>101</td>\n",
              "      <td>101. (구)합정동 주민센터</td>\n",
              "      <td>정기</td>\n",
              "      <td>F</td>\n",
              "      <td>AGE_002</td>\n",
              "      <td>1</td>\n",
              "      <td>72.07</td>\n",
              "      <td>0.75</td>\n",
              "      <td>3250.0</td>\n",
              "      <td>21</td>\n",
              "    </tr>\n",
              "    <tr>\n",
              "      <th>3</th>\n",
              "      <td>2020-01-01</td>\n",
              "      <td>101</td>\n",
              "      <td>101. (구)합정동 주민센터</td>\n",
              "      <td>정기</td>\n",
              "      <td>F</td>\n",
              "      <td>AGE_004</td>\n",
              "      <td>1</td>\n",
              "      <td>157.56</td>\n",
              "      <td>1.59</td>\n",
              "      <td>6860.0</td>\n",
              "      <td>46</td>\n",
              "    </tr>\n",
              "    <tr>\n",
              "      <th>4</th>\n",
              "      <td>2020-01-01</td>\n",
              "      <td>101</td>\n",
              "      <td>101. (구)합정동 주민센터</td>\n",
              "      <td>정기</td>\n",
              "      <td>M</td>\n",
              "      <td>AGE_002</td>\n",
              "      <td>1</td>\n",
              "      <td>39.99</td>\n",
              "      <td>0.23</td>\n",
              "      <td>990.0</td>\n",
              "      <td>5</td>\n",
              "    </tr>\n",
              "    <tr>\n",
              "      <th>...</th>\n",
              "      <td>...</td>\n",
              "      <td>...</td>\n",
              "      <td>...</td>\n",
              "      <td>...</td>\n",
              "      <td>...</td>\n",
              "      <td>...</td>\n",
              "      <td>...</td>\n",
              "      <td>...</td>\n",
              "      <td>...</td>\n",
              "      <td>...</td>\n",
              "      <td>...</td>\n",
              "    </tr>\n",
              "    <tr>\n",
              "      <th>3052548</th>\n",
              "      <td>2020-05-31</td>\n",
              "      <td>3560</td>\n",
              "      <td>3560.성동구 견인차량 보관소 앞</td>\n",
              "      <td>정기</td>\n",
              "      <td>\\N</td>\n",
              "      <td>AGE_008</td>\n",
              "      <td>1</td>\n",
              "      <td>0.00</td>\n",
              "      <td>0.00</td>\n",
              "      <td>0.0</td>\n",
              "      <td>15</td>\n",
              "    </tr>\n",
              "    <tr>\n",
              "      <th>3052549</th>\n",
              "      <td>2020-05-31</td>\n",
              "      <td>3560</td>\n",
              "      <td>3560.성동구 견인차량 보관소 앞</td>\n",
              "      <td>정기</td>\n",
              "      <td>M</td>\n",
              "      <td>AGE_002</td>\n",
              "      <td>1</td>\n",
              "      <td>0.00</td>\n",
              "      <td>0.00</td>\n",
              "      <td>0.0</td>\n",
              "      <td>34</td>\n",
              "    </tr>\n",
              "    <tr>\n",
              "      <th>3052550</th>\n",
              "      <td>2020-05-31</td>\n",
              "      <td>3560</td>\n",
              "      <td>3560.성동구 견인차량 보관소 앞</td>\n",
              "      <td>정기</td>\n",
              "      <td>M</td>\n",
              "      <td>AGE_003</td>\n",
              "      <td>1</td>\n",
              "      <td>0.00</td>\n",
              "      <td>0.00</td>\n",
              "      <td>0.0</td>\n",
              "      <td>13</td>\n",
              "    </tr>\n",
              "    <tr>\n",
              "      <th>3052551</th>\n",
              "      <td>2020-05-31</td>\n",
              "      <td>3560</td>\n",
              "      <td>3560.성동구 견인차량 보관소 앞</td>\n",
              "      <td>정기</td>\n",
              "      <td>M</td>\n",
              "      <td>AGE_004</td>\n",
              "      <td>2</td>\n",
              "      <td>0.00</td>\n",
              "      <td>0.00</td>\n",
              "      <td>0.0</td>\n",
              "      <td>20</td>\n",
              "    </tr>\n",
              "    <tr>\n",
              "      <th>3052552</th>\n",
              "      <td>2020-05-31</td>\n",
              "      <td>3560</td>\n",
              "      <td>3560.성동구 견인차량 보관소 앞</td>\n",
              "      <td>정기</td>\n",
              "      <td>M</td>\n",
              "      <td>AGE_005</td>\n",
              "      <td>1</td>\n",
              "      <td>0.00</td>\n",
              "      <td>0.00</td>\n",
              "      <td>0.0</td>\n",
              "      <td>14</td>\n",
              "    </tr>\n",
              "  </tbody>\n",
              "</table>\n",
              "<p>3052553 rows × 11 columns</p>\n",
              "</div>"
            ],
            "text/plain": [
              "               대여일자  대여소번호                  대여소  ...   탄소량 이동거리(M) 이용시간(분)\n",
              "0        2020-01-01    101     101. (구)합정동 주민센터  ...  0.00     0.0      29\n",
              "1        2020-01-01    101     101. (구)합정동 주민센터  ...  0.75  3240.0      52\n",
              "2        2020-01-01    101     101. (구)합정동 주민센터  ...  0.75  3250.0      21\n",
              "3        2020-01-01    101     101. (구)합정동 주민센터  ...  1.59  6860.0      46\n",
              "4        2020-01-01    101     101. (구)합정동 주민센터  ...  0.23   990.0       5\n",
              "...             ...    ...                  ...  ...   ...     ...     ...\n",
              "3052548  2020-05-31   3560  3560.성동구 견인차량 보관소 앞  ...  0.00     0.0      15\n",
              "3052549  2020-05-31   3560  3560.성동구 견인차량 보관소 앞  ...  0.00     0.0      34\n",
              "3052550  2020-05-31   3560  3560.성동구 견인차량 보관소 앞  ...  0.00     0.0      13\n",
              "3052551  2020-05-31   3560  3560.성동구 견인차량 보관소 앞  ...  0.00     0.0      20\n",
              "3052552  2020-05-31   3560  3560.성동구 견인차량 보관소 앞  ...  0.00     0.0      14\n",
              "\n",
              "[3052553 rows x 11 columns]"
            ]
          },
          "metadata": {},
          "execution_count": 7
        }
      ]
    },
    {
      "cell_type": "code",
      "metadata": {
        "colab": {
          "base_uri": "https://localhost:8080/"
        },
        "id": "OMcfFwIyjYS4",
        "outputId": "6a1232bd-9d64-4a49-cfb7-7c1e45860df6"
      },
      "source": [
        "df['운동량']"
      ],
      "execution_count": null,
      "outputs": [
        {
          "output_type": "execute_result",
          "data": {
            "text/plain": [
              "0            0.00\n",
              "1           80.54\n",
              "2           72.07\n",
              "3          157.56\n",
              "4           39.99\n",
              "            ...  \n",
              "3052548      0.00\n",
              "3052549      0.00\n",
              "3052550      0.00\n",
              "3052551      0.00\n",
              "3052552      0.00\n",
              "Name: 운동량, Length: 3052553, dtype: object"
            ]
          },
          "metadata": {},
          "execution_count": 8
        }
      ]
    },
    {
      "cell_type": "code",
      "metadata": {
        "id": "9xTa-iyujYS5"
      },
      "source": [
        "df['운동량'] = df['운동량'].apply(lambda x : clean(x) )"
      ],
      "execution_count": null,
      "outputs": []
    },
    {
      "cell_type": "code",
      "metadata": {
        "id": "gSNWwuxwjYS6",
        "scrolled": true
      },
      "source": [
        "df['운동량'] = pd.to_numeric(df['운동량']) "
      ],
      "execution_count": null,
      "outputs": []
    },
    {
      "cell_type": "code",
      "metadata": {
        "colab": {
          "base_uri": "https://localhost:8080/"
        },
        "id": "rdnqIiQMjYS7",
        "outputId": "40ca2681-93e8-461d-f502-c8a1d5a53817"
      },
      "source": [
        "df.info()"
      ],
      "execution_count": null,
      "outputs": [
        {
          "output_type": "stream",
          "name": "stdout",
          "text": [
            "<class 'pandas.core.frame.DataFrame'>\n",
            "RangeIndex: 3052553 entries, 0 to 3052552\n",
            "Data columns (total 11 columns):\n",
            " #   Column   Dtype  \n",
            "---  ------   -----  \n",
            " 0   대여일자     object \n",
            " 1   대여소번호    int64  \n",
            " 2   대여소      object \n",
            " 3   대여구분코드   object \n",
            " 4   성별       object \n",
            " 5   연령대코드    object \n",
            " 6   이용건수     int64  \n",
            " 7   운동량      float64\n",
            " 8   탄소량      object \n",
            " 9   이동거리(M)  float64\n",
            " 10  이용시간(분)  int64  \n",
            "dtypes: float64(2), int64(3), object(6)\n",
            "memory usage: 256.2+ MB\n"
          ]
        }
      ]
    },
    {
      "cell_type": "code",
      "metadata": {
        "id": "49LYuv11jYS7"
      },
      "source": [
        "df['탄소량'] = df['탄소량'].apply(lambda x : clean(x) )"
      ],
      "execution_count": null,
      "outputs": []
    },
    {
      "cell_type": "code",
      "metadata": {
        "id": "VTcIq3Z0jYS8"
      },
      "source": [
        "df['탄소량'] = pd.to_numeric(df['탄소량']) "
      ],
      "execution_count": null,
      "outputs": []
    },
    {
      "cell_type": "code",
      "metadata": {
        "colab": {
          "base_uri": "https://localhost:8080/"
        },
        "id": "I0_-SjbEjYS8",
        "scrolled": true,
        "outputId": "304087b1-3bb7-49f8-bac3-301a2a388589"
      },
      "source": [
        "df.info()"
      ],
      "execution_count": null,
      "outputs": [
        {
          "output_type": "stream",
          "name": "stdout",
          "text": [
            "<class 'pandas.core.frame.DataFrame'>\n",
            "RangeIndex: 3052553 entries, 0 to 3052552\n",
            "Data columns (total 11 columns):\n",
            " #   Column   Dtype  \n",
            "---  ------   -----  \n",
            " 0   대여일자     object \n",
            " 1   대여소번호    int64  \n",
            " 2   대여소      object \n",
            " 3   대여구분코드   object \n",
            " 4   성별       object \n",
            " 5   연령대코드    object \n",
            " 6   이용건수     int64  \n",
            " 7   운동량      float64\n",
            " 8   탄소량      float64\n",
            " 9   이동거리(M)  float64\n",
            " 10  이용시간(분)  int64  \n",
            "dtypes: float64(3), int64(3), object(5)\n",
            "memory usage: 256.2+ MB\n"
          ]
        }
      ]
    },
    {
      "cell_type": "code",
      "metadata": {
        "colab": {
          "base_uri": "https://localhost:8080/"
        },
        "id": "WIgFr_fEjYS9",
        "scrolled": true,
        "outputId": "887f69c9-8e46-4e53-d84a-2820c2eb4fd8"
      },
      "source": [
        "df.isna().sum()"
      ],
      "execution_count": null,
      "outputs": [
        {
          "output_type": "execute_result",
          "data": {
            "text/plain": [
              "대여일자            0\n",
              "대여소번호           0\n",
              "대여소             0\n",
              "대여구분코드          0\n",
              "성별         325967\n",
              "연령대코드           0\n",
              "이용건수            0\n",
              "운동량          9166\n",
              "탄소량          9166\n",
              "이동거리(M)         0\n",
              "이용시간(분)         0\n",
              "dtype: int64"
            ]
          },
          "metadata": {},
          "execution_count": 15
        }
      ]
    },
    {
      "cell_type": "code",
      "metadata": {
        "id": "JVKxb0m6jYS9",
        "scrolled": true
      },
      "source": [
        "df.dropna()\n",
        "df = df.dropna()"
      ],
      "execution_count": null,
      "outputs": []
    },
    {
      "cell_type": "code",
      "metadata": {
        "colab": {
          "base_uri": "https://localhost:8080/"
        },
        "id": "b0ysFzxZjYS-",
        "outputId": "8010781e-5653-49ea-ff29-bb26db06752f"
      },
      "source": [
        "df.isna().sum()"
      ],
      "execution_count": null,
      "outputs": [
        {
          "output_type": "execute_result",
          "data": {
            "text/plain": [
              "대여일자       0\n",
              "대여소번호      0\n",
              "대여소        0\n",
              "대여구분코드     0\n",
              "성별         0\n",
              "연령대코드      0\n",
              "이용건수       0\n",
              "운동량        0\n",
              "탄소량        0\n",
              "이동거리(M)    0\n",
              "이용시간(분)    0\n",
              "dtype: int64"
            ]
          },
          "metadata": {},
          "execution_count": 17
        }
      ]
    },
    {
      "cell_type": "code",
      "metadata": {
        "colab": {
          "base_uri": "https://localhost:8080/",
          "height": 973
        },
        "id": "3Cq7WNeujYS-",
        "scrolled": true,
        "outputId": "be3674e0-c0fc-4d0a-e650-327d2ea8553b"
      },
      "source": [
        "df.head(30)"
      ],
      "execution_count": null,
      "outputs": [
        {
          "output_type": "execute_result",
          "data": {
            "text/html": [
              "<div>\n",
              "<style scoped>\n",
              "    .dataframe tbody tr th:only-of-type {\n",
              "        vertical-align: middle;\n",
              "    }\n",
              "\n",
              "    .dataframe tbody tr th {\n",
              "        vertical-align: top;\n",
              "    }\n",
              "\n",
              "    .dataframe thead th {\n",
              "        text-align: right;\n",
              "    }\n",
              "</style>\n",
              "<table border=\"1\" class=\"dataframe\">\n",
              "  <thead>\n",
              "    <tr style=\"text-align: right;\">\n",
              "      <th></th>\n",
              "      <th>대여일자</th>\n",
              "      <th>대여소번호</th>\n",
              "      <th>대여소</th>\n",
              "      <th>대여구분코드</th>\n",
              "      <th>성별</th>\n",
              "      <th>연령대코드</th>\n",
              "      <th>이용건수</th>\n",
              "      <th>운동량</th>\n",
              "      <th>탄소량</th>\n",
              "      <th>이동거리(M)</th>\n",
              "      <th>이용시간(분)</th>\n",
              "    </tr>\n",
              "  </thead>\n",
              "  <tbody>\n",
              "    <tr>\n",
              "      <th>0</th>\n",
              "      <td>2020-01-01</td>\n",
              "      <td>101</td>\n",
              "      <td>101. (구)합정동 주민센터</td>\n",
              "      <td>일일(회원)</td>\n",
              "      <td>\\N</td>\n",
              "      <td>AGE_002</td>\n",
              "      <td>1</td>\n",
              "      <td>0.00</td>\n",
              "      <td>0.00</td>\n",
              "      <td>0.0</td>\n",
              "      <td>29</td>\n",
              "    </tr>\n",
              "    <tr>\n",
              "      <th>1</th>\n",
              "      <td>2020-01-01</td>\n",
              "      <td>101</td>\n",
              "      <td>101. (구)합정동 주민센터</td>\n",
              "      <td>정기</td>\n",
              "      <td>\\N</td>\n",
              "      <td>AGE_002</td>\n",
              "      <td>2</td>\n",
              "      <td>80.54</td>\n",
              "      <td>0.75</td>\n",
              "      <td>3240.0</td>\n",
              "      <td>52</td>\n",
              "    </tr>\n",
              "    <tr>\n",
              "      <th>2</th>\n",
              "      <td>2020-01-01</td>\n",
              "      <td>101</td>\n",
              "      <td>101. (구)합정동 주민센터</td>\n",
              "      <td>정기</td>\n",
              "      <td>F</td>\n",
              "      <td>AGE_002</td>\n",
              "      <td>1</td>\n",
              "      <td>72.07</td>\n",
              "      <td>0.75</td>\n",
              "      <td>3250.0</td>\n",
              "      <td>21</td>\n",
              "    </tr>\n",
              "    <tr>\n",
              "      <th>3</th>\n",
              "      <td>2020-01-01</td>\n",
              "      <td>101</td>\n",
              "      <td>101. (구)합정동 주민센터</td>\n",
              "      <td>정기</td>\n",
              "      <td>F</td>\n",
              "      <td>AGE_004</td>\n",
              "      <td>1</td>\n",
              "      <td>157.56</td>\n",
              "      <td>1.59</td>\n",
              "      <td>6860.0</td>\n",
              "      <td>46</td>\n",
              "    </tr>\n",
              "    <tr>\n",
              "      <th>4</th>\n",
              "      <td>2020-01-01</td>\n",
              "      <td>101</td>\n",
              "      <td>101. (구)합정동 주민센터</td>\n",
              "      <td>정기</td>\n",
              "      <td>M</td>\n",
              "      <td>AGE_002</td>\n",
              "      <td>1</td>\n",
              "      <td>39.99</td>\n",
              "      <td>0.23</td>\n",
              "      <td>990.0</td>\n",
              "      <td>5</td>\n",
              "    </tr>\n",
              "    <tr>\n",
              "      <th>5</th>\n",
              "      <td>2020-01-01</td>\n",
              "      <td>101</td>\n",
              "      <td>101. (구)합정동 주민센터</td>\n",
              "      <td>정기</td>\n",
              "      <td>M</td>\n",
              "      <td>AGE_005</td>\n",
              "      <td>1</td>\n",
              "      <td>25.48</td>\n",
              "      <td>0.23</td>\n",
              "      <td>990.0</td>\n",
              "      <td>5</td>\n",
              "    </tr>\n",
              "    <tr>\n",
              "      <th>6</th>\n",
              "      <td>2020-01-01</td>\n",
              "      <td>101</td>\n",
              "      <td>101. (구)합정동 주민센터</td>\n",
              "      <td>정기</td>\n",
              "      <td>M</td>\n",
              "      <td>AGE_008</td>\n",
              "      <td>1</td>\n",
              "      <td>17.63</td>\n",
              "      <td>0.14</td>\n",
              "      <td>610.0</td>\n",
              "      <td>2</td>\n",
              "    </tr>\n",
              "    <tr>\n",
              "      <th>7</th>\n",
              "      <td>2020-01-01</td>\n",
              "      <td>102</td>\n",
              "      <td>102. 망원역 1번출구 앞</td>\n",
              "      <td>일일(회원)</td>\n",
              "      <td>\\N</td>\n",
              "      <td>AGE_002</td>\n",
              "      <td>2</td>\n",
              "      <td>49.96</td>\n",
              "      <td>0.35</td>\n",
              "      <td>1520.0</td>\n",
              "      <td>65</td>\n",
              "    </tr>\n",
              "    <tr>\n",
              "      <th>8</th>\n",
              "      <td>2020-01-01</td>\n",
              "      <td>102</td>\n",
              "      <td>102. 망원역 1번출구 앞</td>\n",
              "      <td>일일(회원)</td>\n",
              "      <td>M</td>\n",
              "      <td>AGE_003</td>\n",
              "      <td>2</td>\n",
              "      <td>215.70</td>\n",
              "      <td>1.91</td>\n",
              "      <td>8230.0</td>\n",
              "      <td>40</td>\n",
              "    </tr>\n",
              "    <tr>\n",
              "      <th>9</th>\n",
              "      <td>2020-01-01</td>\n",
              "      <td>102</td>\n",
              "      <td>102. 망원역 1번출구 앞</td>\n",
              "      <td>일일(회원)</td>\n",
              "      <td>M</td>\n",
              "      <td>AGE_004</td>\n",
              "      <td>1</td>\n",
              "      <td>157.60</td>\n",
              "      <td>1.38</td>\n",
              "      <td>5940.0</td>\n",
              "      <td>52</td>\n",
              "    </tr>\n",
              "    <tr>\n",
              "      <th>10</th>\n",
              "      <td>2020-01-01</td>\n",
              "      <td>102</td>\n",
              "      <td>102. 망원역 1번출구 앞</td>\n",
              "      <td>정기</td>\n",
              "      <td>\\N</td>\n",
              "      <td>AGE_002</td>\n",
              "      <td>6</td>\n",
              "      <td>248.47</td>\n",
              "      <td>2.22</td>\n",
              "      <td>9580.0</td>\n",
              "      <td>157</td>\n",
              "    </tr>\n",
              "    <tr>\n",
              "      <th>11</th>\n",
              "      <td>2020-01-01</td>\n",
              "      <td>102</td>\n",
              "      <td>102. 망원역 1번출구 앞</td>\n",
              "      <td>정기</td>\n",
              "      <td>\\N</td>\n",
              "      <td>AGE_003</td>\n",
              "      <td>5</td>\n",
              "      <td>116.17</td>\n",
              "      <td>0.95</td>\n",
              "      <td>4080.0</td>\n",
              "      <td>75</td>\n",
              "    </tr>\n",
              "    <tr>\n",
              "      <th>12</th>\n",
              "      <td>2020-01-01</td>\n",
              "      <td>102</td>\n",
              "      <td>102. 망원역 1번출구 앞</td>\n",
              "      <td>정기</td>\n",
              "      <td>\\N</td>\n",
              "      <td>AGE_004</td>\n",
              "      <td>1</td>\n",
              "      <td>0.00</td>\n",
              "      <td>0.00</td>\n",
              "      <td>0.0</td>\n",
              "      <td>10</td>\n",
              "    </tr>\n",
              "    <tr>\n",
              "      <th>13</th>\n",
              "      <td>2020-01-01</td>\n",
              "      <td>102</td>\n",
              "      <td>102. 망원역 1번출구 앞</td>\n",
              "      <td>정기</td>\n",
              "      <td>\\N</td>\n",
              "      <td>AGE_005</td>\n",
              "      <td>1</td>\n",
              "      <td>36.87</td>\n",
              "      <td>0.31</td>\n",
              "      <td>1330.0</td>\n",
              "      <td>7</td>\n",
              "    </tr>\n",
              "    <tr>\n",
              "      <th>15</th>\n",
              "      <td>2020-01-01</td>\n",
              "      <td>102</td>\n",
              "      <td>102. 망원역 1번출구 앞</td>\n",
              "      <td>정기</td>\n",
              "      <td>F</td>\n",
              "      <td>AGE_002</td>\n",
              "      <td>1</td>\n",
              "      <td>9.90</td>\n",
              "      <td>0.12</td>\n",
              "      <td>500.0</td>\n",
              "      <td>5</td>\n",
              "    </tr>\n",
              "    <tr>\n",
              "      <th>16</th>\n",
              "      <td>2020-01-01</td>\n",
              "      <td>102</td>\n",
              "      <td>102. 망원역 1번출구 앞</td>\n",
              "      <td>정기</td>\n",
              "      <td>F</td>\n",
              "      <td>AGE_003</td>\n",
              "      <td>2</td>\n",
              "      <td>103.91</td>\n",
              "      <td>1.18</td>\n",
              "      <td>5050.0</td>\n",
              "      <td>38</td>\n",
              "    </tr>\n",
              "    <tr>\n",
              "      <th>17</th>\n",
              "      <td>2020-01-01</td>\n",
              "      <td>102</td>\n",
              "      <td>102. 망원역 1번출구 앞</td>\n",
              "      <td>정기</td>\n",
              "      <td>F</td>\n",
              "      <td>AGE_006</td>\n",
              "      <td>1</td>\n",
              "      <td>79.50</td>\n",
              "      <td>0.64</td>\n",
              "      <td>2750.0</td>\n",
              "      <td>11</td>\n",
              "    </tr>\n",
              "    <tr>\n",
              "      <th>18</th>\n",
              "      <td>2020-01-01</td>\n",
              "      <td>102</td>\n",
              "      <td>102. 망원역 1번출구 앞</td>\n",
              "      <td>정기</td>\n",
              "      <td>M</td>\n",
              "      <td>AGE_002</td>\n",
              "      <td>3</td>\n",
              "      <td>82.87</td>\n",
              "      <td>0.63</td>\n",
              "      <td>2730.0</td>\n",
              "      <td>66</td>\n",
              "    </tr>\n",
              "    <tr>\n",
              "      <th>19</th>\n",
              "      <td>2020-01-01</td>\n",
              "      <td>102</td>\n",
              "      <td>102. 망원역 1번출구 앞</td>\n",
              "      <td>정기</td>\n",
              "      <td>M</td>\n",
              "      <td>AGE_003</td>\n",
              "      <td>3</td>\n",
              "      <td>1839.13</td>\n",
              "      <td>15.03</td>\n",
              "      <td>64810.0</td>\n",
              "      <td>66</td>\n",
              "    </tr>\n",
              "    <tr>\n",
              "      <th>20</th>\n",
              "      <td>2020-01-01</td>\n",
              "      <td>102</td>\n",
              "      <td>102. 망원역 1번출구 앞</td>\n",
              "      <td>정기</td>\n",
              "      <td>M</td>\n",
              "      <td>AGE_004</td>\n",
              "      <td>1</td>\n",
              "      <td>37.36</td>\n",
              "      <td>0.26</td>\n",
              "      <td>1110.0</td>\n",
              "      <td>9</td>\n",
              "    </tr>\n",
              "    <tr>\n",
              "      <th>21</th>\n",
              "      <td>2020-01-01</td>\n",
              "      <td>103</td>\n",
              "      <td>103. 망원역 2번출구 앞</td>\n",
              "      <td>일일(회원)</td>\n",
              "      <td>M</td>\n",
              "      <td>AGE_002</td>\n",
              "      <td>1</td>\n",
              "      <td>21.44</td>\n",
              "      <td>0.22</td>\n",
              "      <td>950.0</td>\n",
              "      <td>5</td>\n",
              "    </tr>\n",
              "    <tr>\n",
              "      <th>22</th>\n",
              "      <td>2020-01-01</td>\n",
              "      <td>103</td>\n",
              "      <td>103. 망원역 2번출구 앞</td>\n",
              "      <td>일일(회원)</td>\n",
              "      <td>M</td>\n",
              "      <td>AGE_003</td>\n",
              "      <td>1</td>\n",
              "      <td>73.18</td>\n",
              "      <td>0.54</td>\n",
              "      <td>2310.0</td>\n",
              "      <td>22</td>\n",
              "    </tr>\n",
              "    <tr>\n",
              "      <th>23</th>\n",
              "      <td>2020-01-01</td>\n",
              "      <td>103</td>\n",
              "      <td>103. 망원역 2번출구 앞</td>\n",
              "      <td>정기</td>\n",
              "      <td>\\N</td>\n",
              "      <td>AGE_001</td>\n",
              "      <td>1</td>\n",
              "      <td>17.92</td>\n",
              "      <td>0.20</td>\n",
              "      <td>870.0</td>\n",
              "      <td>6</td>\n",
              "    </tr>\n",
              "    <tr>\n",
              "      <th>24</th>\n",
              "      <td>2020-01-01</td>\n",
              "      <td>103</td>\n",
              "      <td>103. 망원역 2번출구 앞</td>\n",
              "      <td>정기</td>\n",
              "      <td>\\N</td>\n",
              "      <td>AGE_002</td>\n",
              "      <td>2</td>\n",
              "      <td>156.71</td>\n",
              "      <td>1.95</td>\n",
              "      <td>8420.0</td>\n",
              "      <td>48</td>\n",
              "    </tr>\n",
              "    <tr>\n",
              "      <th>25</th>\n",
              "      <td>2020-01-01</td>\n",
              "      <td>103</td>\n",
              "      <td>103. 망원역 2번출구 앞</td>\n",
              "      <td>정기</td>\n",
              "      <td>\\N</td>\n",
              "      <td>AGE_003</td>\n",
              "      <td>2</td>\n",
              "      <td>106.06</td>\n",
              "      <td>1.29</td>\n",
              "      <td>5580.0</td>\n",
              "      <td>67</td>\n",
              "    </tr>\n",
              "    <tr>\n",
              "      <th>26</th>\n",
              "      <td>2020-01-01</td>\n",
              "      <td>103</td>\n",
              "      <td>103. 망원역 2번출구 앞</td>\n",
              "      <td>정기</td>\n",
              "      <td>\\N</td>\n",
              "      <td>AGE_006</td>\n",
              "      <td>1</td>\n",
              "      <td>20.91</td>\n",
              "      <td>0.22</td>\n",
              "      <td>960.0</td>\n",
              "      <td>3</td>\n",
              "    </tr>\n",
              "    <tr>\n",
              "      <th>28</th>\n",
              "      <td>2020-01-01</td>\n",
              "      <td>103</td>\n",
              "      <td>103. 망원역 2번출구 앞</td>\n",
              "      <td>정기</td>\n",
              "      <td>F</td>\n",
              "      <td>AGE_001</td>\n",
              "      <td>1</td>\n",
              "      <td>246.71</td>\n",
              "      <td>2.06</td>\n",
              "      <td>8900.0</td>\n",
              "      <td>78</td>\n",
              "    </tr>\n",
              "    <tr>\n",
              "      <th>29</th>\n",
              "      <td>2020-01-01</td>\n",
              "      <td>103</td>\n",
              "      <td>103. 망원역 2번출구 앞</td>\n",
              "      <td>정기</td>\n",
              "      <td>F</td>\n",
              "      <td>AGE_002</td>\n",
              "      <td>4</td>\n",
              "      <td>103.10</td>\n",
              "      <td>1.17</td>\n",
              "      <td>5020.0</td>\n",
              "      <td>118</td>\n",
              "    </tr>\n",
              "    <tr>\n",
              "      <th>30</th>\n",
              "      <td>2020-01-01</td>\n",
              "      <td>103</td>\n",
              "      <td>103. 망원역 2번출구 앞</td>\n",
              "      <td>정기</td>\n",
              "      <td>F</td>\n",
              "      <td>AGE_003</td>\n",
              "      <td>2</td>\n",
              "      <td>75.16</td>\n",
              "      <td>0.67</td>\n",
              "      <td>2920.0</td>\n",
              "      <td>18</td>\n",
              "    </tr>\n",
              "    <tr>\n",
              "      <th>31</th>\n",
              "      <td>2020-01-01</td>\n",
              "      <td>103</td>\n",
              "      <td>103. 망원역 2번출구 앞</td>\n",
              "      <td>정기</td>\n",
              "      <td>M</td>\n",
              "      <td>AGE_002</td>\n",
              "      <td>1</td>\n",
              "      <td>47.36</td>\n",
              "      <td>0.43</td>\n",
              "      <td>1840.0</td>\n",
              "      <td>17</td>\n",
              "    </tr>\n",
              "  </tbody>\n",
              "</table>\n",
              "</div>"
            ],
            "text/plain": [
              "          대여일자  대여소번호               대여소  ...    탄소량  이동거리(M) 이용시간(분)\n",
              "0   2020-01-01    101  101. (구)합정동 주민센터  ...   0.00      0.0      29\n",
              "1   2020-01-01    101  101. (구)합정동 주민센터  ...   0.75   3240.0      52\n",
              "2   2020-01-01    101  101. (구)합정동 주민센터  ...   0.75   3250.0      21\n",
              "3   2020-01-01    101  101. (구)합정동 주민센터  ...   1.59   6860.0      46\n",
              "4   2020-01-01    101  101. (구)합정동 주민센터  ...   0.23    990.0       5\n",
              "5   2020-01-01    101  101. (구)합정동 주민센터  ...   0.23    990.0       5\n",
              "6   2020-01-01    101  101. (구)합정동 주민센터  ...   0.14    610.0       2\n",
              "7   2020-01-01    102   102. 망원역 1번출구 앞  ...   0.35   1520.0      65\n",
              "8   2020-01-01    102   102. 망원역 1번출구 앞  ...   1.91   8230.0      40\n",
              "9   2020-01-01    102   102. 망원역 1번출구 앞  ...   1.38   5940.0      52\n",
              "10  2020-01-01    102   102. 망원역 1번출구 앞  ...   2.22   9580.0     157\n",
              "11  2020-01-01    102   102. 망원역 1번출구 앞  ...   0.95   4080.0      75\n",
              "12  2020-01-01    102   102. 망원역 1번출구 앞  ...   0.00      0.0      10\n",
              "13  2020-01-01    102   102. 망원역 1번출구 앞  ...   0.31   1330.0       7\n",
              "15  2020-01-01    102   102. 망원역 1번출구 앞  ...   0.12    500.0       5\n",
              "16  2020-01-01    102   102. 망원역 1번출구 앞  ...   1.18   5050.0      38\n",
              "17  2020-01-01    102   102. 망원역 1번출구 앞  ...   0.64   2750.0      11\n",
              "18  2020-01-01    102   102. 망원역 1번출구 앞  ...   0.63   2730.0      66\n",
              "19  2020-01-01    102   102. 망원역 1번출구 앞  ...  15.03  64810.0      66\n",
              "20  2020-01-01    102   102. 망원역 1번출구 앞  ...   0.26   1110.0       9\n",
              "21  2020-01-01    103   103. 망원역 2번출구 앞  ...   0.22    950.0       5\n",
              "22  2020-01-01    103   103. 망원역 2번출구 앞  ...   0.54   2310.0      22\n",
              "23  2020-01-01    103   103. 망원역 2번출구 앞  ...   0.20    870.0       6\n",
              "24  2020-01-01    103   103. 망원역 2번출구 앞  ...   1.95   8420.0      48\n",
              "25  2020-01-01    103   103. 망원역 2번출구 앞  ...   1.29   5580.0      67\n",
              "26  2020-01-01    103   103. 망원역 2번출구 앞  ...   0.22    960.0       3\n",
              "28  2020-01-01    103   103. 망원역 2번출구 앞  ...   2.06   8900.0      78\n",
              "29  2020-01-01    103   103. 망원역 2번출구 앞  ...   1.17   5020.0     118\n",
              "30  2020-01-01    103   103. 망원역 2번출구 앞  ...   0.67   2920.0      18\n",
              "31  2020-01-01    103   103. 망원역 2번출구 앞  ...   0.43   1840.0      17\n",
              "\n",
              "[30 rows x 11 columns]"
            ]
          },
          "metadata": {},
          "execution_count": 18
        }
      ]
    },
    {
      "cell_type": "code",
      "metadata": {
        "colab": {
          "base_uri": "https://localhost:8080/"
        },
        "id": "nN9p3K5TjYS-",
        "scrolled": false,
        "outputId": "6b1a5acc-3eb1-48e9-f0ad-496dc360dda8"
      },
      "source": [
        "df['성별'] = df['성별'].apply(lambda x : clean(x) )"
      ],
      "execution_count": null,
      "outputs": [
        {
          "output_type": "stream",
          "name": "stderr",
          "text": [
            "/usr/local/lib/python3.7/dist-packages/ipykernel_launcher.py:1: SettingWithCopyWarning: \n",
            "A value is trying to be set on a copy of a slice from a DataFrame.\n",
            "Try using .loc[row_indexer,col_indexer] = value instead\n",
            "\n",
            "See the caveats in the documentation: https://pandas.pydata.org/pandas-docs/stable/user_guide/indexing.html#returning-a-view-versus-a-copy\n",
            "  \"\"\"Entry point for launching an IPython kernel.\n"
          ]
        }
      ]
    },
    {
      "cell_type": "code",
      "metadata": {
        "colab": {
          "base_uri": "https://localhost:8080/",
          "height": 417
        },
        "id": "G7XDMzJXjYS_",
        "scrolled": true,
        "outputId": "4496c210-909e-4ee8-d347-80774386ebc9"
      },
      "source": [
        "df2 = df[(df['성별'] == 'M') | (df['성별'] == 'F')]   # 성별이 M 혹은 F인 것에 해당하는 행만 추출\n",
        "df2"
      ],
      "execution_count": null,
      "outputs": [
        {
          "output_type": "execute_result",
          "data": {
            "text/html": [
              "<div>\n",
              "<style scoped>\n",
              "    .dataframe tbody tr th:only-of-type {\n",
              "        vertical-align: middle;\n",
              "    }\n",
              "\n",
              "    .dataframe tbody tr th {\n",
              "        vertical-align: top;\n",
              "    }\n",
              "\n",
              "    .dataframe thead th {\n",
              "        text-align: right;\n",
              "    }\n",
              "</style>\n",
              "<table border=\"1\" class=\"dataframe\">\n",
              "  <thead>\n",
              "    <tr style=\"text-align: right;\">\n",
              "      <th></th>\n",
              "      <th>대여일자</th>\n",
              "      <th>대여소번호</th>\n",
              "      <th>대여소</th>\n",
              "      <th>대여구분코드</th>\n",
              "      <th>성별</th>\n",
              "      <th>연령대코드</th>\n",
              "      <th>이용건수</th>\n",
              "      <th>운동량</th>\n",
              "      <th>탄소량</th>\n",
              "      <th>이동거리(M)</th>\n",
              "      <th>이용시간(분)</th>\n",
              "    </tr>\n",
              "  </thead>\n",
              "  <tbody>\n",
              "    <tr>\n",
              "      <th>2</th>\n",
              "      <td>2020-01-01</td>\n",
              "      <td>101</td>\n",
              "      <td>101. (구)합정동 주민센터</td>\n",
              "      <td>정기</td>\n",
              "      <td>F</td>\n",
              "      <td>AGE_002</td>\n",
              "      <td>1</td>\n",
              "      <td>72.07</td>\n",
              "      <td>0.75</td>\n",
              "      <td>3250.0</td>\n",
              "      <td>21</td>\n",
              "    </tr>\n",
              "    <tr>\n",
              "      <th>3</th>\n",
              "      <td>2020-01-01</td>\n",
              "      <td>101</td>\n",
              "      <td>101. (구)합정동 주민센터</td>\n",
              "      <td>정기</td>\n",
              "      <td>F</td>\n",
              "      <td>AGE_004</td>\n",
              "      <td>1</td>\n",
              "      <td>157.56</td>\n",
              "      <td>1.59</td>\n",
              "      <td>6860.0</td>\n",
              "      <td>46</td>\n",
              "    </tr>\n",
              "    <tr>\n",
              "      <th>4</th>\n",
              "      <td>2020-01-01</td>\n",
              "      <td>101</td>\n",
              "      <td>101. (구)합정동 주민센터</td>\n",
              "      <td>정기</td>\n",
              "      <td>M</td>\n",
              "      <td>AGE_002</td>\n",
              "      <td>1</td>\n",
              "      <td>39.99</td>\n",
              "      <td>0.23</td>\n",
              "      <td>990.0</td>\n",
              "      <td>5</td>\n",
              "    </tr>\n",
              "    <tr>\n",
              "      <th>5</th>\n",
              "      <td>2020-01-01</td>\n",
              "      <td>101</td>\n",
              "      <td>101. (구)합정동 주민센터</td>\n",
              "      <td>정기</td>\n",
              "      <td>M</td>\n",
              "      <td>AGE_005</td>\n",
              "      <td>1</td>\n",
              "      <td>25.48</td>\n",
              "      <td>0.23</td>\n",
              "      <td>990.0</td>\n",
              "      <td>5</td>\n",
              "    </tr>\n",
              "    <tr>\n",
              "      <th>6</th>\n",
              "      <td>2020-01-01</td>\n",
              "      <td>101</td>\n",
              "      <td>101. (구)합정동 주민센터</td>\n",
              "      <td>정기</td>\n",
              "      <td>M</td>\n",
              "      <td>AGE_008</td>\n",
              "      <td>1</td>\n",
              "      <td>17.63</td>\n",
              "      <td>0.14</td>\n",
              "      <td>610.0</td>\n",
              "      <td>2</td>\n",
              "    </tr>\n",
              "    <tr>\n",
              "      <th>...</th>\n",
              "      <td>...</td>\n",
              "      <td>...</td>\n",
              "      <td>...</td>\n",
              "      <td>...</td>\n",
              "      <td>...</td>\n",
              "      <td>...</td>\n",
              "      <td>...</td>\n",
              "      <td>...</td>\n",
              "      <td>...</td>\n",
              "      <td>...</td>\n",
              "      <td>...</td>\n",
              "    </tr>\n",
              "    <tr>\n",
              "      <th>3052543</th>\n",
              "      <td>2020-05-31</td>\n",
              "      <td>3560</td>\n",
              "      <td>3560.성동구 견인차량 보관소 앞</td>\n",
              "      <td>일일(회원)</td>\n",
              "      <td>M</td>\n",
              "      <td>AGE_003</td>\n",
              "      <td>1</td>\n",
              "      <td>0.00</td>\n",
              "      <td>0.00</td>\n",
              "      <td>0.0</td>\n",
              "      <td>113</td>\n",
              "    </tr>\n",
              "    <tr>\n",
              "      <th>3052549</th>\n",
              "      <td>2020-05-31</td>\n",
              "      <td>3560</td>\n",
              "      <td>3560.성동구 견인차량 보관소 앞</td>\n",
              "      <td>정기</td>\n",
              "      <td>M</td>\n",
              "      <td>AGE_002</td>\n",
              "      <td>1</td>\n",
              "      <td>0.00</td>\n",
              "      <td>0.00</td>\n",
              "      <td>0.0</td>\n",
              "      <td>34</td>\n",
              "    </tr>\n",
              "    <tr>\n",
              "      <th>3052550</th>\n",
              "      <td>2020-05-31</td>\n",
              "      <td>3560</td>\n",
              "      <td>3560.성동구 견인차량 보관소 앞</td>\n",
              "      <td>정기</td>\n",
              "      <td>M</td>\n",
              "      <td>AGE_003</td>\n",
              "      <td>1</td>\n",
              "      <td>0.00</td>\n",
              "      <td>0.00</td>\n",
              "      <td>0.0</td>\n",
              "      <td>13</td>\n",
              "    </tr>\n",
              "    <tr>\n",
              "      <th>3052551</th>\n",
              "      <td>2020-05-31</td>\n",
              "      <td>3560</td>\n",
              "      <td>3560.성동구 견인차량 보관소 앞</td>\n",
              "      <td>정기</td>\n",
              "      <td>M</td>\n",
              "      <td>AGE_004</td>\n",
              "      <td>2</td>\n",
              "      <td>0.00</td>\n",
              "      <td>0.00</td>\n",
              "      <td>0.0</td>\n",
              "      <td>20</td>\n",
              "    </tr>\n",
              "    <tr>\n",
              "      <th>3052552</th>\n",
              "      <td>2020-05-31</td>\n",
              "      <td>3560</td>\n",
              "      <td>3560.성동구 견인차량 보관소 앞</td>\n",
              "      <td>정기</td>\n",
              "      <td>M</td>\n",
              "      <td>AGE_005</td>\n",
              "      <td>1</td>\n",
              "      <td>0.00</td>\n",
              "      <td>0.00</td>\n",
              "      <td>0.0</td>\n",
              "      <td>14</td>\n",
              "    </tr>\n",
              "  </tbody>\n",
              "</table>\n",
              "<p>1455636 rows × 11 columns</p>\n",
              "</div>"
            ],
            "text/plain": [
              "               대여일자  대여소번호                  대여소  ...   탄소량 이동거리(M) 이용시간(분)\n",
              "2        2020-01-01    101     101. (구)합정동 주민센터  ...  0.75  3250.0      21\n",
              "3        2020-01-01    101     101. (구)합정동 주민센터  ...  1.59  6860.0      46\n",
              "4        2020-01-01    101     101. (구)합정동 주민센터  ...  0.23   990.0       5\n",
              "5        2020-01-01    101     101. (구)합정동 주민센터  ...  0.23   990.0       5\n",
              "6        2020-01-01    101     101. (구)합정동 주민센터  ...  0.14   610.0       2\n",
              "...             ...    ...                  ...  ...   ...     ...     ...\n",
              "3052543  2020-05-31   3560  3560.성동구 견인차량 보관소 앞  ...  0.00     0.0     113\n",
              "3052549  2020-05-31   3560  3560.성동구 견인차량 보관소 앞  ...  0.00     0.0      34\n",
              "3052550  2020-05-31   3560  3560.성동구 견인차량 보관소 앞  ...  0.00     0.0      13\n",
              "3052551  2020-05-31   3560  3560.성동구 견인차량 보관소 앞  ...  0.00     0.0      20\n",
              "3052552  2020-05-31   3560  3560.성동구 견인차량 보관소 앞  ...  0.00     0.0      14\n",
              "\n",
              "[1455636 rows x 11 columns]"
            ]
          },
          "metadata": {},
          "execution_count": 20
        }
      ]
    },
    {
      "cell_type": "code",
      "metadata": {
        "colab": {
          "base_uri": "https://localhost:8080/",
          "height": 417
        },
        "id": "eu6pPuSPjYS_",
        "outputId": "b9c15b28-c64a-4f0f-8266-36a8012832fa"
      },
      "source": [
        "df2"
      ],
      "execution_count": null,
      "outputs": [
        {
          "output_type": "execute_result",
          "data": {
            "text/html": [
              "<div>\n",
              "<style scoped>\n",
              "    .dataframe tbody tr th:only-of-type {\n",
              "        vertical-align: middle;\n",
              "    }\n",
              "\n",
              "    .dataframe tbody tr th {\n",
              "        vertical-align: top;\n",
              "    }\n",
              "\n",
              "    .dataframe thead th {\n",
              "        text-align: right;\n",
              "    }\n",
              "</style>\n",
              "<table border=\"1\" class=\"dataframe\">\n",
              "  <thead>\n",
              "    <tr style=\"text-align: right;\">\n",
              "      <th></th>\n",
              "      <th>대여일자</th>\n",
              "      <th>대여소번호</th>\n",
              "      <th>대여소</th>\n",
              "      <th>대여구분코드</th>\n",
              "      <th>성별</th>\n",
              "      <th>연령대코드</th>\n",
              "      <th>이용건수</th>\n",
              "      <th>운동량</th>\n",
              "      <th>탄소량</th>\n",
              "      <th>이동거리(M)</th>\n",
              "      <th>이용시간(분)</th>\n",
              "    </tr>\n",
              "  </thead>\n",
              "  <tbody>\n",
              "    <tr>\n",
              "      <th>2</th>\n",
              "      <td>2020-01-01</td>\n",
              "      <td>101</td>\n",
              "      <td>101. (구)합정동 주민센터</td>\n",
              "      <td>정기</td>\n",
              "      <td>F</td>\n",
              "      <td>AGE_002</td>\n",
              "      <td>1</td>\n",
              "      <td>72.07</td>\n",
              "      <td>0.75</td>\n",
              "      <td>3250.0</td>\n",
              "      <td>21</td>\n",
              "    </tr>\n",
              "    <tr>\n",
              "      <th>3</th>\n",
              "      <td>2020-01-01</td>\n",
              "      <td>101</td>\n",
              "      <td>101. (구)합정동 주민센터</td>\n",
              "      <td>정기</td>\n",
              "      <td>F</td>\n",
              "      <td>AGE_004</td>\n",
              "      <td>1</td>\n",
              "      <td>157.56</td>\n",
              "      <td>1.59</td>\n",
              "      <td>6860.0</td>\n",
              "      <td>46</td>\n",
              "    </tr>\n",
              "    <tr>\n",
              "      <th>4</th>\n",
              "      <td>2020-01-01</td>\n",
              "      <td>101</td>\n",
              "      <td>101. (구)합정동 주민센터</td>\n",
              "      <td>정기</td>\n",
              "      <td>M</td>\n",
              "      <td>AGE_002</td>\n",
              "      <td>1</td>\n",
              "      <td>39.99</td>\n",
              "      <td>0.23</td>\n",
              "      <td>990.0</td>\n",
              "      <td>5</td>\n",
              "    </tr>\n",
              "    <tr>\n",
              "      <th>5</th>\n",
              "      <td>2020-01-01</td>\n",
              "      <td>101</td>\n",
              "      <td>101. (구)합정동 주민센터</td>\n",
              "      <td>정기</td>\n",
              "      <td>M</td>\n",
              "      <td>AGE_005</td>\n",
              "      <td>1</td>\n",
              "      <td>25.48</td>\n",
              "      <td>0.23</td>\n",
              "      <td>990.0</td>\n",
              "      <td>5</td>\n",
              "    </tr>\n",
              "    <tr>\n",
              "      <th>6</th>\n",
              "      <td>2020-01-01</td>\n",
              "      <td>101</td>\n",
              "      <td>101. (구)합정동 주민센터</td>\n",
              "      <td>정기</td>\n",
              "      <td>M</td>\n",
              "      <td>AGE_008</td>\n",
              "      <td>1</td>\n",
              "      <td>17.63</td>\n",
              "      <td>0.14</td>\n",
              "      <td>610.0</td>\n",
              "      <td>2</td>\n",
              "    </tr>\n",
              "    <tr>\n",
              "      <th>...</th>\n",
              "      <td>...</td>\n",
              "      <td>...</td>\n",
              "      <td>...</td>\n",
              "      <td>...</td>\n",
              "      <td>...</td>\n",
              "      <td>...</td>\n",
              "      <td>...</td>\n",
              "      <td>...</td>\n",
              "      <td>...</td>\n",
              "      <td>...</td>\n",
              "      <td>...</td>\n",
              "    </tr>\n",
              "    <tr>\n",
              "      <th>3052543</th>\n",
              "      <td>2020-05-31</td>\n",
              "      <td>3560</td>\n",
              "      <td>3560.성동구 견인차량 보관소 앞</td>\n",
              "      <td>일일(회원)</td>\n",
              "      <td>M</td>\n",
              "      <td>AGE_003</td>\n",
              "      <td>1</td>\n",
              "      <td>0.00</td>\n",
              "      <td>0.00</td>\n",
              "      <td>0.0</td>\n",
              "      <td>113</td>\n",
              "    </tr>\n",
              "    <tr>\n",
              "      <th>3052549</th>\n",
              "      <td>2020-05-31</td>\n",
              "      <td>3560</td>\n",
              "      <td>3560.성동구 견인차량 보관소 앞</td>\n",
              "      <td>정기</td>\n",
              "      <td>M</td>\n",
              "      <td>AGE_002</td>\n",
              "      <td>1</td>\n",
              "      <td>0.00</td>\n",
              "      <td>0.00</td>\n",
              "      <td>0.0</td>\n",
              "      <td>34</td>\n",
              "    </tr>\n",
              "    <tr>\n",
              "      <th>3052550</th>\n",
              "      <td>2020-05-31</td>\n",
              "      <td>3560</td>\n",
              "      <td>3560.성동구 견인차량 보관소 앞</td>\n",
              "      <td>정기</td>\n",
              "      <td>M</td>\n",
              "      <td>AGE_003</td>\n",
              "      <td>1</td>\n",
              "      <td>0.00</td>\n",
              "      <td>0.00</td>\n",
              "      <td>0.0</td>\n",
              "      <td>13</td>\n",
              "    </tr>\n",
              "    <tr>\n",
              "      <th>3052551</th>\n",
              "      <td>2020-05-31</td>\n",
              "      <td>3560</td>\n",
              "      <td>3560.성동구 견인차량 보관소 앞</td>\n",
              "      <td>정기</td>\n",
              "      <td>M</td>\n",
              "      <td>AGE_004</td>\n",
              "      <td>2</td>\n",
              "      <td>0.00</td>\n",
              "      <td>0.00</td>\n",
              "      <td>0.0</td>\n",
              "      <td>20</td>\n",
              "    </tr>\n",
              "    <tr>\n",
              "      <th>3052552</th>\n",
              "      <td>2020-05-31</td>\n",
              "      <td>3560</td>\n",
              "      <td>3560.성동구 견인차량 보관소 앞</td>\n",
              "      <td>정기</td>\n",
              "      <td>M</td>\n",
              "      <td>AGE_005</td>\n",
              "      <td>1</td>\n",
              "      <td>0.00</td>\n",
              "      <td>0.00</td>\n",
              "      <td>0.0</td>\n",
              "      <td>14</td>\n",
              "    </tr>\n",
              "  </tbody>\n",
              "</table>\n",
              "<p>1455636 rows × 11 columns</p>\n",
              "</div>"
            ],
            "text/plain": [
              "               대여일자  대여소번호                  대여소  ...   탄소량 이동거리(M) 이용시간(분)\n",
              "2        2020-01-01    101     101. (구)합정동 주민센터  ...  0.75  3250.0      21\n",
              "3        2020-01-01    101     101. (구)합정동 주민센터  ...  1.59  6860.0      46\n",
              "4        2020-01-01    101     101. (구)합정동 주민센터  ...  0.23   990.0       5\n",
              "5        2020-01-01    101     101. (구)합정동 주민센터  ...  0.23   990.0       5\n",
              "6        2020-01-01    101     101. (구)합정동 주민센터  ...  0.14   610.0       2\n",
              "...             ...    ...                  ...  ...   ...     ...     ...\n",
              "3052543  2020-05-31   3560  3560.성동구 견인차량 보관소 앞  ...  0.00     0.0     113\n",
              "3052549  2020-05-31   3560  3560.성동구 견인차량 보관소 앞  ...  0.00     0.0      34\n",
              "3052550  2020-05-31   3560  3560.성동구 견인차량 보관소 앞  ...  0.00     0.0      13\n",
              "3052551  2020-05-31   3560  3560.성동구 견인차량 보관소 앞  ...  0.00     0.0      20\n",
              "3052552  2020-05-31   3560  3560.성동구 견인차량 보관소 앞  ...  0.00     0.0      14\n",
              "\n",
              "[1455636 rows x 11 columns]"
            ]
          },
          "metadata": {},
          "execution_count": 21
        }
      ]
    },
    {
      "cell_type": "code",
      "metadata": {
        "id": "rgntdpftjYTA",
        "scrolled": true
      },
      "source": [
        "df2 = pd.get_dummies(df2, columns= ['연령대코드', '성별'])"
      ],
      "execution_count": null,
      "outputs": []
    },
    {
      "cell_type": "code",
      "metadata": {
        "colab": {
          "base_uri": "https://localhost:8080/",
          "height": 887
        },
        "id": "VOwXToRhjYTA",
        "outputId": "f466196e-1569-4cd2-c897-18a4131e360e"
      },
      "source": [
        "df2"
      ],
      "execution_count": null,
      "outputs": [
        {
          "output_type": "execute_result",
          "data": {
            "text/html": [
              "<div>\n",
              "<style scoped>\n",
              "    .dataframe tbody tr th:only-of-type {\n",
              "        vertical-align: middle;\n",
              "    }\n",
              "\n",
              "    .dataframe tbody tr th {\n",
              "        vertical-align: top;\n",
              "    }\n",
              "\n",
              "    .dataframe thead th {\n",
              "        text-align: right;\n",
              "    }\n",
              "</style>\n",
              "<table border=\"1\" class=\"dataframe\">\n",
              "  <thead>\n",
              "    <tr style=\"text-align: right;\">\n",
              "      <th></th>\n",
              "      <th>대여일자</th>\n",
              "      <th>대여소번호</th>\n",
              "      <th>대여소</th>\n",
              "      <th>대여구분코드</th>\n",
              "      <th>이용건수</th>\n",
              "      <th>운동량</th>\n",
              "      <th>탄소량</th>\n",
              "      <th>이동거리(M)</th>\n",
              "      <th>이용시간(분)</th>\n",
              "      <th>연령대코드_AGE_001</th>\n",
              "      <th>연령대코드_AGE_002</th>\n",
              "      <th>연령대코드_AGE_003</th>\n",
              "      <th>연령대코드_AGE_004</th>\n",
              "      <th>연령대코드_AGE_005</th>\n",
              "      <th>연령대코드_AGE_006</th>\n",
              "      <th>연령대코드_AGE_007</th>\n",
              "      <th>연령대코드_AGE_008</th>\n",
              "      <th>성별_F</th>\n",
              "      <th>성별_M</th>\n",
              "    </tr>\n",
              "  </thead>\n",
              "  <tbody>\n",
              "    <tr>\n",
              "      <th>2</th>\n",
              "      <td>2020-01-01</td>\n",
              "      <td>101</td>\n",
              "      <td>101. (구)합정동 주민센터</td>\n",
              "      <td>정기</td>\n",
              "      <td>1</td>\n",
              "      <td>72.07</td>\n",
              "      <td>0.75</td>\n",
              "      <td>3250.0</td>\n",
              "      <td>21</td>\n",
              "      <td>0</td>\n",
              "      <td>1</td>\n",
              "      <td>0</td>\n",
              "      <td>0</td>\n",
              "      <td>0</td>\n",
              "      <td>0</td>\n",
              "      <td>0</td>\n",
              "      <td>0</td>\n",
              "      <td>1</td>\n",
              "      <td>0</td>\n",
              "    </tr>\n",
              "    <tr>\n",
              "      <th>3</th>\n",
              "      <td>2020-01-01</td>\n",
              "      <td>101</td>\n",
              "      <td>101. (구)합정동 주민센터</td>\n",
              "      <td>정기</td>\n",
              "      <td>1</td>\n",
              "      <td>157.56</td>\n",
              "      <td>1.59</td>\n",
              "      <td>6860.0</td>\n",
              "      <td>46</td>\n",
              "      <td>0</td>\n",
              "      <td>0</td>\n",
              "      <td>0</td>\n",
              "      <td>1</td>\n",
              "      <td>0</td>\n",
              "      <td>0</td>\n",
              "      <td>0</td>\n",
              "      <td>0</td>\n",
              "      <td>1</td>\n",
              "      <td>0</td>\n",
              "    </tr>\n",
              "    <tr>\n",
              "      <th>4</th>\n",
              "      <td>2020-01-01</td>\n",
              "      <td>101</td>\n",
              "      <td>101. (구)합정동 주민센터</td>\n",
              "      <td>정기</td>\n",
              "      <td>1</td>\n",
              "      <td>39.99</td>\n",
              "      <td>0.23</td>\n",
              "      <td>990.0</td>\n",
              "      <td>5</td>\n",
              "      <td>0</td>\n",
              "      <td>1</td>\n",
              "      <td>0</td>\n",
              "      <td>0</td>\n",
              "      <td>0</td>\n",
              "      <td>0</td>\n",
              "      <td>0</td>\n",
              "      <td>0</td>\n",
              "      <td>0</td>\n",
              "      <td>1</td>\n",
              "    </tr>\n",
              "    <tr>\n",
              "      <th>5</th>\n",
              "      <td>2020-01-01</td>\n",
              "      <td>101</td>\n",
              "      <td>101. (구)합정동 주민센터</td>\n",
              "      <td>정기</td>\n",
              "      <td>1</td>\n",
              "      <td>25.48</td>\n",
              "      <td>0.23</td>\n",
              "      <td>990.0</td>\n",
              "      <td>5</td>\n",
              "      <td>0</td>\n",
              "      <td>0</td>\n",
              "      <td>0</td>\n",
              "      <td>0</td>\n",
              "      <td>1</td>\n",
              "      <td>0</td>\n",
              "      <td>0</td>\n",
              "      <td>0</td>\n",
              "      <td>0</td>\n",
              "      <td>1</td>\n",
              "    </tr>\n",
              "    <tr>\n",
              "      <th>6</th>\n",
              "      <td>2020-01-01</td>\n",
              "      <td>101</td>\n",
              "      <td>101. (구)합정동 주민센터</td>\n",
              "      <td>정기</td>\n",
              "      <td>1</td>\n",
              "      <td>17.63</td>\n",
              "      <td>0.14</td>\n",
              "      <td>610.0</td>\n",
              "      <td>2</td>\n",
              "      <td>0</td>\n",
              "      <td>0</td>\n",
              "      <td>0</td>\n",
              "      <td>0</td>\n",
              "      <td>0</td>\n",
              "      <td>0</td>\n",
              "      <td>0</td>\n",
              "      <td>1</td>\n",
              "      <td>0</td>\n",
              "      <td>1</td>\n",
              "    </tr>\n",
              "    <tr>\n",
              "      <th>...</th>\n",
              "      <td>...</td>\n",
              "      <td>...</td>\n",
              "      <td>...</td>\n",
              "      <td>...</td>\n",
              "      <td>...</td>\n",
              "      <td>...</td>\n",
              "      <td>...</td>\n",
              "      <td>...</td>\n",
              "      <td>...</td>\n",
              "      <td>...</td>\n",
              "      <td>...</td>\n",
              "      <td>...</td>\n",
              "      <td>...</td>\n",
              "      <td>...</td>\n",
              "      <td>...</td>\n",
              "      <td>...</td>\n",
              "      <td>...</td>\n",
              "      <td>...</td>\n",
              "      <td>...</td>\n",
              "    </tr>\n",
              "    <tr>\n",
              "      <th>3052543</th>\n",
              "      <td>2020-05-31</td>\n",
              "      <td>3560</td>\n",
              "      <td>3560.성동구 견인차량 보관소 앞</td>\n",
              "      <td>일일(회원)</td>\n",
              "      <td>1</td>\n",
              "      <td>0.00</td>\n",
              "      <td>0.00</td>\n",
              "      <td>0.0</td>\n",
              "      <td>113</td>\n",
              "      <td>0</td>\n",
              "      <td>0</td>\n",
              "      <td>1</td>\n",
              "      <td>0</td>\n",
              "      <td>0</td>\n",
              "      <td>0</td>\n",
              "      <td>0</td>\n",
              "      <td>0</td>\n",
              "      <td>0</td>\n",
              "      <td>1</td>\n",
              "    </tr>\n",
              "    <tr>\n",
              "      <th>3052549</th>\n",
              "      <td>2020-05-31</td>\n",
              "      <td>3560</td>\n",
              "      <td>3560.성동구 견인차량 보관소 앞</td>\n",
              "      <td>정기</td>\n",
              "      <td>1</td>\n",
              "      <td>0.00</td>\n",
              "      <td>0.00</td>\n",
              "      <td>0.0</td>\n",
              "      <td>34</td>\n",
              "      <td>0</td>\n",
              "      <td>1</td>\n",
              "      <td>0</td>\n",
              "      <td>0</td>\n",
              "      <td>0</td>\n",
              "      <td>0</td>\n",
              "      <td>0</td>\n",
              "      <td>0</td>\n",
              "      <td>0</td>\n",
              "      <td>1</td>\n",
              "    </tr>\n",
              "    <tr>\n",
              "      <th>3052550</th>\n",
              "      <td>2020-05-31</td>\n",
              "      <td>3560</td>\n",
              "      <td>3560.성동구 견인차량 보관소 앞</td>\n",
              "      <td>정기</td>\n",
              "      <td>1</td>\n",
              "      <td>0.00</td>\n",
              "      <td>0.00</td>\n",
              "      <td>0.0</td>\n",
              "      <td>13</td>\n",
              "      <td>0</td>\n",
              "      <td>0</td>\n",
              "      <td>1</td>\n",
              "      <td>0</td>\n",
              "      <td>0</td>\n",
              "      <td>0</td>\n",
              "      <td>0</td>\n",
              "      <td>0</td>\n",
              "      <td>0</td>\n",
              "      <td>1</td>\n",
              "    </tr>\n",
              "    <tr>\n",
              "      <th>3052551</th>\n",
              "      <td>2020-05-31</td>\n",
              "      <td>3560</td>\n",
              "      <td>3560.성동구 견인차량 보관소 앞</td>\n",
              "      <td>정기</td>\n",
              "      <td>2</td>\n",
              "      <td>0.00</td>\n",
              "      <td>0.00</td>\n",
              "      <td>0.0</td>\n",
              "      <td>20</td>\n",
              "      <td>0</td>\n",
              "      <td>0</td>\n",
              "      <td>0</td>\n",
              "      <td>1</td>\n",
              "      <td>0</td>\n",
              "      <td>0</td>\n",
              "      <td>0</td>\n",
              "      <td>0</td>\n",
              "      <td>0</td>\n",
              "      <td>1</td>\n",
              "    </tr>\n",
              "    <tr>\n",
              "      <th>3052552</th>\n",
              "      <td>2020-05-31</td>\n",
              "      <td>3560</td>\n",
              "      <td>3560.성동구 견인차량 보관소 앞</td>\n",
              "      <td>정기</td>\n",
              "      <td>1</td>\n",
              "      <td>0.00</td>\n",
              "      <td>0.00</td>\n",
              "      <td>0.0</td>\n",
              "      <td>14</td>\n",
              "      <td>0</td>\n",
              "      <td>0</td>\n",
              "      <td>0</td>\n",
              "      <td>0</td>\n",
              "      <td>1</td>\n",
              "      <td>0</td>\n",
              "      <td>0</td>\n",
              "      <td>0</td>\n",
              "      <td>0</td>\n",
              "      <td>1</td>\n",
              "    </tr>\n",
              "  </tbody>\n",
              "</table>\n",
              "<p>1455636 rows × 19 columns</p>\n",
              "</div>"
            ],
            "text/plain": [
              "               대여일자  대여소번호                  대여소  ... 연령대코드_AGE_008  성별_F  성별_M\n",
              "2        2020-01-01    101     101. (구)합정동 주민센터  ...             0     1     0\n",
              "3        2020-01-01    101     101. (구)합정동 주민센터  ...             0     1     0\n",
              "4        2020-01-01    101     101. (구)합정동 주민센터  ...             0     0     1\n",
              "5        2020-01-01    101     101. (구)합정동 주민센터  ...             0     0     1\n",
              "6        2020-01-01    101     101. (구)합정동 주민센터  ...             1     0     1\n",
              "...             ...    ...                  ...  ...           ...   ...   ...\n",
              "3052543  2020-05-31   3560  3560.성동구 견인차량 보관소 앞  ...             0     0     1\n",
              "3052549  2020-05-31   3560  3560.성동구 견인차량 보관소 앞  ...             0     0     1\n",
              "3052550  2020-05-31   3560  3560.성동구 견인차량 보관소 앞  ...             0     0     1\n",
              "3052551  2020-05-31   3560  3560.성동구 견인차량 보관소 앞  ...             0     0     1\n",
              "3052552  2020-05-31   3560  3560.성동구 견인차량 보관소 앞  ...             0     0     1\n",
              "\n",
              "[1455636 rows x 19 columns]"
            ]
          },
          "metadata": {},
          "execution_count": 23
        }
      ]
    },
    {
      "cell_type": "code",
      "metadata": {
        "colab": {
          "base_uri": "https://localhost:8080/"
        },
        "id": "Ro0VDEqrjYTB",
        "scrolled": true,
        "outputId": "0e9f7794-df12-4501-e49d-e2db282af1fd"
      },
      "source": [
        "val_name = list(df2['대여구분코드'].unique())\n",
        "val_name"
      ],
      "execution_count": null,
      "outputs": [
        {
          "output_type": "execute_result",
          "data": {
            "text/plain": [
              "['정기', '일일(회원)', '단체', '일일(비회원)', 'BIL_021']"
            ]
          },
          "metadata": {},
          "execution_count": 24
        }
      ]
    },
    {
      "cell_type": "code",
      "metadata": {
        "id": "JWMXpofcjYTB",
        "scrolled": true
      },
      "source": [
        "df2 = df2.replace(val_name, ['memday','seasonal','cash','group','day'])"
      ],
      "execution_count": null,
      "outputs": []
    },
    {
      "cell_type": "code",
      "metadata": {
        "colab": {
          "base_uri": "https://localhost:8080/"
        },
        "id": "pKtRL_uXjYTB",
        "scrolled": true,
        "outputId": "e9aac59e-2a1a-4ba0-ca44-b361e3371cdd"
      },
      "source": [
        "colname = list(df2.columns)\n",
        "colname"
      ],
      "execution_count": null,
      "outputs": [
        {
          "output_type": "execute_result",
          "data": {
            "text/plain": [
              "['대여일자',\n",
              " '대여소번호',\n",
              " '대여소',\n",
              " '대여구분코드',\n",
              " '이용건수',\n",
              " '운동량',\n",
              " '탄소량',\n",
              " '이동거리(M)',\n",
              " '이용시간(분)',\n",
              " '연령대코드_AGE_001',\n",
              " '연령대코드_AGE_002',\n",
              " '연령대코드_AGE_003',\n",
              " '연령대코드_AGE_004',\n",
              " '연령대코드_AGE_005',\n",
              " '연령대코드_AGE_006',\n",
              " '연령대코드_AGE_007',\n",
              " '연령대코드_AGE_008',\n",
              " '성별_F',\n",
              " '성별_M']"
            ]
          },
          "metadata": {},
          "execution_count": 26
        }
      ]
    },
    {
      "cell_type": "code",
      "metadata": {
        "id": "sDWh8PemjYTB",
        "scrolled": true
      },
      "source": [
        "df3 = df2[['대여구분코드',\n",
        " '이용건수',\n",
        " '운동량',\n",
        " '탄소량',\n",
        " '이동거리(M)',\n",
        " '이용시간(분)',\n",
        " '연령대코드_AGE_001',\n",
        " '연령대코드_AGE_002',\n",
        " '연령대코드_AGE_003',\n",
        " '연령대코드_AGE_004',\n",
        " '연령대코드_AGE_005',\n",
        " '연령대코드_AGE_006',\n",
        " '연령대코드_AGE_007',\n",
        " '연령대코드_AGE_008',\n",
        " '성별_F',\n",
        " '성별_M']]"
      ],
      "execution_count": null,
      "outputs": []
    },
    {
      "cell_type": "code",
      "metadata": {
        "colab": {
          "base_uri": "https://localhost:8080/",
          "height": 220
        },
        "id": "3tFqS4_RjYTC",
        "scrolled": true,
        "outputId": "80dbdcf1-988d-4da7-e7b9-99754808bf2a"
      },
      "source": [
        "df3.head()"
      ],
      "execution_count": null,
      "outputs": [
        {
          "output_type": "execute_result",
          "data": {
            "text/html": [
              "<div>\n",
              "<style scoped>\n",
              "    .dataframe tbody tr th:only-of-type {\n",
              "        vertical-align: middle;\n",
              "    }\n",
              "\n",
              "    .dataframe tbody tr th {\n",
              "        vertical-align: top;\n",
              "    }\n",
              "\n",
              "    .dataframe thead th {\n",
              "        text-align: right;\n",
              "    }\n",
              "</style>\n",
              "<table border=\"1\" class=\"dataframe\">\n",
              "  <thead>\n",
              "    <tr style=\"text-align: right;\">\n",
              "      <th></th>\n",
              "      <th>대여구분코드</th>\n",
              "      <th>이용건수</th>\n",
              "      <th>운동량</th>\n",
              "      <th>탄소량</th>\n",
              "      <th>이동거리(M)</th>\n",
              "      <th>이용시간(분)</th>\n",
              "      <th>연령대코드_AGE_001</th>\n",
              "      <th>연령대코드_AGE_002</th>\n",
              "      <th>연령대코드_AGE_003</th>\n",
              "      <th>연령대코드_AGE_004</th>\n",
              "      <th>연령대코드_AGE_005</th>\n",
              "      <th>연령대코드_AGE_006</th>\n",
              "      <th>연령대코드_AGE_007</th>\n",
              "      <th>연령대코드_AGE_008</th>\n",
              "      <th>성별_F</th>\n",
              "      <th>성별_M</th>\n",
              "    </tr>\n",
              "  </thead>\n",
              "  <tbody>\n",
              "    <tr>\n",
              "      <th>2</th>\n",
              "      <td>memday</td>\n",
              "      <td>1</td>\n",
              "      <td>72.07</td>\n",
              "      <td>0.75</td>\n",
              "      <td>3250.0</td>\n",
              "      <td>21</td>\n",
              "      <td>0</td>\n",
              "      <td>1</td>\n",
              "      <td>0</td>\n",
              "      <td>0</td>\n",
              "      <td>0</td>\n",
              "      <td>0</td>\n",
              "      <td>0</td>\n",
              "      <td>0</td>\n",
              "      <td>1</td>\n",
              "      <td>0</td>\n",
              "    </tr>\n",
              "    <tr>\n",
              "      <th>3</th>\n",
              "      <td>memday</td>\n",
              "      <td>1</td>\n",
              "      <td>157.56</td>\n",
              "      <td>1.59</td>\n",
              "      <td>6860.0</td>\n",
              "      <td>46</td>\n",
              "      <td>0</td>\n",
              "      <td>0</td>\n",
              "      <td>0</td>\n",
              "      <td>1</td>\n",
              "      <td>0</td>\n",
              "      <td>0</td>\n",
              "      <td>0</td>\n",
              "      <td>0</td>\n",
              "      <td>1</td>\n",
              "      <td>0</td>\n",
              "    </tr>\n",
              "    <tr>\n",
              "      <th>4</th>\n",
              "      <td>memday</td>\n",
              "      <td>1</td>\n",
              "      <td>39.99</td>\n",
              "      <td>0.23</td>\n",
              "      <td>990.0</td>\n",
              "      <td>5</td>\n",
              "      <td>0</td>\n",
              "      <td>1</td>\n",
              "      <td>0</td>\n",
              "      <td>0</td>\n",
              "      <td>0</td>\n",
              "      <td>0</td>\n",
              "      <td>0</td>\n",
              "      <td>0</td>\n",
              "      <td>0</td>\n",
              "      <td>1</td>\n",
              "    </tr>\n",
              "    <tr>\n",
              "      <th>5</th>\n",
              "      <td>memday</td>\n",
              "      <td>1</td>\n",
              "      <td>25.48</td>\n",
              "      <td>0.23</td>\n",
              "      <td>990.0</td>\n",
              "      <td>5</td>\n",
              "      <td>0</td>\n",
              "      <td>0</td>\n",
              "      <td>0</td>\n",
              "      <td>0</td>\n",
              "      <td>1</td>\n",
              "      <td>0</td>\n",
              "      <td>0</td>\n",
              "      <td>0</td>\n",
              "      <td>0</td>\n",
              "      <td>1</td>\n",
              "    </tr>\n",
              "    <tr>\n",
              "      <th>6</th>\n",
              "      <td>memday</td>\n",
              "      <td>1</td>\n",
              "      <td>17.63</td>\n",
              "      <td>0.14</td>\n",
              "      <td>610.0</td>\n",
              "      <td>2</td>\n",
              "      <td>0</td>\n",
              "      <td>0</td>\n",
              "      <td>0</td>\n",
              "      <td>0</td>\n",
              "      <td>0</td>\n",
              "      <td>0</td>\n",
              "      <td>0</td>\n",
              "      <td>1</td>\n",
              "      <td>0</td>\n",
              "      <td>1</td>\n",
              "    </tr>\n",
              "  </tbody>\n",
              "</table>\n",
              "</div>"
            ],
            "text/plain": [
              "   대여구분코드  이용건수     운동량   탄소량  ...  연령대코드_AGE_007  연령대코드_AGE_008  성별_F  성별_M\n",
              "2  memday     1   72.07  0.75  ...              0              0     1     0\n",
              "3  memday     1  157.56  1.59  ...              0              0     1     0\n",
              "4  memday     1   39.99  0.23  ...              0              0     0     1\n",
              "5  memday     1   25.48  0.23  ...              0              0     0     1\n",
              "6  memday     1   17.63  0.14  ...              0              1     0     1\n",
              "\n",
              "[5 rows x 16 columns]"
            ]
          },
          "metadata": {},
          "execution_count": 28
        }
      ]
    },
    {
      "cell_type": "code",
      "metadata": {
        "id": "uMGhSxW6jYTC"
      },
      "source": [
        "df3.to_csv(\"bycycle_daily.csv\", encoding=\"utf-8\")"
      ],
      "execution_count": null,
      "outputs": []
    },
    {
      "cell_type": "code",
      "metadata": {
        "id": "89jvtZUEjYTC"
      },
      "source": [
        "from sklearn.model_selection import train_test_split"
      ],
      "execution_count": null,
      "outputs": []
    },
    {
      "cell_type": "code",
      "metadata": {
        "id": "MqUtQbzbjYTC"
      },
      "source": [
        "X = df3.drop('대여구분코드', axis=1)\n",
        "y = df3['대여구분코드']\n",
        "X_train, X_test, y_train, y_test = train_test_split(X, y, test_size=0.2, random_state=100)"
      ],
      "execution_count": null,
      "outputs": []
    },
    {
      "cell_type": "markdown",
      "metadata": {
        "id": "dlgdQdRmjYTD"
      },
      "source": [
        "# 로지스틱 회귀분석을 통한 정기권 구매 예측"
      ]
    },
    {
      "cell_type": "code",
      "metadata": {
        "id": "SPlW88iOjYTE"
      },
      "source": [
        "from sklearn.linear_model import LogisticRegression\n",
        "from sklearn.metrics import accuracy_score, confusion_matrix"
      ],
      "execution_count": null,
      "outputs": []
    },
    {
      "cell_type": "code",
      "metadata": {
        "id": "THmSgFwdjYTE"
      },
      "source": [
        "model = LogisticRegression()"
      ],
      "execution_count": null,
      "outputs": []
    },
    {
      "cell_type": "code",
      "metadata": {
        "colab": {
          "base_uri": "https://localhost:8080/"
        },
        "id": "jNx3DUMmVj3R",
        "outputId": "312f5dcf-1a3d-446d-da50-e9541ded96b6"
      },
      "source": [
        "pip install h5py==2.10.0 "
      ],
      "execution_count": null,
      "outputs": [
        {
          "output_type": "stream",
          "name": "stdout",
          "text": [
            "Requirement already satisfied: h5py==2.10.0 in /usr/local/lib/python3.7/dist-packages (2.10.0)\n",
            "Requirement already satisfied: six in /usr/local/lib/python3.7/dist-packages (from h5py==2.10.0) (1.15.0)\n",
            "Requirement already satisfied: numpy>=1.7 in /usr/local/lib/python3.7/dist-packages (from h5py==2.10.0) (1.19.5)\n"
          ]
        }
      ]
    },
    {
      "cell_type": "markdown",
      "metadata": {
        "id": "l1dfBkEUWC82"
      },
      "source": [
        "**에러 메세지**    \n",
        "오류: pip의 종속성 해석기는 현재 설치된 모든 패키지를 고려하지 않습니다. 이 동작은 다음 종속성 충돌의 원인입니다.\n",
        "tensorflow 2.6.0에는 h5py~=3.1.0이 필요하지만 호환되지 않는 h5py 2.10.0이 있습니다."
      ]
    },
    {
      "cell_type": "code",
      "metadata": {
        "colab": {
          "base_uri": "https://localhost:8080/"
        },
        "id": "dNVA_SM2jYTE",
        "outputId": "90f7cc59-986f-4578-be32-a378a1aa98bd"
      },
      "source": [
        "model.fit(X_train, y_train)"
      ],
      "execution_count": null,
      "outputs": [
        {
          "output_type": "stream",
          "name": "stderr",
          "text": [
            "/usr/local/lib/python3.7/dist-packages/sklearn/linear_model/_logistic.py:940: ConvergenceWarning: lbfgs failed to converge (status=1):\n",
            "STOP: TOTAL NO. of ITERATIONS REACHED LIMIT.\n",
            "\n",
            "Increase the number of iterations (max_iter) or scale the data as shown in:\n",
            "    https://scikit-learn.org/stable/modules/preprocessing.html\n",
            "Please also refer to the documentation for alternative solver options:\n",
            "    https://scikit-learn.org/stable/modules/linear_model.html#logistic-regression\n",
            "  extra_warning_msg=_LOGISTIC_SOLVER_CONVERGENCE_MSG)\n"
          ]
        },
        {
          "output_type": "execute_result",
          "data": {
            "text/plain": [
              "LogisticRegression(C=1.0, class_weight=None, dual=False, fit_intercept=True,\n",
              "                   intercept_scaling=1, l1_ratio=None, max_iter=100,\n",
              "                   multi_class='auto', n_jobs=None, penalty='l2',\n",
              "                   random_state=None, solver='lbfgs', tol=0.0001, verbose=0,\n",
              "                   warm_start=False)"
            ]
          },
          "metadata": {},
          "execution_count": 35
        }
      ]
    },
    {
      "cell_type": "markdown",
      "metadata": {
        "id": "6dPoGy-nVL_W"
      },
      "source": [
        "AttributeError: 'str' object has no attribute 'decode 의 경우   \n",
        "h5py가 3 버전일 때 발생하는 에러이므로   \n",
        "바로 위에 model = LogisticRegression() 을 누르고 +코드를 눌러 코드 칸을 추가한다.   \n",
        "pip install h5py==2.10.0 입력하여 다운그레이드 해준다."
      ]
    },
    {
      "cell_type": "code",
      "metadata": {
        "id": "IPI0ZwJcjYTE"
      },
      "source": [
        "pred = model.predict(X_test)"
      ],
      "execution_count": null,
      "outputs": []
    },
    {
      "cell_type": "code",
      "metadata": {
        "colab": {
          "base_uri": "https://localhost:8080/"
        },
        "id": "DZ-eakvHjYTF",
        "outputId": "39b34716-1674-417f-8b04-c46556c8f7b6"
      },
      "source": [
        "accuracy_score(y_test, pred)"
      ],
      "execution_count": null,
      "outputs": [
        {
          "output_type": "execute_result",
          "data": {
            "text/plain": [
              "0.7447995383473935"
            ]
          },
          "metadata": {},
          "execution_count": 37
        }
      ]
    },
    {
      "cell_type": "code",
      "metadata": {
        "colab": {
          "base_uri": "https://localhost:8080/"
        },
        "id": "DpW1OudOjYTF",
        "scrolled": true,
        "outputId": "2b5004a9-5870-458a-b68c-e1d305a0b133"
      },
      "source": [
        "confusion_matrix(y_test, pred)"
      ],
      "execution_count": null,
      "outputs": [
        {
          "output_type": "execute_result",
          "data": {
            "text/plain": [
              "array([[     0,      0,      0,   3339,      0],\n",
              "       [     0,      0,      0,     18,      0],\n",
              "       [     0,      0,      0,    572,      0],\n",
              "       [     0,      0,      0, 216832,      0],\n",
              "       [     0,      0,      0,  70367,      0]])"
            ]
          },
          "metadata": {},
          "execution_count": 38
        }
      ]
    },
    {
      "cell_type": "markdown",
      "metadata": {
        "id": "NP8k_HNgjYTF"
      },
      "source": [
        "# 디시즌 트리를 통한 이용권 구매 예측"
      ]
    },
    {
      "cell_type": "code",
      "metadata": {
        "id": "N73OYbpmjYTF"
      },
      "source": [
        "from sklearn.tree import DecisionTreeClassifier"
      ],
      "execution_count": null,
      "outputs": []
    },
    {
      "cell_type": "code",
      "metadata": {
        "id": "rZlXHxvDjYTG"
      },
      "source": [
        "model =  DecisionTreeClassifier(max_depth =10)"
      ],
      "execution_count": null,
      "outputs": []
    },
    {
      "cell_type": "code",
      "metadata": {
        "colab": {
          "base_uri": "https://localhost:8080/"
        },
        "id": "L7GaSH3vjYTG",
        "outputId": "a40e1381-c8e7-4037-c217-f3504b04fd96"
      },
      "source": [
        "model.fit(X_train, y_train)"
      ],
      "execution_count": null,
      "outputs": [
        {
          "output_type": "execute_result",
          "data": {
            "text/plain": [
              "DecisionTreeClassifier(ccp_alpha=0.0, class_weight=None, criterion='gini',\n",
              "                       max_depth=10, max_features=None, max_leaf_nodes=None,\n",
              "                       min_impurity_decrease=0.0, min_impurity_split=None,\n",
              "                       min_samples_leaf=1, min_samples_split=2,\n",
              "                       min_weight_fraction_leaf=0.0, presort='deprecated',\n",
              "                       random_state=None, splitter='best')"
            ]
          },
          "metadata": {},
          "execution_count": 41
        }
      ]
    },
    {
      "cell_type": "code",
      "metadata": {
        "id": "GNuXMNpgjYTG"
      },
      "source": [
        "pred = model.predict(X_test)"
      ],
      "execution_count": null,
      "outputs": []
    },
    {
      "cell_type": "code",
      "metadata": {
        "colab": {
          "base_uri": "https://localhost:8080/"
        },
        "id": "ZqSRWpA1jYTG",
        "outputId": "a380495e-d2bc-4645-c47b-a567f004fa6a"
      },
      "source": [
        "y_test"
      ],
      "execution_count": null,
      "outputs": [
        {
          "output_type": "execute_result",
          "data": {
            "text/plain": [
              "1018537      memday\n",
              "2473591      memday\n",
              "2187189    seasonal\n",
              "1351449    seasonal\n",
              "1584534      memday\n",
              "             ...   \n",
              "2084582    seasonal\n",
              "2460769    seasonal\n",
              "520236       memday\n",
              "349052       memday\n",
              "2613147      memday\n",
              "Name: 대여구분코드, Length: 291128, dtype: object"
            ]
          },
          "metadata": {},
          "execution_count": 43
        }
      ]
    },
    {
      "cell_type": "code",
      "metadata": {
        "colab": {
          "base_uri": "https://localhost:8080/"
        },
        "id": "WDRCIN11jYTG",
        "outputId": "161b5404-88db-409e-ffb6-ffa9619d545d"
      },
      "source": [
        "print(y_test, pred)"
      ],
      "execution_count": null,
      "outputs": [
        {
          "output_type": "stream",
          "name": "stdout",
          "text": [
            "1018537      memday\n",
            "2473591      memday\n",
            "2187189    seasonal\n",
            "1351449    seasonal\n",
            "1584534      memday\n",
            "             ...   \n",
            "2084582    seasonal\n",
            "2460769    seasonal\n",
            "520236       memday\n",
            "349052       memday\n",
            "2613147      memday\n",
            "Name: 대여구분코드, Length: 291128, dtype: object ['memday' 'memday' 'seasonal' ... 'memday' 'memday' 'memday']\n"
          ]
        }
      ]
    },
    {
      "cell_type": "code",
      "metadata": {
        "colab": {
          "base_uri": "https://localhost:8080/"
        },
        "id": "0xfeIxDpjYTG",
        "outputId": "618536e1-0595-4f87-a34d-a27a01fae741"
      },
      "source": [
        "accuracy_score(y_test, pred)"
      ],
      "execution_count": null,
      "outputs": [
        {
          "output_type": "execute_result",
          "data": {
            "text/plain": [
              "0.7842632793822648"
            ]
          },
          "metadata": {},
          "execution_count": 45
        }
      ]
    },
    {
      "cell_type": "markdown",
      "metadata": {
        "id": "jyLgPYxjjYTH"
      },
      "source": [
        "# 트리의 깊이를 조절하며 최적값 탐색 depth = 12일 때 값이 가장 높음"
      ]
    },
    {
      "cell_type": "code",
      "metadata": {
        "colab": {
          "base_uri": "https://localhost:8080/"
        },
        "id": "3SNZgygUjYTH",
        "scrolled": true,
        "outputId": "d5859c3b-72d9-4b11-d6d7-a3583bed564e"
      },
      "source": [
        "for i in range(2, 20):\n",
        "    model = DecisionTreeClassifier(max_depth = i)\n",
        "    model.fit(X_train, y_train)\n",
        "    pred = model.predict(X_test)\n",
        "    print(i, round(accuracy_score(y_test, pred), 4))"
      ],
      "execution_count": null,
      "outputs": [
        {
          "output_type": "stream",
          "name": "stdout",
          "text": [
            "2 0.7448\n",
            "3 0.7575\n",
            "4 0.763\n",
            "5 0.7716\n",
            "6 0.7783\n",
            "7 0.7788\n",
            "8 0.7819\n",
            "9 0.7836\n",
            "10 0.7842\n",
            "11 0.7846\n",
            "12 0.7848\n",
            "13 0.7838\n",
            "14 0.7821\n",
            "15 0.7803\n",
            "16 0.7772\n",
            "17 0.7746\n",
            "18 0.7707\n",
            "19 0.7672\n"
          ]
        }
      ]
    },
    {
      "cell_type": "code",
      "metadata": {
        "id": "65nWSJ7bjYTH"
      },
      "source": [
        "model =  DecisionTreeClassifier(max_depth =12)  # depth= 12로 다시 분석"
      ],
      "execution_count": null,
      "outputs": []
    },
    {
      "cell_type": "code",
      "metadata": {
        "colab": {
          "base_uri": "https://localhost:8080/"
        },
        "id": "ZvJKRBccjYTH",
        "outputId": "f505d51d-585e-480a-95b4-efbebf0bc29d"
      },
      "source": [
        "model.fit(X_train, y_train)"
      ],
      "execution_count": null,
      "outputs": [
        {
          "output_type": "execute_result",
          "data": {
            "text/plain": [
              "DecisionTreeClassifier(ccp_alpha=0.0, class_weight=None, criterion='gini',\n",
              "                       max_depth=12, max_features=None, max_leaf_nodes=None,\n",
              "                       min_impurity_decrease=0.0, min_impurity_split=None,\n",
              "                       min_samples_leaf=1, min_samples_split=2,\n",
              "                       min_weight_fraction_leaf=0.0, presort='deprecated',\n",
              "                       random_state=None, splitter='best')"
            ]
          },
          "metadata": {},
          "execution_count": 48
        }
      ]
    },
    {
      "cell_type": "code",
      "metadata": {
        "id": "ZHifKHCjjYTH"
      },
      "source": [
        "pred = model.predict(X_test)"
      ],
      "execution_count": null,
      "outputs": []
    },
    {
      "cell_type": "code",
      "metadata": {
        "colab": {
          "base_uri": "https://localhost:8080/"
        },
        "id": "GWL3fjAFjYTH",
        "outputId": "f80c41ba-eb6c-40d1-ab9c-6a377e8f0694"
      },
      "source": [
        "accuracy_score(y_test, pred)"
      ],
      "execution_count": null,
      "outputs": [
        {
          "output_type": "execute_result",
          "data": {
            "text/plain": [
              "0.7847888214118875"
            ]
          },
          "metadata": {},
          "execution_count": 50
        }
      ]
    },
    {
      "cell_type": "markdown",
      "metadata": {
        "id": "TyOK53iBuSVl"
      },
      "source": [
        "정확도 78.48"
      ]
    },
    {
      "cell_type": "code",
      "metadata": {
        "colab": {
          "base_uri": "https://localhost:8080/"
        },
        "id": "Mes2ZrmvjYTI",
        "scrolled": true,
        "outputId": "5a78624e-c864-4312-fd87-2e23b71031bc"
      },
      "source": [
        "confusion_matrix(y_test, pred)"
      ],
      "execution_count": null,
      "outputs": [
        {
          "output_type": "execute_result",
          "data": {
            "text/plain": [
              "array([[    29,      0,      1,   2237,   1072],\n",
              "       [     0,      0,      0,     17,      1],\n",
              "       [     0,      0,    478,     82,     12],\n",
              "       [    55,      0,     93, 200059,  16625],\n",
              "       [    64,      0,     35,  42360,  27908]])"
            ]
          },
          "metadata": {},
          "execution_count": 51
        }
      ]
    },
    {
      "cell_type": "code",
      "metadata": {
        "id": "ABYEVDxDjYTI"
      },
      "source": [
        "from sklearn.tree import plot_tree"
      ],
      "execution_count": null,
      "outputs": []
    },
    {
      "cell_type": "code",
      "metadata": {
        "colab": {
          "base_uri": "https://localhost:8080/"
        },
        "id": "ycYT-g6F4Ir9",
        "outputId": "897ecbc8-f1fa-454c-ae55-1a9bef4afe01"
      },
      "source": [
        "!sudo apt-get install -y fonts-nanum\n",
        "!sudo fc-cache -fv\n",
        "!rm ~/.cache/matplotlib -rf"
      ],
      "execution_count": null,
      "outputs": [
        {
          "output_type": "stream",
          "name": "stdout",
          "text": [
            "Reading package lists... Done\n",
            "Building dependency tree       \n",
            "Reading state information... Done\n",
            "fonts-nanum is already the newest version (20170925-1).\n",
            "0 upgraded, 0 newly installed, 0 to remove and 37 not upgraded.\n",
            "/usr/share/fonts: caching, new cache contents: 0 fonts, 1 dirs\n",
            "/usr/share/fonts/truetype: caching, new cache contents: 0 fonts, 3 dirs\n",
            "/usr/share/fonts/truetype/humor-sans: caching, new cache contents: 1 fonts, 0 dirs\n",
            "/usr/share/fonts/truetype/liberation: caching, new cache contents: 16 fonts, 0 dirs\n",
            "/usr/share/fonts/truetype/nanum: caching, new cache contents: 10 fonts, 0 dirs\n",
            "/usr/local/share/fonts: caching, new cache contents: 0 fonts, 0 dirs\n",
            "/root/.local/share/fonts: skipping, no such directory\n",
            "/root/.fonts: skipping, no such directory\n",
            "/var/cache/fontconfig: cleaning cache directory\n",
            "/root/.cache/fontconfig: not cleaning non-existent cache directory\n",
            "/root/.fontconfig: not cleaning non-existent cache directory\n",
            "fc-cache: succeeded\n"
          ]
        }
      ]
    },
    {
      "cell_type": "markdown",
      "metadata": {
        "id": "PGp5YIem9XcP"
      },
      "source": [
        "폰트 설치를 위한 코드"
      ]
    },
    {
      "cell_type": "markdown",
      "metadata": {
        "id": "511yVWu6_DJ_"
      },
      "source": [
        "https://teddylee777.github.io/colab/colab-korean"
      ]
    },
    {
      "cell_type": "code",
      "metadata": {
        "id": "safP-4j0jYTI",
        "scrolled": true,
        "colab": {
          "base_uri": "https://localhost:8080/"
        },
        "outputId": "cc866fe3-205a-4dae-f05d-515f96c2f524"
      },
      "source": [
        "#plt.rc('font', family='NanumGothic.ttf') \n",
        "plt.figure(figsize=(20,10))\n",
        "plot_tree(model, feature_names=X_train.columns, fontsize=15, label =\"None\", max_depth = 5)"
      ],
      "execution_count": null,
      "outputs": [
        {
          "output_type": "execute_result",
          "data": {
            "text/plain": [
              "[Text(558.0, 504.7714285714286, '연령대코드_AGE_002 <= 0.5\\n0.386\\n1164508\\n[13168, 76, 2177, 868397, 280690]'),\n",
              " Text(279.0, 427.11428571428576, '이용건수 <= 1.5\\n0.328\\n776059\\n[8841, 43, 2125, 619177, 145873]'),\n",
              " Text(139.5, 349.4571428571429, '이용시간(분) <= 28.5\\n0.388\\n454037\\n[1639, 39, 2007, 336626, 113726]'),\n",
              " Text(69.75, 271.8, '연령대코드_AGE_003 <= 0.5\\n0.291\\n283037\\n[464, 38, 597, 233392, 48546]'),\n",
              " Text(34.875, 194.14285714285717, '연령대코드_AGE_001 <= 0.5\\n0.218\\n192793\\n[344, 19, 591, 168968, 22871]'),\n",
              " Text(17.4375, 116.48571428571432, '연령대코드_AGE_004 <= 0.5\\n0.175\\n166161\\n[224, 14, 591, 150138, 15194]'),\n",
              " Text(8.71875, 38.82857142857142, '\\n  (...)  \\n'),\n",
              " Text(26.15625, 38.82857142857142, '\\n  (...)  \\n'),\n",
              " Text(52.3125, 116.48571428571432, '이용시간(분) <= 13.5\\n0.417\\n26632\\n[120, 5, 0, 18830, 7677]'),\n",
              " Text(43.59375, 38.82857142857142, '\\n  (...)  \\n'),\n",
              " Text(61.03125, 38.82857142857142, '\\n  (...)  \\n'),\n",
              " Text(104.625, 194.14285714285717, '이용시간(분) <= 10.5\\n0.409\\n90244\\n[120, 19, 6, 64424, 25675]'),\n",
              " Text(87.1875, 116.48571428571432, '이용시간(분) <= 6.5\\n0.326\\n42403\\n[41, 13, 2, 33715, 8632]'),\n",
              " Text(78.46875, 38.82857142857142, '\\n  (...)  \\n'),\n",
              " Text(95.90625, 38.82857142857142, '\\n  (...)  \\n'),\n",
              " Text(122.0625, 116.48571428571432, '성별_F <= 0.5\\n0.461\\n47841\\n[79, 6, 4, 30709, 17043]'),\n",
              " Text(113.34375, 38.82857142857142, '\\n  (...)  \\n'),\n",
              " Text(130.78125, 38.82857142857142, '\\n  (...)  \\n'),\n",
              " Text(209.25, 271.8, '연령대코드_AGE_003 <= 0.5\\n0.49\\n171000\\n[1175, 1, 1410, 103234, 65180]'),\n",
              " Text(174.375, 194.14285714285717, '연령대코드_AGE_001 <= 0.5\\n0.459\\n118393\\n[917, 0, 1371, 78474, 37631]'),\n",
              " Text(156.9375, 116.48571428571432, '연령대코드_AGE_008 <= 0.5\\n0.419\\n100503\\n[767, 0, 1371, 71838, 26527]'),\n",
              " Text(148.21875, 38.82857142857142, '\\n  (...)  \\n'),\n",
              " Text(165.65625, 38.82857142857142, '\\n  (...)  \\n'),\n",
              " Text(191.8125, 116.48571428571432, '이동거리(M) <= 3635.0\\n0.477\\n17890\\n[150, 0, 0, 6636, 11104]'),\n",
              " Text(183.09375, 38.82857142857142, '\\n  (...)  \\n'),\n",
              " Text(200.53125, 38.82857142857142, '\\n  (...)  \\n'),\n",
              " Text(244.125, 194.14285714285717, '이용시간(분) <= 111.5\\n0.504\\n52607\\n[258, 1, 39, 24760, 27549]'),\n",
              " Text(226.6875, 116.48571428571432, '이용시간(분) <= 41.5\\n0.505\\n49284\\n[242, 1, 37, 23795, 25209]'),\n",
              " Text(217.96875, 38.82857142857142, '\\n  (...)  \\n'),\n",
              " Text(235.40625, 38.82857142857142, '\\n  (...)  \\n'),\n",
              " Text(261.5625, 116.48571428571432, '이동거리(M) <= 6685.0\\n0.42\\n3323\\n[16, 0, 2, 965, 2340]'),\n",
              " Text(252.84375, 38.82857142857142, '\\n  (...)  \\n'),\n",
              " Text(270.28125, 38.82857142857142, '\\n  (...)  \\n'),\n",
              " Text(418.5, 349.4571428571429, '연령대코드_AGE_001 <= 0.5\\n0.22\\n322022\\n[7202, 4, 118, 282551, 32147]'),\n",
              " Text(348.75, 271.8, '이용시간(분) <= 73.5\\n0.195\\n309977\\n[5575, 3, 118, 276732, 27549]'),\n",
              " Text(313.875, 194.14285714285717, '연령대코드_AGE_003 <= 0.5\\n0.12\\n163972\\n[1393, 2, 43, 153504, 9030]'),\n",
              " Text(296.4375, 116.48571428571432, '연령대코드_AGE_008 <= 0.5\\n0.066\\n85499\\n[915, 0, 43, 82601, 1940]'),\n",
              " Text(287.71875, 38.82857142857142, '\\n  (...)  \\n'),\n",
              " Text(305.15625, 38.82857142857142, '\\n  (...)  \\n'),\n",
              " Text(331.3125, 116.48571428571432, '이용건수 <= 2.5\\n0.175\\n78473\\n[478, 2, 0, 70903, 7090]'),\n",
              " Text(322.59375, 38.82857142857142, '\\n  (...)  \\n'),\n",
              " Text(340.03125, 38.82857142857142, '\\n  (...)  \\n'),\n",
              " Text(383.625, 194.14285714285717, '이용건수 <= 2.5\\n0.271\\n146005\\n[4182, 1, 75, 123228, 18519]'),\n",
              " Text(366.1875, 116.48571428571432, '연령대코드_AGE_003 <= 0.5\\n0.443\\n44193\\n[2656, 0, 55, 31235, 10247]'),\n",
              " Text(357.46875, 38.82857142857142, '\\n  (...)  \\n'),\n",
              " Text(374.90625, 38.82857142857142, '\\n  (...)  \\n'),\n",
              " Text(401.0625, 116.48571428571432, '이용시간(분) <= 176.5\\n0.177\\n101812\\n[1526, 1, 20, 91993, 8272]'),\n",
              " Text(392.34375, 38.82857142857142, '\\n  (...)  \\n'),\n",
              " Text(409.78125, 38.82857142857142, '\\n  (...)  \\n'),\n",
              " Text(488.25, 271.8, '이용시간(분) <= 61.5\\n0.603\\n12045\\n[1627, 1, 0, 5819, 4598]'),\n",
              " Text(453.375, 194.14285714285717, '이용시간(분) <= 33.5\\n0.433\\n5559\\n[411, 1, 0, 4005, 1142]'),\n",
              " Text(435.9375, 116.48571428571432, '이용시간(분) <= 18.5\\n0.325\\n3023\\n[132, 1, 0, 2439, 451]'),\n",
              " Text(427.21875, 38.82857142857142, '\\n  (...)  \\n'),\n",
              " Text(444.65625, 38.82857142857142, '\\n  (...)  \\n'),\n",
              " Text(470.8125, 116.48571428571432, '이용건수 <= 2.5\\n0.532\\n2536\\n[279, 0, 0, 1566, 691]'),\n",
              " Text(462.09375, 38.82857142857142, '\\n  (...)  \\n'),\n",
              " Text(479.53125, 38.82857142857142, '\\n  (...)  \\n'),\n",
              " Text(523.125, 194.14285714285717, '이용시간(분) <= 143.5\\n0.603\\n6486\\n[1216, 0, 0, 1814, 3456]'),\n",
              " Text(505.6875, 116.48571428571432, '이동거리(M) <= 4865.0\\n0.632\\n4248\\n[830, 0, 0, 1482, 1936]'),\n",
              " Text(496.96875, 38.82857142857142, '\\n  (...)  \\n'),\n",
              " Text(514.40625, 38.82857142857142, '\\n  (...)  \\n'),\n",
              " Text(540.5625, 116.48571428571432, '탄소량 <= 1.995\\n0.487\\n2238\\n[386, 0, 0, 332, 1520]'),\n",
              " Text(531.84375, 38.82857142857142, '\\n  (...)  \\n'),\n",
              " Text(549.28125, 38.82857142857142, '\\n  (...)  \\n'),\n",
              " Text(837.0, 427.11428571428576, '이용건수 <= 2.5\\n0.468\\n388449\\n[4327, 33, 52, 249220, 134817]'),\n",
              " Text(697.5, 349.4571428571429, '이용시간(분) <= 36.5\\n0.504\\n251808\\n[3626, 33, 52, 141916, 106181]'),\n",
              " Text(627.75, 271.8, '이용건수 <= 1.5\\n0.457\\n157896\\n[889, 33, 11, 103192, 53771]'),\n",
              " Text(592.875, 194.14285714285717, '이용시간(분) <= 11.5\\n0.483\\n119638\\n[403, 32, 11, 71883, 47309]'),\n",
              " Text(575.4375, 116.48571428571432, '이용시간(분) <= 5.5\\n0.418\\n56648\\n[126, 22, 2, 39884, 16614]'),\n",
              " Text(566.71875, 38.82857142857142, '\\n  (...)  \\n'),\n",
              " Text(584.15625, 38.82857142857142, '\\n  (...)  \\n'),\n",
              " Text(610.3125, 116.48571428571432, '이용시간(분) <= 20.5\\n0.504\\n62990\\n[277, 10, 9, 31999, 30695]'),\n",
              " Text(601.59375, 38.82857142857142, '\\n  (...)  \\n'),\n",
              " Text(619.03125, 38.82857142857142, '\\n  (...)  \\n'),\n",
              " Text(662.625, 194.14285714285717, '이용시간(분) <= 20.5\\n0.302\\n38258\\n[486, 1, 0, 31309, 6462]'),\n",
              " Text(645.1875, 116.48571428571432, '이용시간(분) <= 14.5\\n0.212\\n18655\\n[183, 0, 0, 16431, 2041]'),\n",
              " Text(636.46875, 38.82857142857142, '\\n  (...)  \\n'),\n",
              " Text(653.90625, 38.82857142857142, '\\n  (...)  \\n'),\n",
              " Text(680.0625, 116.48571428571432, '이용시간(분) <= 28.5\\n0.373\\n19603\\n[303, 1, 0, 14878, 4421]'),\n",
              " Text(671.34375, 38.82857142857142, '\\n  (...)  \\n'),\n",
              " Text(688.78125, 38.82857142857142, '\\n  (...)  \\n'),\n",
              " Text(767.25, 271.8, '이용건수 <= 1.5\\n0.518\\n93912\\n[2737, 0, 41, 38724, 52410]'),\n",
              " Text(732.375, 194.14285714285717, '이용시간(분) <= 89.5\\n0.452\\n43644\\n[377, 0, 40, 14207, 29020]'),\n",
              " Text(714.9375, 116.48571428571432, '이동거리(M) <= 3085.0\\n0.464\\n34853\\n[325, 0, 26, 11987, 22515]'),\n",
              " Text(706.21875, 38.82857142857142, '\\n  (...)  \\n'),\n",
              " Text(723.65625, 38.82857142857142, '\\n  (...)  \\n'),\n",
              " Text(749.8125, 116.48571428571432, '이동거리(M) <= 5665.0\\n0.389\\n8791\\n[52, 0, 14, 2220, 6505]'),\n",
              " Text(741.09375, 38.82857142857142, '\\n  (...)  \\n'),\n",
              " Text(758.53125, 38.82857142857142, '\\n  (...)  \\n'),\n",
              " Text(802.125, 194.14285714285717, '이용시간(분) <= 78.5\\n0.543\\n50268\\n[2360, 0, 1, 24517, 23390]'),\n",
              " Text(784.6875, 116.48571428571432, '이용시간(분) <= 52.5\\n0.505\\n28528\\n[801, 0, 1, 16854, 10872]'),\n",
              " Text(775.96875, 38.82857142857142, '\\n  (...)  \\n'),\n",
              " Text(793.40625, 38.82857142857142, '\\n  (...)  \\n'),\n",
              " Text(819.5625, 116.48571428571432, '이용시간(분) <= 137.5\\n0.539\\n21740\\n[1559, 0, 0, 7663, 12518]'),\n",
              " Text(810.84375, 38.82857142857142, '\\n  (...)  \\n'),\n",
              " Text(828.28125, 38.82857142857142, '\\n  (...)  \\n'),\n",
              " Text(976.5, 349.4571428571429, '이용시간(분) <= 144.5\\n0.339\\n136641\\n[701, 0, 0, 107304, 28636]'),\n",
              " Text(906.75, 271.8, '이용건수 <= 3.5\\n0.239\\n89497\\n[302, 0, 0, 77114, 12081]'),\n",
              " Text(871.875, 194.14285714285717, '이용시간(분) <= 63.5\\n0.334\\n42877\\n[230, 0, 0, 33856, 8791]'),\n",
              " Text(854.4375, 116.48571428571432, '이용시간(분) <= 41.5\\n0.186\\n23668\\n[66, 0, 0, 21219, 2383]'),\n",
              " Text(845.71875, 38.82857142857142, '\\n  (...)  \\n'),\n",
              " Text(863.15625, 38.82857142857142, '\\n  (...)  \\n'),\n",
              " Text(889.3125, 116.48571428571432, '이용시간(분) <= 93.5\\n0.456\\n19209\\n[164, 0, 0, 12637, 6408]'),\n",
              " Text(880.59375, 38.82857142857142, '\\n  (...)  \\n'),\n",
              " Text(898.03125, 38.82857142857142, '\\n  (...)  \\n'),\n",
              " Text(941.625, 194.14285714285717, '이용건수 <= 4.5\\n0.134\\n46620\\n[72, 0, 0, 43258, 3290]'),\n",
              " Text(924.1875, 116.48571428571432, '이용시간(분) <= 86.5\\n0.2\\n22307\\n[62, 0, 0, 19797, 2448]'),\n",
              " Text(915.46875, 38.82857142857142, '\\n  (...)  \\n'),\n",
              " Text(932.90625, 38.82857142857142, '\\n  (...)  \\n'),\n",
              " Text(959.0625, 116.48571428571432, '이용건수 <= 5.5\\n0.068\\n24313\\n[10, 0, 0, 23461, 842]'),\n",
              " Text(950.34375, 38.82857142857142, '\\n  (...)  \\n'),\n",
              " Text(967.78125, 38.82857142857142, '\\n  (...)  \\n'),\n",
              " Text(1046.25, 271.8, '이용건수 <= 5.5\\n0.467\\n47144\\n[399, 0, 0, 30190, 16555]'),\n",
              " Text(1011.375, 194.14285714285717, '이용시간(분) <= 227.5\\n0.514\\n20843\\n[349, 0, 0, 9594, 10900]'),\n",
              " Text(993.9375, 116.48571428571432, '이용건수 <= 3.5\\n0.512\\n15125\\n[220, 0, 0, 7987, 6918]'),\n",
              " Text(985.21875, 38.82857142857142, '\\n  (...)  \\n'),\n",
              " Text(1002.65625, 38.82857142857142, '\\n  (...)  \\n'),\n",
              " Text(1028.8125, 116.48571428571432, '탄소량 <= 2.425\\n0.436\\n5718\\n[129, 0, 0, 1607, 3982]'),\n",
              " Text(1020.09375, 38.82857142857142, '\\n  (...)  \\n'),\n",
              " Text(1037.53125, 38.82857142857142, '\\n  (...)  \\n'),\n",
              " Text(1081.125, 194.14285714285717, '이용시간(분) <= 345.5\\n0.341\\n26301\\n[50, 0, 0, 20596, 5655]'),\n",
              " Text(1063.6875, 116.48571428571432, '이용건수 <= 7.5\\n0.213\\n18887\\n[27, 0, 0, 16607, 2253]'),\n",
              " Text(1054.96875, 38.82857142857142, '\\n  (...)  \\n'),\n",
              " Text(1072.40625, 38.82857142857142, '\\n  (...)  \\n'),\n",
              " Text(1098.5625, 116.48571428571432, '이용건수 <= 9.5\\n0.5\\n7414\\n[23, 0, 0, 3989, 3402]'),\n",
              " Text(1089.84375, 38.82857142857142, '\\n  (...)  \\n'),\n",
              " Text(1107.28125, 38.82857142857142, '\\n  (...)  \\n')]"
            ]
          },
          "metadata": {},
          "execution_count": 54
        }
      ]
    },
    {
      "cell_type": "markdown",
      "metadata": {
        "id": "ZN_YJ_Rq9txt"
      },
      "source": [
        "RuntimeWarning: Glyph 47049 missing from current font.\n",
        "\n",
        "런타임 경고: 현재 글꼴에서 Glyph 47049가 누락되었습니다.      \n",
        "외부 API에서 가져와 폰트를 설치시도    \n",
        "설치가 제대로 됬다고 컴파일 됬으나 인식하지 못하는 3번이상의 오류,    \n",
        "구글 드라이브에 폰트를 넣어야되는 걸로 예상됨\n",
        "- 폰트를 넣고나서 경로지정 후 다시해보기\n",
        "- Mydrive 안에 폰트를 넣고 다시 해봤으나 오류.."
      ]
    },
    {
      "cell_type": "markdown",
      "metadata": {
        "id": "SgZZ_8mMjYTJ"
      },
      "source": [
        "# 랜덤포레스트"
      ]
    },
    {
      "cell_type": "code",
      "metadata": {
        "id": "3ObrxxcKjYTJ"
      },
      "source": [
        "from sklearn.ensemble import RandomForestClassifier"
      ],
      "execution_count": null,
      "outputs": []
    },
    {
      "cell_type": "code",
      "metadata": {
        "id": "4q6ZpdngjYTJ"
      },
      "source": [
        "model = RandomForestClassifier(max_depth = 10, random_state = 100)"
      ],
      "execution_count": null,
      "outputs": []
    },
    {
      "cell_type": "code",
      "metadata": {
        "colab": {
          "base_uri": "https://localhost:8080/"
        },
        "id": "gOTBTyn-jYTJ",
        "outputId": "7632cd2f-fbbe-4ab4-9f87-c53b3f94fe5e"
      },
      "source": [
        "model.fit(X_train, y_train)"
      ],
      "execution_count": null,
      "outputs": [
        {
          "output_type": "execute_result",
          "data": {
            "text/plain": [
              "RandomForestClassifier(bootstrap=True, ccp_alpha=0.0, class_weight=None,\n",
              "                       criterion='gini', max_depth=10, max_features='auto',\n",
              "                       max_leaf_nodes=None, max_samples=None,\n",
              "                       min_impurity_decrease=0.0, min_impurity_split=None,\n",
              "                       min_samples_leaf=1, min_samples_split=2,\n",
              "                       min_weight_fraction_leaf=0.0, n_estimators=100,\n",
              "                       n_jobs=None, oob_score=False, random_state=100,\n",
              "                       verbose=0, warm_start=False)"
            ]
          },
          "metadata": {},
          "execution_count": 57
        }
      ]
    },
    {
      "cell_type": "code",
      "metadata": {
        "id": "-ibh-956jYTJ"
      },
      "source": [
        "pred = model.predict(X_test)"
      ],
      "execution_count": null,
      "outputs": []
    },
    {
      "cell_type": "code",
      "metadata": {
        "id": "exh7djOnjYTK",
        "colab": {
          "base_uri": "https://localhost:8080/"
        },
        "outputId": "369040d1-ce84-42e0-88ce-364210a6c3c4"
      },
      "source": [
        "y_test"
      ],
      "execution_count": null,
      "outputs": [
        {
          "output_type": "execute_result",
          "data": {
            "text/plain": [
              "1018537      memday\n",
              "2473591      memday\n",
              "2187189    seasonal\n",
              "1351449    seasonal\n",
              "1584534      memday\n",
              "             ...   \n",
              "2084582    seasonal\n",
              "2460769    seasonal\n",
              "520236       memday\n",
              "349052       memday\n",
              "2613147      memday\n",
              "Name: 대여구분코드, Length: 291128, dtype: object"
            ]
          },
          "metadata": {},
          "execution_count": 59
        }
      ]
    },
    {
      "cell_type": "code",
      "metadata": {
        "id": "aKijfjHHjYTK",
        "colab": {
          "base_uri": "https://localhost:8080/"
        },
        "outputId": "dfcb0590-9543-4f5c-aa80-0c421146bd26"
      },
      "source": [
        "accuracy_score(y_test, pred)"
      ],
      "execution_count": null,
      "outputs": [
        {
          "output_type": "execute_result",
          "data": {
            "text/plain": [
              "0.7780082987551867"
            ]
          },
          "metadata": {},
          "execution_count": 60
        }
      ]
    },
    {
      "cell_type": "code",
      "metadata": {
        "id": "wwGXvHnajYTK",
        "colab": {
          "base_uri": "https://localhost:8080/"
        },
        "outputId": "76660af9-db97-4b2e-88c9-176ed6cebc70"
      },
      "source": [
        "confusion_matrix(y_test, pred)"
      ],
      "execution_count": null,
      "outputs": [
        {
          "output_type": "execute_result",
          "data": {
            "text/plain": [
              "array([[     0,      0,      1,   2603,    735],\n",
              "       [     0,      0,      0,     18,      0],\n",
              "       [     0,      0,    393,    169,     10],\n",
              "       [     0,      0,     22, 207241,   9569],\n",
              "       [     0,      0,     29,  51472,  18866]])"
            ]
          },
          "metadata": {},
          "execution_count": 61
        }
      ]
    },
    {
      "cell_type": "markdown",
      "metadata": {
        "id": "CbpBfT19jYTK"
      },
      "source": [
        "# 최적 max_depth 찾기"
      ]
    },
    {
      "cell_type": "code",
      "metadata": {
        "id": "392Qx3xWjYTK",
        "scrolled": true,
        "colab": {
          "base_uri": "https://localhost:8080/"
        },
        "outputId": "0e1d75ad-3fe9-4a2e-e468-d2c6d081c312"
      },
      "source": [
        "for i in range(2,20):\n",
        "    model = RandomForestClassifier(max_depth=i, random_state=100)\n",
        "    model.fit(X_train, y_train)\n",
        "    pred = model.predict(X_test)\n",
        "    print(i, accuracy_score(y_test, pred))"
      ],
      "execution_count": null,
      "outputs": [
        {
          "output_type": "stream",
          "name": "stdout",
          "text": [
            "2 0.7447995383473935\n",
            "3 0.7447995383473935\n",
            "4 0.7447995383473935\n",
            "5 0.7473928993432442\n",
            "6 0.7562275013052678\n",
            "7 0.7629221510813113\n",
            "8 0.7661784507158363\n",
            "9 0.7712140364375807\n",
            "10 0.7780082987551867\n",
            "11 0.7811752905938282\n",
            "12 0.7833530268472975\n",
            "13 0.7846617295485148\n",
            "14 0.785640680388008\n",
            "15 0.7865406281772965\n",
            "16 0.7868909895303784\n",
            "17 0.7869596878349042\n",
            "18 0.7866402407188591\n",
            "19 0.7861524827567256\n"
          ]
        }
      ]
    },
    {
      "cell_type": "markdown",
      "metadata": {
        "id": "QPJT3091sXKd"
      },
      "source": [
        "17에서 78.69%의 정확도로 가장높게 나오고 18번 째 부터 감소하여 종료\n",
        "- 오류로 종료가 아님"
      ]
    },
    {
      "cell_type": "markdown",
      "metadata": {
        "id": "oC-4OSO8DjvU"
      },
      "source": [
        "시간이 너무 오래걸려서 12까지만 돌리고 종료...\n",
        "\n",
        "- 가지가 늘어날수록 제곱으로 늘어나기 때문에 느려질 수 밖에 없다\n",
        "\n"
      ]
    },
    {
      "cell_type": "code",
      "metadata": {
        "id": "z3xc2QXljYTK",
        "colab": {
          "base_uri": "https://localhost:8080/"
        },
        "outputId": "1511e19a-c380-4cd0-a8b9-ecb46118381a"
      },
      "source": [
        "model = RandomForestClassifier(max_depth=17, random_state=100)\n",
        "model.fit(X_train, y_train)\n",
        "pred = model.predict(X_test)\n",
        "print( accuracy_score(y_test, pred))"
      ],
      "execution_count": null,
      "outputs": [
        {
          "output_type": "stream",
          "name": "stdout",
          "text": [
            "0.7869596878349042\n"
          ]
        }
      ]
    },
    {
      "cell_type": "markdown",
      "metadata": {
        "id": "o233yfqqsjK-"
      },
      "source": [
        "17번째로 값을 수정하고 코드실행"
      ]
    },
    {
      "cell_type": "code",
      "metadata": {
        "id": "EYJqnwZqjYTL"
      },
      "source": [
        "from sklearn.metrics import log_loss"
      ],
      "execution_count": null,
      "outputs": []
    },
    {
      "cell_type": "code",
      "metadata": {
        "id": "7IXC-L_0jYTL"
      },
      "source": [
        "#logloss = log_loss(y_test, pred)"
      ],
      "execution_count": null,
      "outputs": []
    },
    {
      "cell_type": "code",
      "metadata": {
        "id": "J_j9E7cJjYTL",
        "scrolled": true,
        "colab": {
          "base_uri": "https://localhost:8080/"
        },
        "outputId": "827aae3a-6f92-4662-c988-fd5370aa6551"
      },
      "source": [
        "confusion_matrix(y_test, pred)"
      ],
      "execution_count": null,
      "outputs": [
        {
          "output_type": "execute_result",
          "data": {
            "text/plain": [
              "array([[    23,      0,      1,   2253,   1062],\n",
              "       [     0,      0,      0,     14,      4],\n",
              "       [     0,      0,    478,     78,     16],\n",
              "       [    17,      0,     61, 201333,  15421],\n",
              "       [    21,      0,     37,  43037,  27272]])"
            ]
          },
          "metadata": {},
          "execution_count": 66
        }
      ]
    },
    {
      "cell_type": "code",
      "metadata": {
        "id": "rYnFjBhkjYTL",
        "colab": {
          "base_uri": "https://localhost:8080/"
        },
        "outputId": "91c0067b-8661-4f5b-fe8a-a3409cbe5fae"
      },
      "source": [
        "accuracy_score(y_test, pred)"
      ],
      "execution_count": null,
      "outputs": [
        {
          "output_type": "execute_result",
          "data": {
            "text/plain": [
              "0.7869596878349042"
            ]
          },
          "metadata": {},
          "execution_count": 67
        }
      ]
    },
    {
      "cell_type": "markdown",
      "metadata": {
        "id": "fgJNVo-KtAyr"
      },
      "source": [
        "정확도 78.69%"
      ]
    },
    {
      "cell_type": "code",
      "metadata": {
        "id": "PZqOY55VjYTL"
      },
      "source": [
        "from sklearn.metrics import classification_report"
      ],
      "execution_count": null,
      "outputs": []
    },
    {
      "cell_type": "code",
      "metadata": {
        "id": "EFsgpErAjYTL",
        "colab": {
          "base_uri": "https://localhost:8080/"
        },
        "outputId": "fa9418fa-8ffd-4ce3-d735-090ce8d1626d"
      },
      "source": [
        "print(classification_report(y_test, pred))"
      ],
      "execution_count": null,
      "outputs": [
        {
          "output_type": "stream",
          "name": "stderr",
          "text": [
            "/usr/local/lib/python3.7/dist-packages/sklearn/metrics/_classification.py:1272: UndefinedMetricWarning: Precision and F-score are ill-defined and being set to 0.0 in labels with no predicted samples. Use `zero_division` parameter to control this behavior.\n",
            "  _warn_prf(average, modifier, msg_start, len(result))\n"
          ]
        },
        {
          "output_type": "stream",
          "name": "stdout",
          "text": [
            "              precision    recall  f1-score   support\n",
            "\n",
            "        cash       0.38      0.01      0.01      3339\n",
            "         day       0.00      0.00      0.00        18\n",
            "       group       0.83      0.84      0.83       572\n",
            "      memday       0.82      0.93      0.87    216832\n",
            "    seasonal       0.62      0.39      0.48     70367\n",
            "\n",
            "    accuracy                           0.79    291128\n",
            "   macro avg       0.53      0.43      0.44    291128\n",
            "weighted avg       0.76      0.79      0.76    291128\n",
            "\n"
          ]
        }
      ]
    },
    {
      "cell_type": "code",
      "metadata": {
        "id": "Y-8nDjAkjYTM"
      },
      "source": [
        ""
      ],
      "execution_count": null,
      "outputs": []
    }
  ]
}